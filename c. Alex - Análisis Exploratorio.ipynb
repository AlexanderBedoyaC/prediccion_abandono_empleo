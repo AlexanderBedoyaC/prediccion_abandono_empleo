{
 "cells": [
  {
   "cell_type": "markdown",
   "metadata": {},
   "source": [
    "# 1. Importar librerías"
   ]
  },
  {
   "cell_type": "code",
   "execution_count": 11,
   "metadata": {},
   "outputs": [
    {
     "data": {
      "text/plain": [
       "<module 'funciones' from 'c:\\\\Users\\\\USUARIO\\\\OneDrive - Universidad de Antioquia\\\\Aprendizaje\\\\Universidad\\\\2024-1\\\\Aplicaciones de la Analítica\\\\Recursos Humanos\\\\recursos_humanos\\\\utils\\\\funciones.py'>"
      ]
     },
     "execution_count": 11,
     "metadata": {},
     "output_type": "execute_result"
    }
   ],
   "source": [
    "#Librerías para manipulación de datos\n",
    "import pandas as pd\n",
    "\n",
    "#Librerías para visualización\n",
    "import matplotlib.pyplot as plt\n",
    "import seaborn as sns\n",
    "from plotly.subplots import make_subplots\n",
    "import plotly.graph_objects as go\n",
    "\n",
    "#Importar módulo de funciones\n",
    "import sys\n",
    "sys.path.insert(0, 'utils')  # Añadir el directorio 'utils' al PATH\n",
    "import funciones\n",
    "from importlib import reload\n",
    "reload(funciones)  # Recarga el módulo"
   ]
  },
  {
   "cell_type": "markdown",
   "metadata": {},
   "source": [
    "# 2. Importar datos"
   ]
  },
  {
   "cell_type": "code",
   "execution_count": 12,
   "metadata": {},
   "outputs": [],
   "source": [
    "data = funciones.get_data('data_train')"
   ]
  },
  {
   "cell_type": "code",
   "execution_count": 13,
   "metadata": {},
   "outputs": [
    {
     "name": "stdout",
     "output_type": "stream",
     "text": [
      "<class 'pandas.core.frame.DataFrame'>\n",
      "RangeIndex: 4410 entries, 0 to 4409\n",
      "Data columns (total 27 columns):\n",
      " #   Column                   Non-Null Count  Dtype  \n",
      "---  ------                   --------------  -----  \n",
      " 0   InfoDate                 4410 non-null   dbdate \n",
      " 1   EmployeeID               4410 non-null   Int64  \n",
      " 2   Age                      4410 non-null   Int64  \n",
      " 3   DistanceFromHome         4410 non-null   Int64  \n",
      " 4   MonthlyIncome            4410 non-null   Int64  \n",
      " 5   NumCompaniesWorked       4410 non-null   float64\n",
      " 6   PercentSalaryHike        4410 non-null   Int64  \n",
      " 7   StockOptionLevel         4410 non-null   Int64  \n",
      " 8   TrainingTimesLastYear    4410 non-null   Int64  \n",
      " 9   YearsAtCompany           4410 non-null   Int64  \n",
      " 10  YearsSinceLastPromotion  4410 non-null   Int64  \n",
      " 11  YearsWithCurrManager     4410 non-null   Int64  \n",
      " 12  TotalWorkingYears        4410 non-null   float64\n",
      " 13  EnvironmentSatisfaction  4410 non-null   float64\n",
      " 14  JobSatisfaction          4410 non-null   float64\n",
      " 15  WorkLifeBalance          4410 non-null   float64\n",
      " 16  BusinessTravel           4410 non-null   object \n",
      " 17  Department               4410 non-null   object \n",
      " 18  Education                4410 non-null   object \n",
      " 19  Gender                   4410 non-null   object \n",
      " 20  JobLevel                 4410 non-null   Int64  \n",
      " 21  JobRole                  4410 non-null   object \n",
      " 22  MaritalStatus            4410 non-null   object \n",
      " 23  retirementType           650 non-null    object \n",
      " 24  resignationReason        585 non-null    object \n",
      " 25  Attrition                4410 non-null   Int64  \n",
      " 26  retirementDate           650 non-null    dbdate \n",
      "dtypes: Int64(12), dbdate(2), float64(5), object(8)\n",
      "memory usage: 982.0+ KB\n"
     ]
    }
   ],
   "source": [
    "data.info()"
   ]
  }
 ],
 "metadata": {
  "kernelspec": {
   "display_name": "Python 3",
   "language": "python",
   "name": "python3"
  },
  "language_info": {
   "codemirror_mode": {
    "name": "ipython",
    "version": 3
   },
   "file_extension": ".py",
   "mimetype": "text/x-python",
   "name": "python",
   "nbconvert_exporter": "python",
   "pygments_lexer": "ipython3",
   "version": "3.10.10"
  },
  "orig_nbformat": 4
 },
 "nbformat": 4,
 "nbformat_minor": 2
}
