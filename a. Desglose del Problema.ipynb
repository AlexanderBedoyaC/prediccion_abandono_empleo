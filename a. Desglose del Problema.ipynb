{
 "cells": [
  {
   "cell_type": "markdown",
   "metadata": {},
   "source": [
    "## Problema:\n",
    "\n",
    "-\tTasa alta de retiros (alrededor del 15% anual). Proponer una solución analítica que permitan tomar acción para reducir a 12% o menos la tasa de retiros, usando la información disponible de los empleados.\n",
    "\n",
    "## Algunos problemas de una tasa alta de retiros:\n",
    "\n",
    "-\tCostos de contratación (reclutamiento, selección, contratación y capacitación).\n",
    "-\tCurva de aprendizaje.\n",
    "-\tContrataciones no efectivas (se retiran en periodo de prueba).\n",
    "-\tLos proyectos en los que los empleados trabajan se atrasan y se pueden ver comprometidas las fechas establecidas y esto puede llegar a afectar satisfacción de clientes y usuarios.\n",
    "-\tEl trabajo del área de selección se aumenta y por lo tanto implica tener un área de mayor tamaño para el reclutamiento de las personas que se van.\n",
    "-\tLos empleados que permanecen tienen que trabajar más para cubrir las labores de las personas que se retiran y para la capacitación de las nuevas que llegan.\n",
    "-\tEl conocimiento que tenían las personas y su experiencia se pierde y, debido a esto, el tiempo para ejecutar procesos aumenta.\n",
    "\n",
    "\n",
    "## Procesos Impactados\n",
    "-\tContratación de personal\n",
    "-\tProcesos relacionados o que presenten dependencia con el puesto abandonado.\n",
    "\n",
    "\n",
    "## Problema de negocio:\n",
    "\n",
    "-\tReducir la tasa de retiros al 12% o menos.\n",
    "-\tMejorar las prestaciones de la empresa y la satisfacción de los empleados para garantizar permanencia de los empleados y a su vez hacerla más atractiva para profesionales muy capacitados.\n",
    "\n",
    "## Problema analítico:\n",
    "\n",
    "-\tElegir, usar y explotar correcta y eficientemente la información disponible de los empleados.\n",
    "-\tIdentificar, a través de los datos, causas y correlaciones entre los retiros de los empleados y otras variables importantes.\n",
    "-\tCrear un reporte que permita entender las causas y entender relaciones entre los retiros de los empleados y otras variables para atacar estas variables y así aumentar la permanencia de los empleados.\n",
    "-\tEntrenar un modelo adecuado que permita predecir con buen si un empleado se va a retirar y con esta información tomar acciones estratégicas con este empleado para evitar su abandono.\n",
    "-\tEn caso de que no sea posible retener al empleado que se predice que se irá, poder llevar a cabo con antelación procesos de contratación y capacitación. Evitando retrasos en procesos de los que se encarga este empleado y evitando la saturación de los procesos de contratación.\n",
    "\n",
    "## ¿Cómo influye la solución del problema analítico en el problema de negocio?\n",
    "\n",
    "## Zoom a la solución analítica\n",
    "\n",
    "- Se entrena un modelo supervisado de clasificación que predice si un empleado va a renunciar o no a su puesto de trabajo el año siguiente. Esto es modificable según las evaluaciones que se vean con las acciones tomadas.\n",
    "\n",
    "- Las predicciones generadas por el modelo se usarán para determinar los departamentos en los que se prevé que habrán más renuncias y tomar acciones preventivas.\n",
    "\n",
    "- Las predicciones de renuncias se dejan en una base de datos a la que tienen acceso las personas de recursos humanos para utilizar dicha intervenir con las áreas o directamente con los empleados que de prevé van a renunciar.\n",
    "\n",
    "- Se genera una lista de las variables que más influyeron en las renuncias de los empleados y se presentan a recursos humanos para que generen estrategias que permitan mejorar estas variables y así disminuir la tasa de renuncias. Además, estas variables serán tomadas para en cuenta como aspectos importantes en los criterios de selección de personal.\n",
    "\n",
    "- La información utilizada para la predicción es la que se tiene disponible al cierre del año anterior de los empleados y última encuesta de satisfacción y desempeño.\n",
    "\n",
    "- El modelo se re-entrena cada año, en cuanto se tengan los nuevos resultados de las encuestas de satisfacción y desempeño. Predicción anual"
   ]
  }
 ],
 "metadata": {
  "language_info": {
   "name": "python"
  },
  "orig_nbformat": 4
 },
 "nbformat": 4,
 "nbformat_minor": 2
}
