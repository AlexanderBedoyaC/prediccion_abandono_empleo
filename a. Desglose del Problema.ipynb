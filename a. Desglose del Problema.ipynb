{
 "cells": [
  {
   "cell_type": "markdown",
   "metadata": {},
   "source": [
    "## Problema:\n",
    "\n",
    "-\tTasa alta de retiros (alrededor del 15% anual). Proponer una solución analítica que permitan tomar acción para reducir a 12% o menos la tasa de retiros, usando la información disponible de los empleados.\n",
    "\n",
    "## Algunos problemas de una tasa alta de retiros:\n",
    "\n",
    "-\tCostos de contratación (reclutamiento, selección, contratación y capacitación).\n",
    "-\tCurva de aprendizaje.\n",
    "-\tContrataciones no efectivas (se retiran en periodo de prueba).\n",
    "-\tLos proyectos en los que los empleados trabajan se atrasan y se pueden ver comprometidas las fechas establecidas y esto puede llegar a afectar satisfacción de clientes y usuarios.\n",
    "-\tEl trabajo del área de selección se aumenta y por lo tanto implica tener un área de mayor tamaño para el reclutamiento de las personas que se van.\n",
    "-\tLos empleados que permanecen tienen que trabajar más para cubrir las labores de las personas que se retiran y para la capacitación de las nuevas que llegan.\n",
    "-\tEl conocimiento que tenían las personas y su experiencia se pierde y, debido a esto, el tiempo para ejecutar procesos aumenta.\n",
    "\n",
    "\n",
    "## Procesos Impactados\n",
    "-\tContratación de personal\n",
    "-\tProcesos relacionados o que presenten dependencia con el puesto abandonado.\n",
    "\n",
    "\n",
    "## Problema de negocio:\n",
    "\n",
    "-\tReducir la tasa de retiros al 12% o menos.\n",
    "-\tMejorar las prestaciones de la empresa y la satisfacción de los empleados para garantizar permanencia de los empleados y a su vez hacerla más atractiva para profesionales muy capacitados.\n",
    "\n",
    "## Problema analítico:\n",
    "\n",
    "-\tElegir, usar y explotar correcta y eficientemente la información disponible de los empleados.\n",
    "-\tIdentificar, a través de los datos, causas y correlaciones entre los retiros de los empleados y otras variables importantes.\n",
    "-\tEntrenar un modelo adecuado que permita predecir con precisión si un empleado se va a retirar y con esta información tomar acciones estratégicas con este empleado para evitar su abandono.\n",
    "-\tEn caso de que no sea posible retener al empleado que se predice que se irá, poder llevar a cabo con antelación procesos de contratación y capacitación. Evitando retrasos en procesos de los que se encarga este empleado y evitando la saturación de los procesos de contratación.\n"
   ]
  }
 ],
 "metadata": {
  "language_info": {
   "name": "python"
  },
  "orig_nbformat": 4
 },
 "nbformat": 4,
 "nbformat_minor": 2
}
