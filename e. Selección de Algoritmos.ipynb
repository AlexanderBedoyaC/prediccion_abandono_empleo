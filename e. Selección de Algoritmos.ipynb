{
 "cells": [
  {
   "cell_type": "markdown",
   "metadata": {},
   "source": [
    "# Seleccion de algoritmos \n",
    "Nos enfrentamos a un problema de clasificación binaria ya que queremos predecir si un trabajador continua durante el año o no, por tanto podríamos usar cualquier algoritmos de clasificación desde el más simple como una regresión logística hasta una red neuronal, pero necesitamos una alta interpretabilidad de la toma de decisiones del algoritmo para poder entender el proceso lógico que este sigue y la importancia que le da a las variables para poder hallar una forma de intervenir y bajar la tasa de retiros de la empresa, por tanto esto nos impide utilizar algoritmos avanzados con un alto nivel de complejidad, por tanto se usaran los siguientes algoritmos:\n",
    "\n",
    "* Arboles de decisión: son muy interpretables porque representan decisiones en forma de árbol, donde cada nodo interno representa una característica, cada rama representa una decisión basada en esa característica, y cada hoja representa una clase o valor de predicción. Son fáciles de visualizar y entender. Además, proporcionan información sobre la importancia relativa de cada característica en la toma de decisiones.\n",
    "\n",
    "* Regresión logística: este es un método clásico para problemas de clasificación binaria. La interpretación de sus coeficientes proporciona información sobre la influencia de cada característica en la predicción del resultado ya que produce coeficientes de regresión para cada una de las variables predictoras. Estos coeficientes indican la magnitud y la dirección de la relación entre cada variable predictora y la variable de respuesta (en este caso, la probabilidad de retiro). Los coeficientes positivos indican un aumento en la probabilidad de retiro, mientras que los coeficientes negativos indican una disminución.\n",
    "\n",
    "Adicional a estos dos algoritmos se usaran los algoritmos de Random forest y el Extreme Gradient Boosting, que son algoritmos más complejos con menos nivel de interpretabilidad pero que generalmente tienen un mejor rendimiento, para comparar el desempeño de estos dos algoritmos con los anteriores, si la diferencia no es muy grande se preferirán los modelos más simples por lo explicado anteriormente, en caso de que los algoritmos de Regresión logística o Árbol de decisión den un desempeño satisfactorio no se continuara explorando los otros dos algoritmos."
   ]
  }
 ],
 "metadata": {
  "language_info": {
   "name": "python"
  }
 },
 "nbformat": 4,
 "nbformat_minor": 2
}
