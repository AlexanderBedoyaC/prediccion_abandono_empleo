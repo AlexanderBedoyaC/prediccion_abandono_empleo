{
 "cells": [
  {
   "cell_type": "code",
   "execution_count": 1,
   "metadata": {},
   "outputs": [
    {
     "data": {
      "text/plain": [
       "<module 'funciones' from 'c:\\\\recursos_humanos\\\\utils\\\\funciones.py'>"
      ]
     },
     "execution_count": 1,
     "metadata": {},
     "output_type": "execute_result"
    }
   ],
   "source": [
    "import pandas as pd\n",
    "import numpy as np\n",
    "import joblib  ### para guardar model\n",
    "import matplotlib.pyplot as plt\n",
    "import plotly.express as px\n",
    "\n",
    "from sklearn.tree import plot_tree\n",
    "from sklearn.model_selection import train_test_split\n",
    "\n",
    "#Importar módulo de funciones\n",
    "import sys\n",
    "sys.path.insert(0, 'utils')  # Añadir el directorio 'utils' al PATH\n",
    "import funciones\n",
    "from importlib import reload\n",
    "reload(funciones)  # Recarga el módulo"
   ]
  },
  {
   "cell_type": "code",
   "execution_count": 15,
   "metadata": {},
   "outputs": [],
   "source": [
    "data_2016 = funciones.get_data('data_2016')"
   ]
  },
  {
   "cell_type": "code",
   "execution_count": 18,
   "metadata": {},
   "outputs": [
    {
     "name": "stderr",
     "output_type": "stream",
     "text": [
      "C:\\Users\\USUARIO\\AppData\\Local\\Temp\\ipykernel_16396\\122496393.py:5: SettingWithCopyWarning: \n",
      "A value is trying to be set on a copy of a slice from a DataFrame.\n",
      "Try using .loc[row_indexer,col_indexer] = value instead\n",
      "\n",
      "See the caveats in the documentation: https://pandas.pydata.org/pandas-docs/stable/user_guide/indexing.html#returning-a-view-versus-a-copy\n",
      "  data.EnvironmentSatisfaction = data.EnvironmentSatisfaction.astype('object')\n"
     ]
    }
   ],
   "source": [
    "data  = data_2016[['Age', 'DistanceFromHome', 'MonthlyIncome','NumCompaniesWorked', 'PercentSalaryHike',\n",
    "       'TrainingTimesLastYear', 'YearsAtCompany','EnvironmentSatisfaction', 'JobSatisfaction',\n",
    "       'JobSatisfaction', 'WorkLifeBalance','BusinessTravel','Department','EducationField', 'MaritalStatus']]\n",
    "\n",
    "data.EnvironmentSatisfaction = data.EnvironmentSatisfaction.astype('object')"
   ]
  },
  {
   "cell_type": "code",
   "execution_count": 12,
   "metadata": {},
   "outputs": [
    {
     "name": "stdout",
     "output_type": "stream",
     "text": [
      "<class 'pandas.core.frame.DataFrame'>\n",
      "RangeIndex: 4410 entries, 0 to 4409\n",
      "Data columns (total 15 columns):\n",
      " #   Column                   Non-Null Count  Dtype  \n",
      "---  ------                   --------------  -----  \n",
      " 0   Age                      4410 non-null   Int64  \n",
      " 1   DistanceFromHome         4410 non-null   Int64  \n",
      " 2   MonthlyIncome            4410 non-null   Int64  \n",
      " 3   NumCompaniesWorked       4410 non-null   float64\n",
      " 4   PercentSalaryHike        4410 non-null   Int64  \n",
      " 5   TrainingTimesLastYear    4410 non-null   Int64  \n",
      " 6   YearsAtCompany           4410 non-null   Int64  \n",
      " 7   EnvironmentSatisfaction  4410 non-null   float64\n",
      " 8   JobSatisfaction          4410 non-null   float64\n",
      " 9   JobSatisfaction          4410 non-null   float64\n",
      " 10  WorkLifeBalance          4410 non-null   float64\n",
      " 11  BusinessTravel           4410 non-null   object \n",
      " 12  Department               4410 non-null   object \n",
      " 13  EducationField           4410 non-null   object \n",
      " 14  MaritalStatus            4410 non-null   object \n",
      "dtypes: Int64(6), float64(5), object(4)\n",
      "memory usage: 542.8+ KB\n"
     ]
    }
   ],
   "source": [
    "data.info()"
   ]
  },
  {
   "cell_type": "code",
   "execution_count": null,
   "metadata": {},
   "outputs": [],
   "source": [
    "def preprocesamiento(data):\n",
    "    "
   ]
  },
  {
   "cell_type": "code",
   "execution_count": null,
   "metadata": {},
   "outputs": [],
   "source": [
    "def despliegue(data):\n",
    "    "
   ]
  }
 ],
 "metadata": {
  "kernelspec": {
   "display_name": "entorno",
   "language": "python",
   "name": "python3"
  },
  "language_info": {
   "codemirror_mode": {
    "name": "ipython",
    "version": 3
   },
   "file_extension": ".py",
   "mimetype": "text/x-python",
   "name": "python",
   "nbconvert_exporter": "python",
   "pygments_lexer": "ipython3",
   "version": "3.10.10"
  },
  "orig_nbformat": 4
 },
 "nbformat": 4,
 "nbformat_minor": 2
}
