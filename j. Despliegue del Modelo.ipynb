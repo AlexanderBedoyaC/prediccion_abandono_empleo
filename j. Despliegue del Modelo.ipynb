{
 "cells": [
  {
   "cell_type": "code",
   "execution_count": 1,
   "metadata": {},
   "outputs": [
    {
     "data": {
      "text/plain": [
       "<module 'funciones' from 'c:\\\\recursos_humanos\\\\utils\\\\funciones.py'>"
      ]
     },
     "execution_count": 1,
     "metadata": {},
     "output_type": "execute_result"
    }
   ],
   "source": [
    "import pandas as pd\n",
    "import numpy as np\n",
    "import joblib  ### para guardar model\n",
    "import matplotlib.pyplot as plt\n",
    "import plotly.express as px\n",
    "\n",
    "from sklearn.tree import plot_tree\n",
    "from sklearn.model_selection import train_test_split\n",
    "\n",
    "#Importar módulo de funciones\n",
    "import sys\n",
    "sys.path.insert(0, 'utils')  # Añadir el directorio 'utils' al PATH\n",
    "import funciones\n",
    "from importlib import reload\n",
    "reload(funciones)  # Recarga el módulo"
   ]
  },
  {
   "cell_type": "code",
   "execution_count": 71,
   "metadata": {},
   "outputs": [],
   "source": [
    "data_2016 = funciones.get_data('data_2016')"
   ]
  },
  {
   "cell_type": "code",
   "execution_count": 86,
   "metadata": {},
   "outputs": [],
   "source": [
    "data  = data_2016[['Age', 'DistanceFromHome', 'MonthlyIncome','NumCompaniesWorked', 'PercentSalaryHike',\n",
    "       'TrainingTimesLastYear', 'YearsAtCompany','EnvironmentSatisfaction', 'JobSatisfaction', 'WorkLifeBalance',\n",
    "       'BusinessTravel','Department','EducationField', 'MaritalStatus']].copy()\n",
    "\n",
    "for col in ['EnvironmentSatisfaction', 'JobSatisfaction', 'WorkLifeBalance','BusinessTravel','Department','EducationField', 'MaritalStatus']:\n",
    "       data[col] = data[col].astype('object')\n",
    "       \n",
    "data.NumCompaniesWorked = data.NumCompaniesWorked.astype('Int64')"
   ]
  },
  {
   "cell_type": "code",
   "execution_count": 79,
   "metadata": {},
   "outputs": [],
   "source": [
    "features_names = joblib.load(\"salidas/var_names.pkl\").features.values"
   ]
  },
  {
   "cell_type": "code",
   "execution_count": 87,
   "metadata": {},
   "outputs": [],
   "source": [
    "data_num = data.select_dtypes('Int64')\n",
    "data_cat = data.select_dtypes('object')\n",
    "\n",
    "# Asignar cvategorías\n",
    "EnvironmentSatisfaction = JobSatisfaction = {\n",
    "    1: 'Bajo',\n",
    "    2: 'Medio',\n",
    "    3: 'Alto',\n",
    "    4: 'Muy alto'\n",
    "}\n",
    "WorkLifeBalance = {\n",
    "    1: 'Mala',\n",
    "    2: 'Buena',\n",
    "    3: 'Muy buena',\n",
    "    4: 'La mejor'\n",
    "}\n",
    "\n",
    "data.EnvironmentSatisfaction.replace(EnvironmentSatisfaction, inplace=True)\n",
    "data.JobSatisfaction.replace(JobSatisfaction, inplace=True)\n",
    "data.WorkLifeBalance.replace(WorkLifeBalance, inplace=True)\n",
    "\n",
    "for col in data_cat:\n",
    "    if col == 'EnvironmentSatisfaction':\n",
    "        indices = data[~data[col].isin(['Bajo', 'Medio', 'Alto', 'Muy alto'])].index\n",
    "    elif col == 'JobSatisfaction':\n",
    "        indices = data[~data[col].isin(['Muy alto', 'Alto', 'Bajo', 'Medio'])].index\n",
    "    elif col == 'WorkLifeBalance':\n",
    "        indices = data[~data[col].isin(['La mejor', 'Buena', 'Mala', 'Muy buena'])].index\n",
    "    elif col == 'BusinessTravel':\n",
    "        indices = data[~data[col].isin(['Travel_Frequently', 'Travel_Rarely', 'Non-Travel'])].index\n",
    "    elif col == 'Department':\n",
    "        indices = data[~data[col].isin(['Sales', 'Research & Development', 'Human Resources'])].index\n",
    "    elif col == 'EducationField':\n",
    "        indices = data[~data[col].isin(['Life Sciences', 'Medical', 'Other', 'Technical Degree', 'Marketing', 'Human Resources'])].index\n",
    "    elif col == 'MaritalStatus':\n",
    "        indices = data[~data[col].isin(['Single', 'Married', 'Divorced'])].index\n",
    "    data.drop(indices, inplace = True)\n",
    "\n",
    "# Definir límites de outliers\n",
    "lims_outliers = {}\n",
    "for col in data_num:\n",
    "    q1 = data[col].quantile(.25)\n",
    "    q3 = data[col].quantile(.75)\n",
    "    iqr = q3 - q1\n",
    "    lim_inf = q1 - 3 * iqr\n",
    "    lim_sup = q3 + 3 * iqr\n",
    "    lims_outliers[col] = (lim_inf, lim_sup)\n",
    "\n",
    "# Tratar outliers y nulos en numéricas\n",
    "for col in data_num:\n",
    "    \n",
    "    # Imputar outliers con la mediana\n",
    "    lim_inf, lim_sup = lims_outliers[col]\n",
    "    indices_outliers = data[ (data[col] < lim_inf) & (data[col] > lim_sup) ]\n",
    "    \n",
    "    #Imputar faltantes con la mediana\n",
    "    mean = int(data[col].median())\n",
    "    data[col].fillna(mean)\n",
    "\n",
    "# Tratar faltantes en categóricas con la moda\n",
    "for col in data_cat:\n",
    "    mean = data[col].mode()\n",
    "    data[col].fillna(mean)\n",
    "\n",
    "# Obtener dummies\n",
    "data = pd.get_dummies(data)[features_names]"
   ]
  },
  {
   "cell_type": "code",
   "execution_count": 88,
   "metadata": {},
   "outputs": [
    {
     "name": "stdout",
     "output_type": "stream",
     "text": [
      "<class 'pandas.core.frame.DataFrame'>\n",
      "Index: 4353 entries, 0 to 4352\n",
      "Data columns (total 15 columns):\n",
      " #   Column                            Non-Null Count  Dtype\n",
      "---  ------                            --------------  -----\n",
      " 0   EnvironmentSatisfaction_Bajo      4353 non-null   bool \n",
      " 1   JobSatisfaction_Bajo              4353 non-null   bool \n",
      " 2   JobSatisfaction_Muy alto          4353 non-null   bool \n",
      " 3   WorkLifeBalance_Mala              4353 non-null   bool \n",
      " 4   BusinessTravel_Travel_Frequently  4353 non-null   bool \n",
      " 5   Department_Human Resources        4353 non-null   bool \n",
      " 6   EducationField_Human Resources    4353 non-null   bool \n",
      " 7   MaritalStatus_Single              4353 non-null   bool \n",
      " 8   Age                               4353 non-null   Int64\n",
      " 9   DistanceFromHome                  4353 non-null   Int64\n",
      " 10  MonthlyIncome                     4353 non-null   Int64\n",
      " 11  NumCompaniesWorked                4353 non-null   Int64\n",
      " 12  PercentSalaryHike                 4353 non-null   Int64\n",
      " 13  TrainingTimesLastYear             4353 non-null   Int64\n",
      " 14  YearsAtCompany                    4353 non-null   Int64\n",
      "dtypes: Int64(7), bool(8)\n",
      "memory usage: 335.8 KB\n"
     ]
    }
   ],
   "source": [
    "data.info()"
   ]
  },
  {
   "cell_type": "code",
   "execution_count": null,
   "metadata": {},
   "outputs": [],
   "source": [
    "def preprocesamiento(data):\n",
    "    data_num = data.selec"
   ]
  },
  {
   "cell_type": "code",
   "execution_count": null,
   "metadata": {},
   "outputs": [],
   "source": [
    "def despliegue(data):\n",
    "    "
   ]
  }
 ],
 "metadata": {
  "kernelspec": {
   "display_name": "entorno",
   "language": "python",
   "name": "python3"
  },
  "language_info": {
   "codemirror_mode": {
    "name": "ipython",
    "version": 3
   },
   "file_extension": ".py",
   "mimetype": "text/x-python",
   "name": "python",
   "nbconvert_exporter": "python",
   "pygments_lexer": "ipython3",
   "version": "3.10.10"
  },
  "orig_nbformat": 4
 },
 "nbformat": 4,
 "nbformat_minor": 2
}
