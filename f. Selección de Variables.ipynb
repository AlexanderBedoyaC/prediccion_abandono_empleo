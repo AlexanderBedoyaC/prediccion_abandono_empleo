{
 "cells": [
  {
   "cell_type": "markdown",
   "metadata": {},
   "source": [
    "# 1. Importar librerías"
   ]
  },
  {
   "cell_type": "code",
   "execution_count": 113,
   "metadata": {},
   "outputs": [],
   "source": [
    "#Librerías para manipulación de datos\n",
    "import pandas as pd\n",
    "import numpy as np\n",
    "\n",
    "#Librerías para visualización\n",
    "import plotly.express as px\n",
    "import plotly.graph_objects as go\n",
    "from plotly.subplots import make_subplots\n",
    "\n",
    "from sklearn.compose import ColumnTransformer\n",
    "from sklearn.pipeline import Pipeline\n",
    "from sklearn.preprocessing import StandardScaler, OneHotEncoder\n",
    "from sklearn.feature_selection import RFE\n",
    "from sklearn.linear_model import LogisticRegression\n",
    "from sklearn.ensemble import RandomForestClassifier\n",
    "from sklearn.ensemble import GradientBoostingClassifier\n",
    "from sklearn.tree import DecisionTreeClassifier\n",
    "from sklearn.model_selection import cross_val_score, cross_validate,GridSearchCV\n",
    "\n",
    "from sklearn.feature_selection import SelectFromModel\n",
    "from sklearn.linear_model import RidgeClassifier\n",
    "\n",
    "from sklearn.feature_selection import SelectKBest, f_classif,chi2\n",
    "\n",
    "#Importar módulo de funciones\n",
    "import sys\n",
    "sys.path.insert(0, 'utils')  # Añadir el directorio 'utils' al PATH\n",
    "import funciones\n",
    "from importlib import reload\n",
    "reload(funciones)  # Recarga el módulo\n",
    "\n",
    "pd.set_option('display.max_columns',None)"
   ]
  },
  {
   "cell_type": "markdown",
   "metadata": {},
   "source": [
    "# 2. Importar datos\n"
   ]
  },
  {
   "cell_type": "code",
   "execution_count": 114,
   "metadata": {},
   "outputs": [],
   "source": [
    "df = pd.read_csv('data/data_2015_clean.csv', dtype={'StockOptionLevel': str, 'JobLevel': str, 'NumCompaniesWorked': 'int64'})"
   ]
  },
  {
   "cell_type": "code",
   "execution_count": 115,
   "metadata": {},
   "outputs": [
    {
     "data": {
      "text/html": [
       "<div>\n",
       "<style scoped>\n",
       "    .dataframe tbody tr th:only-of-type {\n",
       "        vertical-align: middle;\n",
       "    }\n",
       "\n",
       "    .dataframe tbody tr th {\n",
       "        vertical-align: top;\n",
       "    }\n",
       "\n",
       "    .dataframe thead th {\n",
       "        text-align: right;\n",
       "    }\n",
       "</style>\n",
       "<table border=\"1\" class=\"dataframe\">\n",
       "  <thead>\n",
       "    <tr style=\"text-align: right;\">\n",
       "      <th></th>\n",
       "      <th>InfoDate</th>\n",
       "      <th>EmployeeID</th>\n",
       "      <th>Age</th>\n",
       "      <th>DistanceFromHome</th>\n",
       "      <th>MonthlyIncome</th>\n",
       "      <th>NumCompaniesWorked</th>\n",
       "      <th>PercentSalaryHike</th>\n",
       "      <th>StockOptionLevel</th>\n",
       "      <th>TrainingTimesLastYear</th>\n",
       "      <th>YearsAtCompany</th>\n",
       "      <th>EnvironmentSatisfaction</th>\n",
       "      <th>JobSatisfaction</th>\n",
       "      <th>WorkLifeBalance</th>\n",
       "      <th>BusinessTravel</th>\n",
       "      <th>Department</th>\n",
       "      <th>Education</th>\n",
       "      <th>EducationField</th>\n",
       "      <th>Gender</th>\n",
       "      <th>JobLevel</th>\n",
       "      <th>JobRole</th>\n",
       "      <th>MaritalStatus</th>\n",
       "      <th>retirementType</th>\n",
       "      <th>resignationReason</th>\n",
       "      <th>Attrition</th>\n",
       "      <th>retirementDate</th>\n",
       "      <th>JobInvolvement</th>\n",
       "      <th>PerformanceRating</th>\n",
       "    </tr>\n",
       "  </thead>\n",
       "  <tbody>\n",
       "    <tr>\n",
       "      <th>0</th>\n",
       "      <td>2015-12-31</td>\n",
       "      <td>2532</td>\n",
       "      <td>32</td>\n",
       "      <td>9</td>\n",
       "      <td>43270</td>\n",
       "      <td>8</td>\n",
       "      <td>13</td>\n",
       "      <td>0</td>\n",
       "      <td>4</td>\n",
       "      <td>0</td>\n",
       "      <td>4</td>\n",
       "      <td>4</td>\n",
       "      <td>4</td>\n",
       "      <td>Travel_Frequently</td>\n",
       "      <td>Sales</td>\n",
       "      <td>Master</td>\n",
       "      <td>Life Sciences</td>\n",
       "      <td>Male</td>\n",
       "      <td>4</td>\n",
       "      <td>Sales Executive</td>\n",
       "      <td>Single</td>\n",
       "      <td>NaN</td>\n",
       "      <td>NaN</td>\n",
       "      <td>No</td>\n",
       "      <td>NaN</td>\n",
       "      <td>3</td>\n",
       "      <td>3</td>\n",
       "    </tr>\n",
       "    <tr>\n",
       "      <th>1</th>\n",
       "      <td>2015-12-31</td>\n",
       "      <td>1062</td>\n",
       "      <td>32</td>\n",
       "      <td>9</td>\n",
       "      <td>43270</td>\n",
       "      <td>8</td>\n",
       "      <td>13</td>\n",
       "      <td>0</td>\n",
       "      <td>4</td>\n",
       "      <td>0</td>\n",
       "      <td>4</td>\n",
       "      <td>4</td>\n",
       "      <td>4</td>\n",
       "      <td>Travel_Frequently</td>\n",
       "      <td>Sales</td>\n",
       "      <td>Master</td>\n",
       "      <td>Life Sciences</td>\n",
       "      <td>Male</td>\n",
       "      <td>4</td>\n",
       "      <td>Sales Executive</td>\n",
       "      <td>Single</td>\n",
       "      <td>NaN</td>\n",
       "      <td>NaN</td>\n",
       "      <td>No</td>\n",
       "      <td>NaN</td>\n",
       "      <td>3</td>\n",
       "      <td>3</td>\n",
       "    </tr>\n",
       "    <tr>\n",
       "      <th>2</th>\n",
       "      <td>2015-12-31</td>\n",
       "      <td>4002</td>\n",
       "      <td>32</td>\n",
       "      <td>9</td>\n",
       "      <td>43270</td>\n",
       "      <td>8</td>\n",
       "      <td>13</td>\n",
       "      <td>0</td>\n",
       "      <td>4</td>\n",
       "      <td>0</td>\n",
       "      <td>4</td>\n",
       "      <td>4</td>\n",
       "      <td>4</td>\n",
       "      <td>Travel_Frequently</td>\n",
       "      <td>Sales</td>\n",
       "      <td>Master</td>\n",
       "      <td>Life Sciences</td>\n",
       "      <td>Male</td>\n",
       "      <td>4</td>\n",
       "      <td>Sales Executive</td>\n",
       "      <td>Single</td>\n",
       "      <td>NaN</td>\n",
       "      <td>NaN</td>\n",
       "      <td>No</td>\n",
       "      <td>NaN</td>\n",
       "      <td>3</td>\n",
       "      <td>3</td>\n",
       "    </tr>\n",
       "    <tr>\n",
       "      <th>3</th>\n",
       "      <td>2015-12-31</td>\n",
       "      <td>421</td>\n",
       "      <td>48</td>\n",
       "      <td>1</td>\n",
       "      <td>21770</td>\n",
       "      <td>4</td>\n",
       "      <td>18</td>\n",
       "      <td>0</td>\n",
       "      <td>4</td>\n",
       "      <td>0</td>\n",
       "      <td>4</td>\n",
       "      <td>3</td>\n",
       "      <td>2</td>\n",
       "      <td>Travel_Rarely</td>\n",
       "      <td>Research &amp; Development</td>\n",
       "      <td>Master</td>\n",
       "      <td>Medical</td>\n",
       "      <td>Male</td>\n",
       "      <td>1</td>\n",
       "      <td>Research Scientist</td>\n",
       "      <td>Married</td>\n",
       "      <td>NaN</td>\n",
       "      <td>NaN</td>\n",
       "      <td>No</td>\n",
       "      <td>NaN</td>\n",
       "      <td>3</td>\n",
       "      <td>3</td>\n",
       "    </tr>\n",
       "    <tr>\n",
       "      <th>4</th>\n",
       "      <td>2015-12-31</td>\n",
       "      <td>1891</td>\n",
       "      <td>48</td>\n",
       "      <td>1</td>\n",
       "      <td>21770</td>\n",
       "      <td>4</td>\n",
       "      <td>18</td>\n",
       "      <td>0</td>\n",
       "      <td>4</td>\n",
       "      <td>0</td>\n",
       "      <td>4</td>\n",
       "      <td>3</td>\n",
       "      <td>2</td>\n",
       "      <td>Travel_Rarely</td>\n",
       "      <td>Research &amp; Development</td>\n",
       "      <td>Master</td>\n",
       "      <td>Medical</td>\n",
       "      <td>Male</td>\n",
       "      <td>1</td>\n",
       "      <td>Research Scientist</td>\n",
       "      <td>Married</td>\n",
       "      <td>NaN</td>\n",
       "      <td>NaN</td>\n",
       "      <td>No</td>\n",
       "      <td>NaN</td>\n",
       "      <td>3</td>\n",
       "      <td>3</td>\n",
       "    </tr>\n",
       "  </tbody>\n",
       "</table>\n",
       "</div>"
      ],
      "text/plain": [
       "     InfoDate  EmployeeID  Age  DistanceFromHome  MonthlyIncome  \\\n",
       "0  2015-12-31        2532   32                 9          43270   \n",
       "1  2015-12-31        1062   32                 9          43270   \n",
       "2  2015-12-31        4002   32                 9          43270   \n",
       "3  2015-12-31         421   48                 1          21770   \n",
       "4  2015-12-31        1891   48                 1          21770   \n",
       "\n",
       "   NumCompaniesWorked  PercentSalaryHike StockOptionLevel  \\\n",
       "0                   8                 13                0   \n",
       "1                   8                 13                0   \n",
       "2                   8                 13                0   \n",
       "3                   4                 18                0   \n",
       "4                   4                 18                0   \n",
       "\n",
       "   TrainingTimesLastYear  YearsAtCompany  EnvironmentSatisfaction  \\\n",
       "0                      4               0                        4   \n",
       "1                      4               0                        4   \n",
       "2                      4               0                        4   \n",
       "3                      4               0                        4   \n",
       "4                      4               0                        4   \n",
       "\n",
       "   JobSatisfaction  WorkLifeBalance     BusinessTravel  \\\n",
       "0                4                4  Travel_Frequently   \n",
       "1                4                4  Travel_Frequently   \n",
       "2                4                4  Travel_Frequently   \n",
       "3                3                2      Travel_Rarely   \n",
       "4                3                2      Travel_Rarely   \n",
       "\n",
       "               Department Education EducationField Gender JobLevel  \\\n",
       "0                   Sales    Master  Life Sciences   Male        4   \n",
       "1                   Sales    Master  Life Sciences   Male        4   \n",
       "2                   Sales    Master  Life Sciences   Male        4   \n",
       "3  Research & Development    Master        Medical   Male        1   \n",
       "4  Research & Development    Master        Medical   Male        1   \n",
       "\n",
       "              JobRole MaritalStatus retirementType resignationReason  \\\n",
       "0     Sales Executive        Single            NaN               NaN   \n",
       "1     Sales Executive        Single            NaN               NaN   \n",
       "2     Sales Executive        Single            NaN               NaN   \n",
       "3  Research Scientist       Married            NaN               NaN   \n",
       "4  Research Scientist       Married            NaN               NaN   \n",
       "\n",
       "  Attrition retirementDate  JobInvolvement  PerformanceRating  \n",
       "0        No            NaN               3                  3  \n",
       "1        No            NaN               3                  3  \n",
       "2        No            NaN               3                  3  \n",
       "3        No            NaN               3                  3  \n",
       "4        No            NaN               3                  3  "
      ]
     },
     "execution_count": 115,
     "metadata": {},
     "output_type": "execute_result"
    }
   ],
   "source": [
    "df.head()"
   ]
  },
  {
   "cell_type": "code",
   "execution_count": 116,
   "metadata": {},
   "outputs": [
    {
     "name": "stdout",
     "output_type": "stream",
     "text": [
      "<class 'pandas.core.frame.DataFrame'>\n",
      "RangeIndex: 4353 entries, 0 to 4352\n",
      "Data columns (total 27 columns):\n",
      " #   Column                   Non-Null Count  Dtype \n",
      "---  ------                   --------------  ----- \n",
      " 0   InfoDate                 4353 non-null   object\n",
      " 1   EmployeeID               4353 non-null   int64 \n",
      " 2   Age                      4353 non-null   int64 \n",
      " 3   DistanceFromHome         4353 non-null   int64 \n",
      " 4   MonthlyIncome            4353 non-null   int64 \n",
      " 5   NumCompaniesWorked       4353 non-null   int64 \n",
      " 6   PercentSalaryHike        4353 non-null   int64 \n",
      " 7   StockOptionLevel         4353 non-null   object\n",
      " 8   TrainingTimesLastYear    4353 non-null   int64 \n",
      " 9   YearsAtCompany           4353 non-null   int64 \n",
      " 10  EnvironmentSatisfaction  4353 non-null   int64 \n",
      " 11  JobSatisfaction          4353 non-null   int64 \n",
      " 12  WorkLifeBalance          4353 non-null   int64 \n",
      " 13  BusinessTravel           4353 non-null   object\n",
      " 14  Department               4353 non-null   object\n",
      " 15  Education                4353 non-null   object\n",
      " 16  EducationField           4353 non-null   object\n",
      " 17  Gender                   4353 non-null   object\n",
      " 18  JobLevel                 4353 non-null   object\n",
      " 19  JobRole                  4353 non-null   object\n",
      " 20  MaritalStatus            4353 non-null   object\n",
      " 21  retirementType           639 non-null    object\n",
      " 22  resignationReason        577 non-null    object\n",
      " 23  Attrition                4353 non-null   object\n",
      " 24  retirementDate           639 non-null    object\n",
      " 25  JobInvolvement           4353 non-null   int64 \n",
      " 26  PerformanceRating        4353 non-null   int64 \n",
      "dtypes: int64(13), object(14)\n",
      "memory usage: 918.3+ KB\n"
     ]
    }
   ],
   "source": [
    "df.info()"
   ]
  },
  {
   "cell_type": "markdown",
   "metadata": {},
   "source": [
    "# 2. Preparación de datos"
   ]
  },
  {
   "cell_type": "markdown",
   "metadata": {},
   "source": [
    "## 2.1. Obtener dummies y Escalar"
   ]
  },
  {
   "cell_type": "code",
   "execution_count": 117,
   "metadata": {},
   "outputs": [],
   "source": [
    "df_no_trans = df.drop(['Attrition','retirementDate','retirementType','resignationReason','InfoDate','EmployeeID'], axis=1)\n",
    "\n",
    "num_columns = df_no_trans.select_dtypes('int64').columns\n",
    "cat_columns = df_no_trans.select_dtypes('object').columns"
   ]
  },
  {
   "cell_type": "code",
   "execution_count": 118,
   "metadata": {},
   "outputs": [],
   "source": [
    "# Crear un ColumnTransformer para aplicar transformaciones específicas a las columnas\n",
    "transformer = ColumnTransformer([('num',StandardScaler(), num_columns),\n",
    "                                 ('cat', OneHotEncoder(), cat_columns)])\n",
    "\n",
    "# Ajustar y transformar el DataFrame\n",
    "df_transformado = transformer.fit_transform(df_no_trans)"
   ]
  },
  {
   "cell_type": "code",
   "execution_count": 119,
   "metadata": {},
   "outputs": [],
   "source": [
    "columns_transformed = transformer.get_feature_names_out(df_no_trans.columns)"
   ]
  },
  {
   "cell_type": "code",
   "execution_count": 120,
   "metadata": {},
   "outputs": [],
   "source": [
    "df2 = pd.DataFrame(df_transformado, columns = columns_transformed)\n",
    "df2['target'] = df['Attrition'].replace({'Sí':1, 'No':0})"
   ]
  },
  {
   "cell_type": "markdown",
   "metadata": {},
   "source": [
    "# 2.2. Separar variable objetivo de los datos"
   ]
  },
  {
   "cell_type": "code",
   "execution_count": 121,
   "metadata": {},
   "outputs": [
    {
     "name": "stdout",
     "output_type": "stream",
     "text": [
      "(4353, 52)\n",
      "(4353,)\n"
     ]
    }
   ],
   "source": [
    "X = df2.drop('target',axis=1)\n",
    "y = df2['target']\n",
    "\n",
    "print(X.shape)\n",
    "print(y.shape)"
   ]
  },
  {
   "cell_type": "markdown",
   "metadata": {},
   "source": [
    "# 3. Selección de variables"
   ]
  },
  {
   "cell_type": "markdown",
   "metadata": {},
   "source": [
    "## 3.1. SelectKBest"
   ]
  },
  {
   "cell_type": "markdown",
   "metadata": {},
   "source": [
    "#### Anova"
   ]
  },
  {
   "cell_type": "code",
   "execution_count": 122,
   "metadata": {},
   "outputs": [],
   "source": [
    "def select_kbest(X,y,score_f,k):\n",
    "    sel_kb = SelectKBest(score_func = score_f,k = k)\n",
    "    sel_kb.fit(X,y)\n",
    "    new_cols= sel_kb.get_support()\n",
    "    print('Score:\\n', sel_kb.scores_, '\\n P-values:\\n', sel_kb.pvalues_)\n",
    "    return new_cols"
   ]
  },
  {
   "cell_type": "code",
   "execution_count": 123,
   "metadata": {},
   "outputs": [
    {
     "name": "stdout",
     "output_type": "stream",
     "text": [
      "Score:\n",
      " [9.36130542e+01 8.12374511e-03 1.94697108e+00 7.74182132e+00\n",
      " 8.61684071e-01 1.03433937e+01 8.27399526e+01 3.18519561e+01\n",
      " 4.78817564e+01 1.60290245e+01 1.69900005e+00 2.13286553e-01\n",
      " 8.66151432e-02 2.51847682e+00 3.81317628e+00 1.30427920e-02\n",
      " 1.65972031e+01 5.49753660e+01 1.33219287e+01 2.54680775e+01\n",
      " 3.81552795e-01 2.53004278e+00 1.26661207e-01 6.57734788e-01\n",
      " 5.17716730e+00 8.67680128e-01 4.50114767e-01 3.28362502e+01\n",
      " 2.22998544e-01 1.41703332e-02 4.18179343e-02 2.97912298e+00\n",
      " 2.80247805e+00 8.73949656e-01 8.73949656e-01 4.73668596e-02\n",
      " 1.33551718e+00 6.21605497e-01 8.10896097e-02 1.30442291e+00\n",
      " 6.30794492e-01 6.33811679e-01 1.07594314e-01 3.81957900e+00\n",
      " 4.97271525e+00 4.35070875e+00 1.53682556e+00 2.06748666e+00\n",
      " 4.87580155e-01 2.15360395e+01 3.01900480e+01 1.01679456e+02] \n",
      " P-values:\n",
      " [6.36980385e-22 9.28186611e-01 1.62984831e-01 5.41889701e-03\n",
      " 3.53319336e-01 1.30890042e-03 1.39313799e-19 1.76955557e-08\n",
      " 5.18768864e-12 6.34183618e-05 1.92487766e-01 6.44226632e-01\n",
      " 7.68539268e-01 1.12591886e-01 5.09149640e-02 9.09080523e-01\n",
      " 4.70422805e-05 1.45891690e-13 2.65399383e-04 4.68117929e-07\n",
      " 5.36805703e-01 1.11769837e-01 7.21936501e-01 4.17405149e-01\n",
      " 2.29340282e-02 3.51650030e-01 5.02316070e-01 1.07028959e-08\n",
      " 6.36788298e-01 9.05249788e-01 8.37976781e-01 8.44159568e-02\n",
      " 9.41906136e-02 3.49916072e-01 3.49916072e-01 8.27720376e-01\n",
      " 2.47889527e-01 4.30494251e-01 7.75839753e-01 2.53469752e-01\n",
      " 4.27107354e-01 4.26004036e-01 7.42915558e-01 5.07209287e-02\n",
      " 2.58010166e-02 3.70516655e-02 2.15157791e-01 1.50541228e-01\n",
      " 4.85046048e-01 3.57454592e-06 4.14085877e-08 1.18514448e-23]\n"
     ]
    },
    {
     "data": {
      "text/html": [
       "<div>\n",
       "<style scoped>\n",
       "    .dataframe tbody tr th:only-of-type {\n",
       "        vertical-align: middle;\n",
       "    }\n",
       "\n",
       "    .dataframe tbody tr th {\n",
       "        vertical-align: top;\n",
       "    }\n",
       "\n",
       "    .dataframe thead th {\n",
       "        text-align: right;\n",
       "    }\n",
       "</style>\n",
       "<table border=\"1\" class=\"dataframe\">\n",
       "  <thead>\n",
       "    <tr style=\"text-align: right;\">\n",
       "      <th></th>\n",
       "      <th>num__Age</th>\n",
       "      <th>num__MonthlyIncome</th>\n",
       "      <th>num__NumCompaniesWorked</th>\n",
       "      <th>num__TrainingTimesLastYear</th>\n",
       "      <th>num__YearsAtCompany</th>\n",
       "      <th>num__EnvironmentSatisfaction</th>\n",
       "      <th>num__JobSatisfaction</th>\n",
       "      <th>num__WorkLifeBalance</th>\n",
       "      <th>num__JobInvolvement</th>\n",
       "      <th>cat__StockOptionLevel_1</th>\n",
       "      <th>cat__StockOptionLevel_2</th>\n",
       "      <th>cat__BusinessTravel_Non-Travel</th>\n",
       "      <th>cat__BusinessTravel_Travel_Frequently</th>\n",
       "      <th>cat__BusinessTravel_Travel_Rarely</th>\n",
       "      <th>cat__Department_Human Resources</th>\n",
       "      <th>cat__Department_Sales</th>\n",
       "      <th>cat__Education_College</th>\n",
       "      <th>cat__EducationField_Human Resources</th>\n",
       "      <th>cat__EducationField_Other</th>\n",
       "      <th>cat__EducationField_Technical Degree</th>\n",
       "      <th>cat__JobLevel_2</th>\n",
       "      <th>cat__JobLevel_5</th>\n",
       "      <th>cat__JobRole_Manager</th>\n",
       "      <th>cat__JobRole_Manufacturing Director</th>\n",
       "      <th>cat__JobRole_Research Director</th>\n",
       "      <th>cat__JobRole_Research Scientist</th>\n",
       "      <th>cat__JobRole_Sales Executive</th>\n",
       "      <th>cat__MaritalStatus_Divorced</th>\n",
       "      <th>cat__MaritalStatus_Married</th>\n",
       "      <th>cat__MaritalStatus_Single</th>\n",
       "    </tr>\n",
       "  </thead>\n",
       "  <tbody>\n",
       "    <tr>\n",
       "      <th>0</th>\n",
       "      <td>-0.52393</td>\n",
       "      <td>-0.467319</td>\n",
       "      <td>2.118864</td>\n",
       "      <td>0.930621</td>\n",
       "      <td>-1.238141</td>\n",
       "      <td>1.172225</td>\n",
       "      <td>1.147029</td>\n",
       "      <td>1.758285</td>\n",
       "      <td>0.381187</td>\n",
       "      <td>0.0</td>\n",
       "      <td>0.0</td>\n",
       "      <td>0.0</td>\n",
       "      <td>1.0</td>\n",
       "      <td>0.0</td>\n",
       "      <td>0.0</td>\n",
       "      <td>1.0</td>\n",
       "      <td>0.0</td>\n",
       "      <td>0.0</td>\n",
       "      <td>0.0</td>\n",
       "      <td>0.0</td>\n",
       "      <td>0.0</td>\n",
       "      <td>0.0</td>\n",
       "      <td>0.0</td>\n",
       "      <td>0.0</td>\n",
       "      <td>0.0</td>\n",
       "      <td>0.0</td>\n",
       "      <td>1.0</td>\n",
       "      <td>0.0</td>\n",
       "      <td>0.0</td>\n",
       "      <td>1.0</td>\n",
       "    </tr>\n",
       "    <tr>\n",
       "      <th>1</th>\n",
       "      <td>-0.52393</td>\n",
       "      <td>-0.467319</td>\n",
       "      <td>2.118864</td>\n",
       "      <td>0.930621</td>\n",
       "      <td>-1.238141</td>\n",
       "      <td>1.172225</td>\n",
       "      <td>1.147029</td>\n",
       "      <td>1.758285</td>\n",
       "      <td>0.381187</td>\n",
       "      <td>0.0</td>\n",
       "      <td>0.0</td>\n",
       "      <td>0.0</td>\n",
       "      <td>1.0</td>\n",
       "      <td>0.0</td>\n",
       "      <td>0.0</td>\n",
       "      <td>1.0</td>\n",
       "      <td>0.0</td>\n",
       "      <td>0.0</td>\n",
       "      <td>0.0</td>\n",
       "      <td>0.0</td>\n",
       "      <td>0.0</td>\n",
       "      <td>0.0</td>\n",
       "      <td>0.0</td>\n",
       "      <td>0.0</td>\n",
       "      <td>0.0</td>\n",
       "      <td>0.0</td>\n",
       "      <td>1.0</td>\n",
       "      <td>0.0</td>\n",
       "      <td>0.0</td>\n",
       "      <td>1.0</td>\n",
       "    </tr>\n",
       "    <tr>\n",
       "      <th>2</th>\n",
       "      <td>-0.52393</td>\n",
       "      <td>-0.467319</td>\n",
       "      <td>2.118864</td>\n",
       "      <td>0.930621</td>\n",
       "      <td>-1.238141</td>\n",
       "      <td>1.172225</td>\n",
       "      <td>1.147029</td>\n",
       "      <td>1.758285</td>\n",
       "      <td>0.381187</td>\n",
       "      <td>0.0</td>\n",
       "      <td>0.0</td>\n",
       "      <td>0.0</td>\n",
       "      <td>1.0</td>\n",
       "      <td>0.0</td>\n",
       "      <td>0.0</td>\n",
       "      <td>1.0</td>\n",
       "      <td>0.0</td>\n",
       "      <td>0.0</td>\n",
       "      <td>0.0</td>\n",
       "      <td>0.0</td>\n",
       "      <td>0.0</td>\n",
       "      <td>0.0</td>\n",
       "      <td>0.0</td>\n",
       "      <td>0.0</td>\n",
       "      <td>0.0</td>\n",
       "      <td>0.0</td>\n",
       "      <td>1.0</td>\n",
       "      <td>0.0</td>\n",
       "      <td>0.0</td>\n",
       "      <td>1.0</td>\n",
       "    </tr>\n",
       "    <tr>\n",
       "      <th>3</th>\n",
       "      <td>1.25567</td>\n",
       "      <td>-0.922516</td>\n",
       "      <td>0.518896</td>\n",
       "      <td>0.930621</td>\n",
       "      <td>-1.238141</td>\n",
       "      <td>1.172225</td>\n",
       "      <td>0.239538</td>\n",
       "      <td>-1.083302</td>\n",
       "      <td>0.381187</td>\n",
       "      <td>0.0</td>\n",
       "      <td>0.0</td>\n",
       "      <td>0.0</td>\n",
       "      <td>0.0</td>\n",
       "      <td>1.0</td>\n",
       "      <td>0.0</td>\n",
       "      <td>0.0</td>\n",
       "      <td>0.0</td>\n",
       "      <td>0.0</td>\n",
       "      <td>0.0</td>\n",
       "      <td>0.0</td>\n",
       "      <td>0.0</td>\n",
       "      <td>0.0</td>\n",
       "      <td>0.0</td>\n",
       "      <td>0.0</td>\n",
       "      <td>0.0</td>\n",
       "      <td>1.0</td>\n",
       "      <td>0.0</td>\n",
       "      <td>0.0</td>\n",
       "      <td>1.0</td>\n",
       "      <td>0.0</td>\n",
       "    </tr>\n",
       "    <tr>\n",
       "      <th>4</th>\n",
       "      <td>1.25567</td>\n",
       "      <td>-0.922516</td>\n",
       "      <td>0.518896</td>\n",
       "      <td>0.930621</td>\n",
       "      <td>-1.238141</td>\n",
       "      <td>1.172225</td>\n",
       "      <td>0.239538</td>\n",
       "      <td>-1.083302</td>\n",
       "      <td>0.381187</td>\n",
       "      <td>0.0</td>\n",
       "      <td>0.0</td>\n",
       "      <td>0.0</td>\n",
       "      <td>0.0</td>\n",
       "      <td>1.0</td>\n",
       "      <td>0.0</td>\n",
       "      <td>0.0</td>\n",
       "      <td>0.0</td>\n",
       "      <td>0.0</td>\n",
       "      <td>0.0</td>\n",
       "      <td>0.0</td>\n",
       "      <td>0.0</td>\n",
       "      <td>0.0</td>\n",
       "      <td>0.0</td>\n",
       "      <td>0.0</td>\n",
       "      <td>0.0</td>\n",
       "      <td>1.0</td>\n",
       "      <td>0.0</td>\n",
       "      <td>0.0</td>\n",
       "      <td>1.0</td>\n",
       "      <td>0.0</td>\n",
       "    </tr>\n",
       "  </tbody>\n",
       "</table>\n",
       "</div>"
      ],
      "text/plain": [
       "   num__Age  num__MonthlyIncome  num__NumCompaniesWorked  \\\n",
       "0  -0.52393           -0.467319                 2.118864   \n",
       "1  -0.52393           -0.467319                 2.118864   \n",
       "2  -0.52393           -0.467319                 2.118864   \n",
       "3   1.25567           -0.922516                 0.518896   \n",
       "4   1.25567           -0.922516                 0.518896   \n",
       "\n",
       "   num__TrainingTimesLastYear  num__YearsAtCompany  \\\n",
       "0                    0.930621            -1.238141   \n",
       "1                    0.930621            -1.238141   \n",
       "2                    0.930621            -1.238141   \n",
       "3                    0.930621            -1.238141   \n",
       "4                    0.930621            -1.238141   \n",
       "\n",
       "   num__EnvironmentSatisfaction  num__JobSatisfaction  num__WorkLifeBalance  \\\n",
       "0                      1.172225              1.147029              1.758285   \n",
       "1                      1.172225              1.147029              1.758285   \n",
       "2                      1.172225              1.147029              1.758285   \n",
       "3                      1.172225              0.239538             -1.083302   \n",
       "4                      1.172225              0.239538             -1.083302   \n",
       "\n",
       "   num__JobInvolvement  cat__StockOptionLevel_1  cat__StockOptionLevel_2  \\\n",
       "0             0.381187                      0.0                      0.0   \n",
       "1             0.381187                      0.0                      0.0   \n",
       "2             0.381187                      0.0                      0.0   \n",
       "3             0.381187                      0.0                      0.0   \n",
       "4             0.381187                      0.0                      0.0   \n",
       "\n",
       "   cat__BusinessTravel_Non-Travel  cat__BusinessTravel_Travel_Frequently  \\\n",
       "0                             0.0                                    1.0   \n",
       "1                             0.0                                    1.0   \n",
       "2                             0.0                                    1.0   \n",
       "3                             0.0                                    0.0   \n",
       "4                             0.0                                    0.0   \n",
       "\n",
       "   cat__BusinessTravel_Travel_Rarely  cat__Department_Human Resources  \\\n",
       "0                                0.0                              0.0   \n",
       "1                                0.0                              0.0   \n",
       "2                                0.0                              0.0   \n",
       "3                                1.0                              0.0   \n",
       "4                                1.0                              0.0   \n",
       "\n",
       "   cat__Department_Sales  cat__Education_College  \\\n",
       "0                    1.0                     0.0   \n",
       "1                    1.0                     0.0   \n",
       "2                    1.0                     0.0   \n",
       "3                    0.0                     0.0   \n",
       "4                    0.0                     0.0   \n",
       "\n",
       "   cat__EducationField_Human Resources  cat__EducationField_Other  \\\n",
       "0                                  0.0                        0.0   \n",
       "1                                  0.0                        0.0   \n",
       "2                                  0.0                        0.0   \n",
       "3                                  0.0                        0.0   \n",
       "4                                  0.0                        0.0   \n",
       "\n",
       "   cat__EducationField_Technical Degree  cat__JobLevel_2  cat__JobLevel_5  \\\n",
       "0                                   0.0              0.0              0.0   \n",
       "1                                   0.0              0.0              0.0   \n",
       "2                                   0.0              0.0              0.0   \n",
       "3                                   0.0              0.0              0.0   \n",
       "4                                   0.0              0.0              0.0   \n",
       "\n",
       "   cat__JobRole_Manager  cat__JobRole_Manufacturing Director  \\\n",
       "0                   0.0                                  0.0   \n",
       "1                   0.0                                  0.0   \n",
       "2                   0.0                                  0.0   \n",
       "3                   0.0                                  0.0   \n",
       "4                   0.0                                  0.0   \n",
       "\n",
       "   cat__JobRole_Research Director  cat__JobRole_Research Scientist  \\\n",
       "0                             0.0                              0.0   \n",
       "1                             0.0                              0.0   \n",
       "2                             0.0                              0.0   \n",
       "3                             0.0                              1.0   \n",
       "4                             0.0                              1.0   \n",
       "\n",
       "   cat__JobRole_Sales Executive  cat__MaritalStatus_Divorced  \\\n",
       "0                           1.0                          0.0   \n",
       "1                           1.0                          0.0   \n",
       "2                           1.0                          0.0   \n",
       "3                           0.0                          0.0   \n",
       "4                           0.0                          0.0   \n",
       "\n",
       "   cat__MaritalStatus_Married  cat__MaritalStatus_Single  \n",
       "0                         0.0                        1.0  \n",
       "1                         0.0                        1.0  \n",
       "2                         0.0                        1.0  \n",
       "3                         1.0                        0.0  \n",
       "4                         1.0                        0.0  "
      ]
     },
     "execution_count": 123,
     "metadata": {},
     "output_type": "execute_result"
    }
   ],
   "source": [
    "X_new = select_kbest(X, y, f_classif, 30)\n",
    "# Nuevo conjunto de datos\n",
    "df_anova = X.iloc[:,X_new]\n",
    "df_anova.head()"
   ]
  },
  {
   "cell_type": "markdown",
   "metadata": {},
   "source": [
    "#### Chi2"
   ]
  },
  {
   "cell_type": "code",
   "execution_count": 124,
   "metadata": {},
   "outputs": [],
   "source": [
    "df_dummies = pd.get_dummies(df_no_trans)"
   ]
  },
  {
   "cell_type": "code",
   "execution_count": 125,
   "metadata": {},
   "outputs": [
    {
     "name": "stdout",
     "output_type": "stream",
     "text": [
      "Score:\n",
      " [2.01881006e+02 5.82129840e-02 6.64732132e+04 1.78798873e+01\n",
      " 7.56779058e-01 6.12871063e+00 3.53400332e+02 1.37519692e+01\n",
      " 2.10285054e+01 2.86517517e+00 3.14318234e-01 8.76976827e-03\n",
      " 4.94478816e-02 1.49945199e+00 3.39917001e+00 1.22933417e-02\n",
      " 1.48658989e+01 4.40953313e+01 3.84610266e+00 2.42316573e+01\n",
      " 1.32580381e-01 1.76087670e+00 7.75489846e-02 5.81760182e-01\n",
      " 4.17864553e+00 8.39793157e-01 3.28008799e-01 3.19985631e+01\n",
      " 1.31147789e-01 1.26330828e-02 2.86312178e-02 2.81423785e+00\n",
      " 2.55092429e+00 5.25348925e-01 3.48826866e-01 2.99482446e-02\n",
      " 8.50590130e-01 5.28810581e-01 7.53107345e-02 1.24259171e+00\n",
      " 5.74025304e-01 6.11726346e-01 8.85757995e-02 3.56011790e+00\n",
      " 4.47958147e+00 4.11161314e+00 1.23086239e+00 1.61007837e+00\n",
      " 4.60185548e-01 1.66819816e+01 1.62692562e+01 6.75476045e+01] \n",
      " P-values:\n",
      " [8.11640462e-46 8.09343016e-01 0.00000000e+00 2.35294690e-05\n",
      " 3.84338392e-01 1.33003834e-02 7.70334139e-79 2.08602024e-04\n",
      " 4.52500748e-06 9.05158546e-02 5.75042354e-01 9.25389541e-01\n",
      " 8.24026801e-01 2.20755702e-01 6.52292332e-02 9.11715198e-01\n",
      " 1.15430974e-04 3.12766038e-11 4.98617255e-02 8.54166854e-07\n",
      " 7.15771472e-01 1.84515201e-01 7.80646845e-01 4.45623212e-01\n",
      " 4.09364046e-02 3.59455935e-01 5.66833938e-01 1.54286656e-08\n",
      " 7.17244928e-01 9.10508644e-01 8.65633338e-01 9.34312632e-02\n",
      " 1.10229751e-01 4.68568859e-01 5.54777965e-01 8.62607716e-01\n",
      " 3.56385446e-01 4.67107346e-01 7.83755717e-01 2.64972152e-01\n",
      " 4.48663787e-01 4.34138550e-01 7.65995600e-01 5.91835350e-02\n",
      " 3.43021202e-02 4.25897211e-02 2.67239389e-01 2.04480787e-01\n",
      " 4.97537270e-01 4.41988139e-05 5.49482956e-05 2.05660970e-16]\n"
     ]
    },
    {
     "data": {
      "text/html": [
       "<div>\n",
       "<style scoped>\n",
       "    .dataframe tbody tr th:only-of-type {\n",
       "        vertical-align: middle;\n",
       "    }\n",
       "\n",
       "    .dataframe tbody tr th {\n",
       "        vertical-align: top;\n",
       "    }\n",
       "\n",
       "    .dataframe thead th {\n",
       "        text-align: right;\n",
       "    }\n",
       "</style>\n",
       "<table border=\"1\" class=\"dataframe\">\n",
       "  <thead>\n",
       "    <tr style=\"text-align: right;\">\n",
       "      <th></th>\n",
       "      <th>num__Age</th>\n",
       "      <th>num__MonthlyIncome</th>\n",
       "      <th>num__NumCompaniesWorked</th>\n",
       "      <th>num__TrainingTimesLastYear</th>\n",
       "      <th>num__YearsAtCompany</th>\n",
       "      <th>num__EnvironmentSatisfaction</th>\n",
       "      <th>num__JobSatisfaction</th>\n",
       "      <th>num__WorkLifeBalance</th>\n",
       "      <th>cat__StockOptionLevel_1</th>\n",
       "      <th>cat__StockOptionLevel_2</th>\n",
       "      <th>cat__BusinessTravel_Non-Travel</th>\n",
       "      <th>cat__BusinessTravel_Travel_Frequently</th>\n",
       "      <th>cat__BusinessTravel_Travel_Rarely</th>\n",
       "      <th>cat__Department_Human Resources</th>\n",
       "      <th>cat__Department_Sales</th>\n",
       "      <th>cat__Education_College</th>\n",
       "      <th>cat__Education_Doctor</th>\n",
       "      <th>cat__EducationField_Human Resources</th>\n",
       "      <th>cat__EducationField_Other</th>\n",
       "      <th>cat__EducationField_Technical Degree</th>\n",
       "      <th>cat__JobLevel_2</th>\n",
       "      <th>cat__JobLevel_5</th>\n",
       "      <th>cat__JobRole_Manager</th>\n",
       "      <th>cat__JobRole_Manufacturing Director</th>\n",
       "      <th>cat__JobRole_Research Director</th>\n",
       "      <th>cat__JobRole_Research Scientist</th>\n",
       "      <th>cat__JobRole_Sales Executive</th>\n",
       "      <th>cat__MaritalStatus_Divorced</th>\n",
       "      <th>cat__MaritalStatus_Married</th>\n",
       "      <th>cat__MaritalStatus_Single</th>\n",
       "    </tr>\n",
       "  </thead>\n",
       "  <tbody>\n",
       "    <tr>\n",
       "      <th>0</th>\n",
       "      <td>-0.52393</td>\n",
       "      <td>-0.467319</td>\n",
       "      <td>2.118864</td>\n",
       "      <td>0.930621</td>\n",
       "      <td>-1.238141</td>\n",
       "      <td>1.172225</td>\n",
       "      <td>1.147029</td>\n",
       "      <td>1.758285</td>\n",
       "      <td>0.0</td>\n",
       "      <td>0.0</td>\n",
       "      <td>0.0</td>\n",
       "      <td>1.0</td>\n",
       "      <td>0.0</td>\n",
       "      <td>0.0</td>\n",
       "      <td>1.0</td>\n",
       "      <td>0.0</td>\n",
       "      <td>0.0</td>\n",
       "      <td>0.0</td>\n",
       "      <td>0.0</td>\n",
       "      <td>0.0</td>\n",
       "      <td>0.0</td>\n",
       "      <td>0.0</td>\n",
       "      <td>0.0</td>\n",
       "      <td>0.0</td>\n",
       "      <td>0.0</td>\n",
       "      <td>0.0</td>\n",
       "      <td>1.0</td>\n",
       "      <td>0.0</td>\n",
       "      <td>0.0</td>\n",
       "      <td>1.0</td>\n",
       "    </tr>\n",
       "    <tr>\n",
       "      <th>1</th>\n",
       "      <td>-0.52393</td>\n",
       "      <td>-0.467319</td>\n",
       "      <td>2.118864</td>\n",
       "      <td>0.930621</td>\n",
       "      <td>-1.238141</td>\n",
       "      <td>1.172225</td>\n",
       "      <td>1.147029</td>\n",
       "      <td>1.758285</td>\n",
       "      <td>0.0</td>\n",
       "      <td>0.0</td>\n",
       "      <td>0.0</td>\n",
       "      <td>1.0</td>\n",
       "      <td>0.0</td>\n",
       "      <td>0.0</td>\n",
       "      <td>1.0</td>\n",
       "      <td>0.0</td>\n",
       "      <td>0.0</td>\n",
       "      <td>0.0</td>\n",
       "      <td>0.0</td>\n",
       "      <td>0.0</td>\n",
       "      <td>0.0</td>\n",
       "      <td>0.0</td>\n",
       "      <td>0.0</td>\n",
       "      <td>0.0</td>\n",
       "      <td>0.0</td>\n",
       "      <td>0.0</td>\n",
       "      <td>1.0</td>\n",
       "      <td>0.0</td>\n",
       "      <td>0.0</td>\n",
       "      <td>1.0</td>\n",
       "    </tr>\n",
       "    <tr>\n",
       "      <th>2</th>\n",
       "      <td>-0.52393</td>\n",
       "      <td>-0.467319</td>\n",
       "      <td>2.118864</td>\n",
       "      <td>0.930621</td>\n",
       "      <td>-1.238141</td>\n",
       "      <td>1.172225</td>\n",
       "      <td>1.147029</td>\n",
       "      <td>1.758285</td>\n",
       "      <td>0.0</td>\n",
       "      <td>0.0</td>\n",
       "      <td>0.0</td>\n",
       "      <td>1.0</td>\n",
       "      <td>0.0</td>\n",
       "      <td>0.0</td>\n",
       "      <td>1.0</td>\n",
       "      <td>0.0</td>\n",
       "      <td>0.0</td>\n",
       "      <td>0.0</td>\n",
       "      <td>0.0</td>\n",
       "      <td>0.0</td>\n",
       "      <td>0.0</td>\n",
       "      <td>0.0</td>\n",
       "      <td>0.0</td>\n",
       "      <td>0.0</td>\n",
       "      <td>0.0</td>\n",
       "      <td>0.0</td>\n",
       "      <td>1.0</td>\n",
       "      <td>0.0</td>\n",
       "      <td>0.0</td>\n",
       "      <td>1.0</td>\n",
       "    </tr>\n",
       "    <tr>\n",
       "      <th>3</th>\n",
       "      <td>1.25567</td>\n",
       "      <td>-0.922516</td>\n",
       "      <td>0.518896</td>\n",
       "      <td>0.930621</td>\n",
       "      <td>-1.238141</td>\n",
       "      <td>1.172225</td>\n",
       "      <td>0.239538</td>\n",
       "      <td>-1.083302</td>\n",
       "      <td>0.0</td>\n",
       "      <td>0.0</td>\n",
       "      <td>0.0</td>\n",
       "      <td>0.0</td>\n",
       "      <td>1.0</td>\n",
       "      <td>0.0</td>\n",
       "      <td>0.0</td>\n",
       "      <td>0.0</td>\n",
       "      <td>0.0</td>\n",
       "      <td>0.0</td>\n",
       "      <td>0.0</td>\n",
       "      <td>0.0</td>\n",
       "      <td>0.0</td>\n",
       "      <td>0.0</td>\n",
       "      <td>0.0</td>\n",
       "      <td>0.0</td>\n",
       "      <td>0.0</td>\n",
       "      <td>1.0</td>\n",
       "      <td>0.0</td>\n",
       "      <td>0.0</td>\n",
       "      <td>1.0</td>\n",
       "      <td>0.0</td>\n",
       "    </tr>\n",
       "    <tr>\n",
       "      <th>4</th>\n",
       "      <td>1.25567</td>\n",
       "      <td>-0.922516</td>\n",
       "      <td>0.518896</td>\n",
       "      <td>0.930621</td>\n",
       "      <td>-1.238141</td>\n",
       "      <td>1.172225</td>\n",
       "      <td>0.239538</td>\n",
       "      <td>-1.083302</td>\n",
       "      <td>0.0</td>\n",
       "      <td>0.0</td>\n",
       "      <td>0.0</td>\n",
       "      <td>0.0</td>\n",
       "      <td>1.0</td>\n",
       "      <td>0.0</td>\n",
       "      <td>0.0</td>\n",
       "      <td>0.0</td>\n",
       "      <td>0.0</td>\n",
       "      <td>0.0</td>\n",
       "      <td>0.0</td>\n",
       "      <td>0.0</td>\n",
       "      <td>0.0</td>\n",
       "      <td>0.0</td>\n",
       "      <td>0.0</td>\n",
       "      <td>0.0</td>\n",
       "      <td>0.0</td>\n",
       "      <td>1.0</td>\n",
       "      <td>0.0</td>\n",
       "      <td>0.0</td>\n",
       "      <td>1.0</td>\n",
       "      <td>0.0</td>\n",
       "    </tr>\n",
       "  </tbody>\n",
       "</table>\n",
       "</div>"
      ],
      "text/plain": [
       "   num__Age  num__MonthlyIncome  num__NumCompaniesWorked  \\\n",
       "0  -0.52393           -0.467319                 2.118864   \n",
       "1  -0.52393           -0.467319                 2.118864   \n",
       "2  -0.52393           -0.467319                 2.118864   \n",
       "3   1.25567           -0.922516                 0.518896   \n",
       "4   1.25567           -0.922516                 0.518896   \n",
       "\n",
       "   num__TrainingTimesLastYear  num__YearsAtCompany  \\\n",
       "0                    0.930621            -1.238141   \n",
       "1                    0.930621            -1.238141   \n",
       "2                    0.930621            -1.238141   \n",
       "3                    0.930621            -1.238141   \n",
       "4                    0.930621            -1.238141   \n",
       "\n",
       "   num__EnvironmentSatisfaction  num__JobSatisfaction  num__WorkLifeBalance  \\\n",
       "0                      1.172225              1.147029              1.758285   \n",
       "1                      1.172225              1.147029              1.758285   \n",
       "2                      1.172225              1.147029              1.758285   \n",
       "3                      1.172225              0.239538             -1.083302   \n",
       "4                      1.172225              0.239538             -1.083302   \n",
       "\n",
       "   cat__StockOptionLevel_1  cat__StockOptionLevel_2  \\\n",
       "0                      0.0                      0.0   \n",
       "1                      0.0                      0.0   \n",
       "2                      0.0                      0.0   \n",
       "3                      0.0                      0.0   \n",
       "4                      0.0                      0.0   \n",
       "\n",
       "   cat__BusinessTravel_Non-Travel  cat__BusinessTravel_Travel_Frequently  \\\n",
       "0                             0.0                                    1.0   \n",
       "1                             0.0                                    1.0   \n",
       "2                             0.0                                    1.0   \n",
       "3                             0.0                                    0.0   \n",
       "4                             0.0                                    0.0   \n",
       "\n",
       "   cat__BusinessTravel_Travel_Rarely  cat__Department_Human Resources  \\\n",
       "0                                0.0                              0.0   \n",
       "1                                0.0                              0.0   \n",
       "2                                0.0                              0.0   \n",
       "3                                1.0                              0.0   \n",
       "4                                1.0                              0.0   \n",
       "\n",
       "   cat__Department_Sales  cat__Education_College  cat__Education_Doctor  \\\n",
       "0                    1.0                     0.0                    0.0   \n",
       "1                    1.0                     0.0                    0.0   \n",
       "2                    1.0                     0.0                    0.0   \n",
       "3                    0.0                     0.0                    0.0   \n",
       "4                    0.0                     0.0                    0.0   \n",
       "\n",
       "   cat__EducationField_Human Resources  cat__EducationField_Other  \\\n",
       "0                                  0.0                        0.0   \n",
       "1                                  0.0                        0.0   \n",
       "2                                  0.0                        0.0   \n",
       "3                                  0.0                        0.0   \n",
       "4                                  0.0                        0.0   \n",
       "\n",
       "   cat__EducationField_Technical Degree  cat__JobLevel_2  cat__JobLevel_5  \\\n",
       "0                                   0.0              0.0              0.0   \n",
       "1                                   0.0              0.0              0.0   \n",
       "2                                   0.0              0.0              0.0   \n",
       "3                                   0.0              0.0              0.0   \n",
       "4                                   0.0              0.0              0.0   \n",
       "\n",
       "   cat__JobRole_Manager  cat__JobRole_Manufacturing Director  \\\n",
       "0                   0.0                                  0.0   \n",
       "1                   0.0                                  0.0   \n",
       "2                   0.0                                  0.0   \n",
       "3                   0.0                                  0.0   \n",
       "4                   0.0                                  0.0   \n",
       "\n",
       "   cat__JobRole_Research Director  cat__JobRole_Research Scientist  \\\n",
       "0                             0.0                              0.0   \n",
       "1                             0.0                              0.0   \n",
       "2                             0.0                              0.0   \n",
       "3                             0.0                              1.0   \n",
       "4                             0.0                              1.0   \n",
       "\n",
       "   cat__JobRole_Sales Executive  cat__MaritalStatus_Divorced  \\\n",
       "0                           1.0                          0.0   \n",
       "1                           1.0                          0.0   \n",
       "2                           1.0                          0.0   \n",
       "3                           0.0                          0.0   \n",
       "4                           0.0                          0.0   \n",
       "\n",
       "   cat__MaritalStatus_Married  cat__MaritalStatus_Single  \n",
       "0                         0.0                        1.0  \n",
       "1                         0.0                        1.0  \n",
       "2                         0.0                        1.0  \n",
       "3                         1.0                        0.0  \n",
       "4                         1.0                        0.0  "
      ]
     },
     "execution_count": 125,
     "metadata": {},
     "output_type": "execute_result"
    }
   ],
   "source": [
    "X_new= select_kbest(df_dummies, y, chi2, 30)\n",
    "# Nuevo conjunto de datos\n",
    "df_chi2 = X.iloc[:,X_new]\n",
    "df_chi2.head()"
   ]
  },
  {
   "cell_type": "markdown",
   "metadata": {},
   "source": [
    "## 3.2. RFE"
   ]
  },
  {
   "cell_type": "code",
   "execution_count": 126,
   "metadata": {},
   "outputs": [],
   "source": [
    "# Función recursiva de selección de características\n",
    "def recursive_feature_selection(X, y, model, k):\n",
    "  rfe = RFE(model, n_features_to_select = k, step = 1)\n",
    "  fit = rfe.fit(X, y)\n",
    "  X_new = fit.support_\n",
    "  print(\"Num Features: %s\" % (fit.n_features_))\n",
    "  print(\"Selected Features: %s\" % (fit.support_))\n",
    "  print(\"Feature Ranking: %s\" % (fit.ranking_))\n",
    "\n",
    "  return X_new"
   ]
  },
  {
   "cell_type": "markdown",
   "metadata": {},
   "source": [
    "#### Regresión Logística"
   ]
  },
  {
   "cell_type": "code",
   "execution_count": 127,
   "metadata": {},
   "outputs": [
    {
     "name": "stdout",
     "output_type": "stream",
     "text": [
      "Num Features: 30\n",
      "Selected Features: [ True False False  True False  True  True  True  True  True False False\n",
      " False  True  True  True  True  True False  True  True  True False False\n",
      "  True  True False  True False False False  True False False False False\n",
      " False False  True  True False  True False  True  True  True False  True\n",
      "  True  True  True  True]\n",
      "Feature Ranking: [ 1 20 19  1 18  1  1  1  1  1  8 23 14  1  1  1  1  1  6  1  1  1 13 11\n",
      "  1  1 12  1 22 16  9  1  7 17 15  2  3 10  1  1 21  1  5  1  1  1  4  1\n",
      "  1  1  1  1]\n",
      "<class 'pandas.core.frame.DataFrame'>\n",
      "RangeIndex: 4353 entries, 0 to 4352\n",
      "Data columns (total 30 columns):\n",
      " #   Column                                  Non-Null Count  Dtype  \n",
      "---  ------                                  --------------  -----  \n",
      " 0   num__Age                                4353 non-null   float64\n",
      " 1   num__NumCompaniesWorked                 4353 non-null   float64\n",
      " 2   num__TrainingTimesLastYear              4353 non-null   float64\n",
      " 3   num__YearsAtCompany                     4353 non-null   float64\n",
      " 4   num__EnvironmentSatisfaction            4353 non-null   float64\n",
      " 5   num__JobSatisfaction                    4353 non-null   float64\n",
      " 6   num__WorkLifeBalance                    4353 non-null   float64\n",
      " 7   cat__StockOptionLevel_1                 4353 non-null   float64\n",
      " 8   cat__StockOptionLevel_2                 4353 non-null   float64\n",
      " 9   cat__StockOptionLevel_3                 4353 non-null   float64\n",
      " 10  cat__BusinessTravel_Non-Travel          4353 non-null   float64\n",
      " 11  cat__BusinessTravel_Travel_Frequently   4353 non-null   float64\n",
      " 12  cat__Department_Human Resources         4353 non-null   float64\n",
      " 13  cat__Department_Research & Development  4353 non-null   float64\n",
      " 14  cat__Department_Sales                   4353 non-null   float64\n",
      " 15  cat__Education_College                  4353 non-null   float64\n",
      " 16  cat__Education_Doctor                   4353 non-null   float64\n",
      " 17  cat__EducationField_Human Resources     4353 non-null   float64\n",
      " 18  cat__EducationField_Other               4353 non-null   float64\n",
      " 19  cat__JobLevel_4                         4353 non-null   float64\n",
      " 20  cat__JobLevel_5                         4353 non-null   float64\n",
      " 21  cat__JobRole_Human Resources            4353 non-null   float64\n",
      " 22  cat__JobRole_Manager                    4353 non-null   float64\n",
      " 23  cat__JobRole_Manufacturing Director     4353 non-null   float64\n",
      " 24  cat__JobRole_Research Director          4353 non-null   float64\n",
      " 25  cat__JobRole_Sales Executive            4353 non-null   float64\n",
      " 26  cat__JobRole_Sales Representative       4353 non-null   float64\n",
      " 27  cat__MaritalStatus_Divorced             4353 non-null   float64\n",
      " 28  cat__MaritalStatus_Married              4353 non-null   float64\n",
      " 29  cat__MaritalStatus_Single               4353 non-null   float64\n",
      "dtypes: float64(30)\n",
      "memory usage: 1020.4 KB\n"
     ]
    }
   ],
   "source": [
    "model= LogisticRegression(max_iter = 1000,random_state = 42)\n",
    "X_new=recursive_feature_selection(X, y, model, 30)\n",
    "df_log = X.iloc[:,X_new]\n",
    "df_log.info()"
   ]
  },
  {
   "cell_type": "markdown",
   "metadata": {},
   "source": [
    "#### Bosque Aleatorio"
   ]
  },
  {
   "cell_type": "code",
   "execution_count": 128,
   "metadata": {},
   "outputs": [
    {
     "name": "stdout",
     "output_type": "stream",
     "text": [
      "Num Features: 30\n",
      "Selected Features: [ True  True  True  True  True  True  True  True  True  True  True False\n",
      "  True  True False False False  True False  True  True  True  True False\n",
      "  True False  True False  True False  True False False  True  True  True\n",
      "  True False False False False False False False False False  True  True\n",
      " False False  True  True]\n",
      "Feature Ranking: [ 1  1  1  1  1  1  1  1  1  1  1  7  1  1  5 14 18  1  3  1  1  1  1  8\n",
      "  1 23  1 13  1 12  1 20 16  1  1  1  1  4 10 22 11 21  2 19 15  9  1  1\n",
      " 17  6  1  1]\n",
      "<class 'pandas.core.frame.DataFrame'>\n",
      "RangeIndex: 4353 entries, 0 to 4352\n",
      "Data columns (total 30 columns):\n",
      " #   Column                                  Non-Null Count  Dtype  \n",
      "---  ------                                  --------------  -----  \n",
      " 0   num__Age                                4353 non-null   float64\n",
      " 1   num__DistanceFromHome                   4353 non-null   float64\n",
      " 2   num__MonthlyIncome                      4353 non-null   float64\n",
      " 3   num__NumCompaniesWorked                 4353 non-null   float64\n",
      " 4   num__PercentSalaryHike                  4353 non-null   float64\n",
      " 5   num__TrainingTimesLastYear              4353 non-null   float64\n",
      " 6   num__YearsAtCompany                     4353 non-null   float64\n",
      " 7   num__EnvironmentSatisfaction            4353 non-null   float64\n",
      " 8   num__JobSatisfaction                    4353 non-null   float64\n",
      " 9   num__WorkLifeBalance                    4353 non-null   float64\n",
      " 10  num__JobInvolvement                     4353 non-null   float64\n",
      " 11  cat__StockOptionLevel_0                 4353 non-null   float64\n",
      " 12  cat__StockOptionLevel_1                 4353 non-null   float64\n",
      " 13  cat__BusinessTravel_Travel_Frequently   4353 non-null   float64\n",
      " 14  cat__Department_Human Resources         4353 non-null   float64\n",
      " 15  cat__Department_Research & Development  4353 non-null   float64\n",
      " 16  cat__Department_Sales                   4353 non-null   float64\n",
      " 17  cat__Education_Bachelor                 4353 non-null   float64\n",
      " 18  cat__Education_College                  4353 non-null   float64\n",
      " 19  cat__Education_Master                   4353 non-null   float64\n",
      " 20  cat__EducationField_Life Sciences       4353 non-null   float64\n",
      " 21  cat__EducationField_Medical             4353 non-null   float64\n",
      " 22  cat__Gender_Female                      4353 non-null   float64\n",
      " 23  cat__Gender_Male                        4353 non-null   float64\n",
      " 24  cat__JobLevel_1                         4353 non-null   float64\n",
      " 25  cat__JobLevel_2                         4353 non-null   float64\n",
      " 26  cat__JobRole_Research Scientist         4353 non-null   float64\n",
      " 27  cat__JobRole_Sales Executive            4353 non-null   float64\n",
      " 28  cat__MaritalStatus_Married              4353 non-null   float64\n",
      " 29  cat__MaritalStatus_Single               4353 non-null   float64\n",
      "dtypes: float64(30)\n",
      "memory usage: 1020.4 KB\n"
     ]
    }
   ],
   "source": [
    "model = RandomForestClassifier(n_estimators=300,random_state=42,n_jobs=-1)\n",
    "X_new = recursive_feature_selection(X,y,model,30)\n",
    "df_ranfor = X.iloc[:,X_new]\n",
    "df_ranfor.info()"
   ]
  },
  {
   "cell_type": "markdown",
   "metadata": {},
   "source": [
    "## 3.3. Select From Model"
   ]
  },
  {
   "cell_type": "markdown",
   "metadata": {},
   "source": [
    "#### Ridge Classifier"
   ]
  },
  {
   "cell_type": "code",
   "execution_count": 129,
   "metadata": {},
   "outputs": [
    {
     "name": "stdout",
     "output_type": "stream",
     "text": [
      "[[-0.08979835  0.00367544 -0.00124992  0.05609224  0.00181148 -0.03411547\n",
      "  -0.05903466 -0.05712877 -0.07291674 -0.04634011 -0.01655121 -0.00073082\n",
      "   0.00346062 -0.03425081  0.05351651 -0.02272632 -0.12508586  0.15962088\n",
      "  -0.03453502  0.0942014  -0.03281054 -0.06139087  0.00952648  0.01330525\n",
      "   0.06232095 -0.0937205   0.00856781  0.23838246 -0.01708093 -0.0257377\n",
      "  -0.03979469 -0.09684279 -0.05892634 -0.00677937  0.00677937  0.02307236\n",
      "   0.02795325 -0.00815783  0.01312352 -0.0559913  -0.0109032  -0.01991869\n",
      "   0.02024267 -0.06781267 -0.06968418  0.10096686  0.02461282  0.05912544\n",
      "  -0.03662904 -0.07246516 -0.05433988  0.12680504]]\n",
      "<class 'pandas.core.frame.DataFrame'>\n",
      "RangeIndex: 4353 entries, 0 to 4352\n",
      "Data columns (total 23 columns):\n",
      " #   Column                                 Non-Null Count  Dtype  \n",
      "---  ------                                 --------------  -----  \n",
      " 0   num__Age                               4353 non-null   float64\n",
      " 1   num__NumCompaniesWorked                4353 non-null   float64\n",
      " 2   num__YearsAtCompany                    4353 non-null   float64\n",
      " 3   num__EnvironmentSatisfaction           4353 non-null   float64\n",
      " 4   num__JobSatisfaction                   4353 non-null   float64\n",
      " 5   cat__StockOptionLevel_2                4353 non-null   float64\n",
      " 6   cat__BusinessTravel_Non-Travel         4353 non-null   float64\n",
      " 7   cat__BusinessTravel_Travel_Frequently  4353 non-null   float64\n",
      " 8   cat__Department_Human Resources        4353 non-null   float64\n",
      " 9   cat__Department_Sales                  4353 non-null   float64\n",
      " 10  cat__Education_College                 4353 non-null   float64\n",
      " 11  cat__Education_Doctor                  4353 non-null   float64\n",
      " 12  cat__EducationField_Human Resources    4353 non-null   float64\n",
      " 13  cat__EducationField_Other              4353 non-null   float64\n",
      " 14  cat__EducationField_Technical Degree   4353 non-null   float64\n",
      " 15  cat__JobLevel_5                        4353 non-null   float64\n",
      " 16  cat__JobRole_Manager                   4353 non-null   float64\n",
      " 17  cat__JobRole_Manufacturing Director    4353 non-null   float64\n",
      " 18  cat__JobRole_Research Director         4353 non-null   float64\n",
      " 19  cat__JobRole_Sales Executive           4353 non-null   float64\n",
      " 20  cat__MaritalStatus_Divorced            4353 non-null   float64\n",
      " 21  cat__MaritalStatus_Married             4353 non-null   float64\n",
      " 22  cat__MaritalStatus_Single              4353 non-null   float64\n",
      "dtypes: float64(23)\n",
      "memory usage: 782.3 KB\n"
     ]
    }
   ],
   "source": [
    "# Selector de variables con Ridge\n",
    "sel_ = SelectFromModel(RidgeClassifier(alpha = 0.1, random_state = 24), max_features = 30)\n",
    "sel_.fit(X, y)\n",
    "print(sel_.estimator_.coef_)\n",
    "#Obtener variables seleccionadas\n",
    "X_new = sel_.get_support()\n",
    "\n",
    "df_ridge = X.iloc[:,X_new]\n",
    "df_ridge.info()"
   ]
  },
  {
   "cell_type": "markdown",
   "metadata": {},
   "source": [
    "#### Gradient Boosting"
   ]
  },
  {
   "cell_type": "code",
   "execution_count": 130,
   "metadata": {},
   "outputs": [
    {
     "name": "stdout",
     "output_type": "stream",
     "text": [
      "[0.13891997 0.08351016 0.15912964 0.04883514 0.03240992 0.03135957\n",
      " 0.09214985 0.04676754 0.04978068 0.03226118 0.02825065 0.00097204\n",
      " 0.007998   0.00555035 0.00567556 0.00673349 0.00399315 0.02711231\n",
      " 0.00391793 0.0171706  0.00105337 0.00349381 0.00236852 0.00241963\n",
      " 0.00516953 0.00429824 0.00246991 0.01669587 0.00532117 0.00309121\n",
      " 0.00239425 0.0008501  0.00294284 0.00062385 0.00201262 0.01366885\n",
      " 0.00748204 0.00345163 0.0038023  0.00237723 0.00131809 0.0109373\n",
      " 0.00298753 0.00242533 0.00414139 0.00563971 0.00466464 0.0053686\n",
      " 0.00771037 0.00948144 0.00415444 0.03268645]\n"
     ]
    },
    {
     "data": {
      "text/html": [
       "<div>\n",
       "<style scoped>\n",
       "    .dataframe tbody tr th:only-of-type {\n",
       "        vertical-align: middle;\n",
       "    }\n",
       "\n",
       "    .dataframe tbody tr th {\n",
       "        vertical-align: top;\n",
       "    }\n",
       "\n",
       "    .dataframe thead th {\n",
       "        text-align: right;\n",
       "    }\n",
       "</style>\n",
       "<table border=\"1\" class=\"dataframe\">\n",
       "  <thead>\n",
       "    <tr style=\"text-align: right;\">\n",
       "      <th></th>\n",
       "      <th>num__Age</th>\n",
       "      <th>num__DistanceFromHome</th>\n",
       "      <th>num__MonthlyIncome</th>\n",
       "      <th>num__NumCompaniesWorked</th>\n",
       "      <th>num__PercentSalaryHike</th>\n",
       "      <th>num__TrainingTimesLastYear</th>\n",
       "      <th>num__YearsAtCompany</th>\n",
       "      <th>num__EnvironmentSatisfaction</th>\n",
       "      <th>num__JobSatisfaction</th>\n",
       "      <th>num__WorkLifeBalance</th>\n",
       "      <th>num__JobInvolvement</th>\n",
       "      <th>cat__BusinessTravel_Travel_Frequently</th>\n",
       "      <th>cat__MaritalStatus_Single</th>\n",
       "    </tr>\n",
       "  </thead>\n",
       "  <tbody>\n",
       "    <tr>\n",
       "      <th>0</th>\n",
       "      <td>-0.52393</td>\n",
       "      <td>-0.019402</td>\n",
       "      <td>-0.467319</td>\n",
       "      <td>2.118864</td>\n",
       "      <td>-0.601649</td>\n",
       "      <td>0.930621</td>\n",
       "      <td>-1.238141</td>\n",
       "      <td>1.172225</td>\n",
       "      <td>1.147029</td>\n",
       "      <td>1.758285</td>\n",
       "      <td>0.381187</td>\n",
       "      <td>1.0</td>\n",
       "      <td>1.0</td>\n",
       "    </tr>\n",
       "    <tr>\n",
       "      <th>1</th>\n",
       "      <td>-0.52393</td>\n",
       "      <td>-0.019402</td>\n",
       "      <td>-0.467319</td>\n",
       "      <td>2.118864</td>\n",
       "      <td>-0.601649</td>\n",
       "      <td>0.930621</td>\n",
       "      <td>-1.238141</td>\n",
       "      <td>1.172225</td>\n",
       "      <td>1.147029</td>\n",
       "      <td>1.758285</td>\n",
       "      <td>0.381187</td>\n",
       "      <td>1.0</td>\n",
       "      <td>1.0</td>\n",
       "    </tr>\n",
       "    <tr>\n",
       "      <th>2</th>\n",
       "      <td>-0.52393</td>\n",
       "      <td>-0.019402</td>\n",
       "      <td>-0.467319</td>\n",
       "      <td>2.118864</td>\n",
       "      <td>-0.601649</td>\n",
       "      <td>0.930621</td>\n",
       "      <td>-1.238141</td>\n",
       "      <td>1.172225</td>\n",
       "      <td>1.147029</td>\n",
       "      <td>1.758285</td>\n",
       "      <td>0.381187</td>\n",
       "      <td>1.0</td>\n",
       "      <td>1.0</td>\n",
       "    </tr>\n",
       "    <tr>\n",
       "      <th>3</th>\n",
       "      <td>1.25567</td>\n",
       "      <td>-1.007222</td>\n",
       "      <td>-0.922516</td>\n",
       "      <td>0.518896</td>\n",
       "      <td>0.767107</td>\n",
       "      <td>0.930621</td>\n",
       "      <td>-1.238141</td>\n",
       "      <td>1.172225</td>\n",
       "      <td>0.239538</td>\n",
       "      <td>-1.083302</td>\n",
       "      <td>0.381187</td>\n",
       "      <td>0.0</td>\n",
       "      <td>0.0</td>\n",
       "    </tr>\n",
       "    <tr>\n",
       "      <th>4</th>\n",
       "      <td>1.25567</td>\n",
       "      <td>-1.007222</td>\n",
       "      <td>-0.922516</td>\n",
       "      <td>0.518896</td>\n",
       "      <td>0.767107</td>\n",
       "      <td>0.930621</td>\n",
       "      <td>-1.238141</td>\n",
       "      <td>1.172225</td>\n",
       "      <td>0.239538</td>\n",
       "      <td>-1.083302</td>\n",
       "      <td>0.381187</td>\n",
       "      <td>0.0</td>\n",
       "      <td>0.0</td>\n",
       "    </tr>\n",
       "  </tbody>\n",
       "</table>\n",
       "</div>"
      ],
      "text/plain": [
       "   num__Age  num__DistanceFromHome  num__MonthlyIncome  \\\n",
       "0  -0.52393              -0.019402           -0.467319   \n",
       "1  -0.52393              -0.019402           -0.467319   \n",
       "2  -0.52393              -0.019402           -0.467319   \n",
       "3   1.25567              -1.007222           -0.922516   \n",
       "4   1.25567              -1.007222           -0.922516   \n",
       "\n",
       "   num__NumCompaniesWorked  num__PercentSalaryHike  \\\n",
       "0                 2.118864               -0.601649   \n",
       "1                 2.118864               -0.601649   \n",
       "2                 2.118864               -0.601649   \n",
       "3                 0.518896                0.767107   \n",
       "4                 0.518896                0.767107   \n",
       "\n",
       "   num__TrainingTimesLastYear  num__YearsAtCompany  \\\n",
       "0                    0.930621            -1.238141   \n",
       "1                    0.930621            -1.238141   \n",
       "2                    0.930621            -1.238141   \n",
       "3                    0.930621            -1.238141   \n",
       "4                    0.930621            -1.238141   \n",
       "\n",
       "   num__EnvironmentSatisfaction  num__JobSatisfaction  num__WorkLifeBalance  \\\n",
       "0                      1.172225              1.147029              1.758285   \n",
       "1                      1.172225              1.147029              1.758285   \n",
       "2                      1.172225              1.147029              1.758285   \n",
       "3                      1.172225              0.239538             -1.083302   \n",
       "4                      1.172225              0.239538             -1.083302   \n",
       "\n",
       "   num__JobInvolvement  cat__BusinessTravel_Travel_Frequently  \\\n",
       "0             0.381187                                    1.0   \n",
       "1             0.381187                                    1.0   \n",
       "2             0.381187                                    1.0   \n",
       "3             0.381187                                    0.0   \n",
       "4             0.381187                                    0.0   \n",
       "\n",
       "   cat__MaritalStatus_Single  \n",
       "0                        1.0  \n",
       "1                        1.0  \n",
       "2                        1.0  \n",
       "3                        0.0  \n",
       "4                        0.0  "
      ]
     },
     "execution_count": 130,
     "metadata": {},
     "output_type": "execute_result"
    }
   ],
   "source": [
    "# Selector de variables con Gradient Boosting\n",
    "sel_ = SelectFromModel(GradientBoostingClassifier(n_estimators = 300, random_state=24))\n",
    "sel_.fit(X, y)\n",
    "print(sel_.estimator_.feature_importances_)\n",
    "#Obtener variables seleccionadas\n",
    "X_new = sel_.get_support()\n",
    "\n",
    "df_gb = X.iloc[:,X_new]\n",
    "df_gb.head()"
   ]
  },
  {
   "cell_type": "markdown",
   "metadata": {},
   "source": [
    "## 4. Prueba de Selecciones"
   ]
  },
  {
   "cell_type": "markdown",
   "metadata": {},
   "source": [
    "### 4.1. ANOVA"
   ]
  },
  {
   "cell_type": "code",
   "execution_count": 131,
   "metadata": {},
   "outputs": [],
   "source": [
    "modelos = [LogisticRegression(class_weight='balanced', random_state=42),\n",
    "           DecisionTreeClassifier(class_weight='balanced', random_state=42),\n",
    "           RandomForestClassifier(class_weight='balanced', random_state=42),\n",
    "           GradientBoostingClassifier(random_state=42)]\n",
    "selecciones = {'anova':df_anova, 'chi2':df_chi2, 'log':df_log, 'ranfor':df_ranfor, 'gb':df_gb, 'ridge': df_ridge, 'todas':X}"
   ]
  },
  {
   "cell_type": "code",
   "execution_count": 132,
   "metadata": {},
   "outputs": [],
   "source": [
    "cv = 30\n",
    "df_metrics_total_train = pd.DataFrame()\n",
    "for name, sel in selecciones.items():\n",
    "    metric_model = pd.DataFrame()\n",
    "    for model in modelos:\n",
    "        scores = cross_validate(model, sel, y, scoring = ['recall'], cv = cv, n_jobs = -1, return_train_score = True)\n",
    "        pd_scores = pd.DataFrame(scores['train_recall'])\n",
    "        metric_model = pd.concat([metric_model, pd_scores], axis = 1)\n",
    "    name_sel = pd.DataFrame([name]*cv)\n",
    "    metric_model = pd.concat([metric_model, name_sel], axis = 1)\n",
    "    df_metrics_total_train = pd.concat([df_metrics_total_train, metric_model], axis = 0)\n",
    "\n",
    "df_metrics_total_train.columns = ['LogisticRegression', 'DecisionTreeClassifier', 'RandomForestClassifier', 'GradientBoostingClassifier', 'Seleccion']\n",
    "\n",
    "\n",
    "df_metrics_total_test = pd.DataFrame()\n",
    "for name, sel in selecciones.items():\n",
    "    metric_model = pd.DataFrame()\n",
    "    for model in modelos:\n",
    "        scores = cross_validate(model, sel, y, scoring = ['recall'], cv = cv, n_jobs = -1, return_train_score = True)\n",
    "        pd_scores = pd.DataFrame(scores['test_recall'])\n",
    "        metric_model = pd.concat([metric_model, pd_scores], axis = 1)\n",
    "    name_sel = pd.DataFrame([name]*cv)\n",
    "    metric_model = pd.concat([metric_model, name_sel], axis = 1)\n",
    "    df_metrics_total_test = pd.concat([df_metrics_total_test, metric_model], axis = 0)\n",
    "\n",
    "df_metrics_total_test.columns = ['LogisticRegression', 'DecisionTreeClassifier', 'RandomForestClassifier', 'GradientBoostingClassifier', 'Seleccion']"
   ]
  },
  {
   "cell_type": "code",
   "execution_count": 133,
   "metadata": {},
   "outputs": [
    {
     "data": {
      "application/vnd.plotly.v1+json": {
       "config": {
        "plotlyServerURL": "https://plot.ly"
       },
       "data": [
        {
         "alignmentgroup": "True",
         "hovertemplate": "Seleccion=anova<br>variable=%{x}<br>value=%{y}<extra></extra>",
         "legendgroup": "anova",
         "marker": {
          "color": "#636efa"
         },
         "name": "anova",
         "notched": false,
         "offsetgroup": "anova",
         "orientation": "v",
         "showlegend": true,
         "type": "box",
         "x": [
          "LogisticRegression",
          "LogisticRegression",
          "LogisticRegression",
          "LogisticRegression",
          "LogisticRegression",
          "LogisticRegression",
          "LogisticRegression",
          "LogisticRegression",
          "LogisticRegression",
          "LogisticRegression",
          "LogisticRegression",
          "LogisticRegression",
          "LogisticRegression",
          "LogisticRegression",
          "LogisticRegression",
          "LogisticRegression",
          "LogisticRegression",
          "LogisticRegression",
          "LogisticRegression",
          "LogisticRegression",
          "LogisticRegression",
          "LogisticRegression",
          "LogisticRegression",
          "LogisticRegression",
          "LogisticRegression",
          "LogisticRegression",
          "LogisticRegression",
          "LogisticRegression",
          "LogisticRegression",
          "LogisticRegression",
          "DecisionTreeClassifier",
          "DecisionTreeClassifier",
          "DecisionTreeClassifier",
          "DecisionTreeClassifier",
          "DecisionTreeClassifier",
          "DecisionTreeClassifier",
          "DecisionTreeClassifier",
          "DecisionTreeClassifier",
          "DecisionTreeClassifier",
          "DecisionTreeClassifier",
          "DecisionTreeClassifier",
          "DecisionTreeClassifier",
          "DecisionTreeClassifier",
          "DecisionTreeClassifier",
          "DecisionTreeClassifier",
          "DecisionTreeClassifier",
          "DecisionTreeClassifier",
          "DecisionTreeClassifier",
          "DecisionTreeClassifier",
          "DecisionTreeClassifier",
          "DecisionTreeClassifier",
          "DecisionTreeClassifier",
          "DecisionTreeClassifier",
          "DecisionTreeClassifier",
          "DecisionTreeClassifier",
          "DecisionTreeClassifier",
          "DecisionTreeClassifier",
          "DecisionTreeClassifier",
          "DecisionTreeClassifier",
          "DecisionTreeClassifier",
          "RandomForestClassifier",
          "RandomForestClassifier",
          "RandomForestClassifier",
          "RandomForestClassifier",
          "RandomForestClassifier",
          "RandomForestClassifier",
          "RandomForestClassifier",
          "RandomForestClassifier",
          "RandomForestClassifier",
          "RandomForestClassifier",
          "RandomForestClassifier",
          "RandomForestClassifier",
          "RandomForestClassifier",
          "RandomForestClassifier",
          "RandomForestClassifier",
          "RandomForestClassifier",
          "RandomForestClassifier",
          "RandomForestClassifier",
          "RandomForestClassifier",
          "RandomForestClassifier",
          "RandomForestClassifier",
          "RandomForestClassifier",
          "RandomForestClassifier",
          "RandomForestClassifier",
          "RandomForestClassifier",
          "RandomForestClassifier",
          "RandomForestClassifier",
          "RandomForestClassifier",
          "RandomForestClassifier",
          "RandomForestClassifier",
          "GradientBoostingClassifier",
          "GradientBoostingClassifier",
          "GradientBoostingClassifier",
          "GradientBoostingClassifier",
          "GradientBoostingClassifier",
          "GradientBoostingClassifier",
          "GradientBoostingClassifier",
          "GradientBoostingClassifier",
          "GradientBoostingClassifier",
          "GradientBoostingClassifier",
          "GradientBoostingClassifier",
          "GradientBoostingClassifier",
          "GradientBoostingClassifier",
          "GradientBoostingClassifier",
          "GradientBoostingClassifier",
          "GradientBoostingClassifier",
          "GradientBoostingClassifier",
          "GradientBoostingClassifier",
          "GradientBoostingClassifier",
          "GradientBoostingClassifier",
          "GradientBoostingClassifier",
          "GradientBoostingClassifier",
          "GradientBoostingClassifier",
          "GradientBoostingClassifier",
          "GradientBoostingClassifier",
          "GradientBoostingClassifier",
          "GradientBoostingClassifier",
          "GradientBoostingClassifier",
          "GradientBoostingClassifier",
          "GradientBoostingClassifier"
         ],
         "x0": " ",
         "xaxis": "x",
         "y": [
          0.7001795332136446,
          0.7001795332136446,
          0.6947935368043088,
          0.6863799283154122,
          0.7025089605734767,
          0.6989247311827957,
          0.6899641577060932,
          0.7078853046594982,
          0.6917562724014337,
          0.7007168458781362,
          0.7096774193548387,
          0.6827956989247311,
          0.7007168458781362,
          0.6935483870967742,
          0.7007168458781362,
          0.7007168458781362,
          0.7007168458781362,
          0.6881720430107527,
          0.7025089605734767,
          0.7060931899641577,
          0.6738351254480287,
          0.6917562724014337,
          0.7007168458781362,
          0.7204301075268817,
          0.7204301075268817,
          0.7132616487455197,
          0.7127468581687613,
          0.7109515260323159,
          0.6983842010771992,
          0.6983842010771992,
          1,
          1,
          1,
          1,
          1,
          1,
          1,
          1,
          1,
          1,
          1,
          1,
          1,
          1,
          1,
          1,
          1,
          1,
          1,
          1,
          1,
          1,
          1,
          1,
          1,
          1,
          1,
          1,
          1,
          1,
          0.9946140035906643,
          0.9964093357271095,
          0.9982046678635548,
          0.9946236559139785,
          0.992831541218638,
          0.9946236559139785,
          0.992831541218638,
          0.9946236559139785,
          0.9946236559139785,
          0.9946236559139785,
          0.9982078853046595,
          0.9982078853046595,
          0.996415770609319,
          0.996415770609319,
          0.9946236559139785,
          0.9946236559139785,
          0.9982078853046595,
          0.992831541218638,
          0.9946236559139785,
          0.992831541218638,
          0.992831541218638,
          0.9946236559139785,
          0.9946236559139785,
          0.9946236559139785,
          0.9946236559139785,
          0.9946236559139785,
          0.9946140035906643,
          0.9946140035906643,
          0.992818671454219,
          0.992818671454219,
          0.3105924596050269,
          0.3249551166965889,
          0.3267504488330341,
          0.30824372759856633,
          0.30824372759856633,
          0.2921146953405018,
          0.2867383512544803,
          0.2724014336917563,
          0.2939068100358423,
          0.3046594982078853,
          0.2956989247311828,
          0.33154121863799285,
          0.2939068100358423,
          0.2777777777777778,
          0.30286738351254483,
          0.30286738351254483,
          0.3172043010752688,
          0.3602150537634409,
          0.3100358422939068,
          0.31362007168458783,
          0.3064516129032258,
          0.3100358422939068,
          0.3064516129032258,
          0.3064516129032258,
          0.2867383512544803,
          0.31899641577060933,
          0.3267504488330341,
          0.29443447037701975,
          0.3177737881508079,
          0.3141831238779174
         ],
         "y0": " ",
         "yaxis": "y"
        },
        {
         "alignmentgroup": "True",
         "hovertemplate": "Seleccion=chi2<br>variable=%{x}<br>value=%{y}<extra></extra>",
         "legendgroup": "chi2",
         "marker": {
          "color": "#EF553B"
         },
         "name": "chi2",
         "notched": false,
         "offsetgroup": "chi2",
         "orientation": "v",
         "showlegend": true,
         "type": "box",
         "x": [
          "LogisticRegression",
          "LogisticRegression",
          "LogisticRegression",
          "LogisticRegression",
          "LogisticRegression",
          "LogisticRegression",
          "LogisticRegression",
          "LogisticRegression",
          "LogisticRegression",
          "LogisticRegression",
          "LogisticRegression",
          "LogisticRegression",
          "LogisticRegression",
          "LogisticRegression",
          "LogisticRegression",
          "LogisticRegression",
          "LogisticRegression",
          "LogisticRegression",
          "LogisticRegression",
          "LogisticRegression",
          "LogisticRegression",
          "LogisticRegression",
          "LogisticRegression",
          "LogisticRegression",
          "LogisticRegression",
          "LogisticRegression",
          "LogisticRegression",
          "LogisticRegression",
          "LogisticRegression",
          "LogisticRegression",
          "DecisionTreeClassifier",
          "DecisionTreeClassifier",
          "DecisionTreeClassifier",
          "DecisionTreeClassifier",
          "DecisionTreeClassifier",
          "DecisionTreeClassifier",
          "DecisionTreeClassifier",
          "DecisionTreeClassifier",
          "DecisionTreeClassifier",
          "DecisionTreeClassifier",
          "DecisionTreeClassifier",
          "DecisionTreeClassifier",
          "DecisionTreeClassifier",
          "DecisionTreeClassifier",
          "DecisionTreeClassifier",
          "DecisionTreeClassifier",
          "DecisionTreeClassifier",
          "DecisionTreeClassifier",
          "DecisionTreeClassifier",
          "DecisionTreeClassifier",
          "DecisionTreeClassifier",
          "DecisionTreeClassifier",
          "DecisionTreeClassifier",
          "DecisionTreeClassifier",
          "DecisionTreeClassifier",
          "DecisionTreeClassifier",
          "DecisionTreeClassifier",
          "DecisionTreeClassifier",
          "DecisionTreeClassifier",
          "DecisionTreeClassifier",
          "RandomForestClassifier",
          "RandomForestClassifier",
          "RandomForestClassifier",
          "RandomForestClassifier",
          "RandomForestClassifier",
          "RandomForestClassifier",
          "RandomForestClassifier",
          "RandomForestClassifier",
          "RandomForestClassifier",
          "RandomForestClassifier",
          "RandomForestClassifier",
          "RandomForestClassifier",
          "RandomForestClassifier",
          "RandomForestClassifier",
          "RandomForestClassifier",
          "RandomForestClassifier",
          "RandomForestClassifier",
          "RandomForestClassifier",
          "RandomForestClassifier",
          "RandomForestClassifier",
          "RandomForestClassifier",
          "RandomForestClassifier",
          "RandomForestClassifier",
          "RandomForestClassifier",
          "RandomForestClassifier",
          "RandomForestClassifier",
          "RandomForestClassifier",
          "RandomForestClassifier",
          "RandomForestClassifier",
          "RandomForestClassifier",
          "GradientBoostingClassifier",
          "GradientBoostingClassifier",
          "GradientBoostingClassifier",
          "GradientBoostingClassifier",
          "GradientBoostingClassifier",
          "GradientBoostingClassifier",
          "GradientBoostingClassifier",
          "GradientBoostingClassifier",
          "GradientBoostingClassifier",
          "GradientBoostingClassifier",
          "GradientBoostingClassifier",
          "GradientBoostingClassifier",
          "GradientBoostingClassifier",
          "GradientBoostingClassifier",
          "GradientBoostingClassifier",
          "GradientBoostingClassifier",
          "GradientBoostingClassifier",
          "GradientBoostingClassifier",
          "GradientBoostingClassifier",
          "GradientBoostingClassifier",
          "GradientBoostingClassifier",
          "GradientBoostingClassifier",
          "GradientBoostingClassifier",
          "GradientBoostingClassifier",
          "GradientBoostingClassifier",
          "GradientBoostingClassifier",
          "GradientBoostingClassifier",
          "GradientBoostingClassifier",
          "GradientBoostingClassifier",
          "GradientBoostingClassifier"
         ],
         "x0": " ",
         "xaxis": "x",
         "y": [
          0.7073608617594255,
          0.7001795332136446,
          0.6822262118491921,
          0.6845878136200717,
          0.6935483870967742,
          0.6845878136200717,
          0.6917562724014337,
          0.7078853046594982,
          0.6863799283154122,
          0.7043010752688172,
          0.7025089605734767,
          0.6953405017921147,
          0.7007168458781362,
          0.6827956989247311,
          0.7043010752688172,
          0.6863799283154122,
          0.7078853046594982,
          0.7025089605734767,
          0.6989247311827957,
          0.7060931899641577,
          0.7043010752688172,
          0.6810035842293907,
          0.6989247311827957,
          0.7007168458781362,
          0.7186379928315412,
          0.7060931899641577,
          0.7109515260323159,
          0.7127468581687613,
          0.6983842010771992,
          0.703770197486535,
          1,
          1,
          1,
          1,
          1,
          1,
          1,
          1,
          1,
          1,
          1,
          1,
          1,
          1,
          1,
          1,
          1,
          1,
          1,
          1,
          1,
          1,
          1,
          1,
          1,
          1,
          1,
          1,
          1,
          1,
          0.9946140035906643,
          0.9964093357271095,
          0.9964093357271095,
          0.9946236559139785,
          0.996415770609319,
          0.9946236559139785,
          0.9946236559139785,
          0.992831541218638,
          0.9946236559139785,
          0.996415770609319,
          0.996415770609319,
          0.996415770609319,
          0.996415770609319,
          0.9946236559139785,
          0.9946236559139785,
          0.9946236559139785,
          0.9982078853046595,
          0.992831541218638,
          0.9910394265232975,
          0.996415770609319,
          0.9946236559139785,
          0.9946236559139785,
          0.9946236559139785,
          0.9946236559139785,
          0.9946236559139785,
          0.996415770609319,
          0.9946140035906643,
          0.9964093357271095,
          0.9946140035906643,
          0.9964093357271095,
          0.3213644524236984,
          0.3213644524236984,
          0.3087971274685817,
          0.3172043010752688,
          0.32437275985663083,
          0.2777777777777778,
          0.2974910394265233,
          0.27419354838709675,
          0.2724014336917563,
          0.33691756272401435,
          0.3207885304659498,
          0.3207885304659498,
          0.3154121863799283,
          0.28136200716845877,
          0.31362007168458783,
          0.34408602150537637,
          0.3387096774193548,
          0.32616487455197135,
          0.32974910394265233,
          0.3010752688172043,
          0.3100358422939068,
          0.3154121863799283,
          0.3172043010752688,
          0.3154121863799283,
          0.2992831541218638,
          0.31899641577060933,
          0.3213644524236984,
          0.30341113105924594,
          0.31597845601436264,
          0.3016157989228007
         ],
         "y0": " ",
         "yaxis": "y"
        },
        {
         "alignmentgroup": "True",
         "hovertemplate": "Seleccion=log<br>variable=%{x}<br>value=%{y}<extra></extra>",
         "legendgroup": "log",
         "marker": {
          "color": "#00cc96"
         },
         "name": "log",
         "notched": false,
         "offsetgroup": "log",
         "orientation": "v",
         "showlegend": true,
         "type": "box",
         "x": [
          "LogisticRegression",
          "LogisticRegression",
          "LogisticRegression",
          "LogisticRegression",
          "LogisticRegression",
          "LogisticRegression",
          "LogisticRegression",
          "LogisticRegression",
          "LogisticRegression",
          "LogisticRegression",
          "LogisticRegression",
          "LogisticRegression",
          "LogisticRegression",
          "LogisticRegression",
          "LogisticRegression",
          "LogisticRegression",
          "LogisticRegression",
          "LogisticRegression",
          "LogisticRegression",
          "LogisticRegression",
          "LogisticRegression",
          "LogisticRegression",
          "LogisticRegression",
          "LogisticRegression",
          "LogisticRegression",
          "LogisticRegression",
          "LogisticRegression",
          "LogisticRegression",
          "LogisticRegression",
          "LogisticRegression",
          "DecisionTreeClassifier",
          "DecisionTreeClassifier",
          "DecisionTreeClassifier",
          "DecisionTreeClassifier",
          "DecisionTreeClassifier",
          "DecisionTreeClassifier",
          "DecisionTreeClassifier",
          "DecisionTreeClassifier",
          "DecisionTreeClassifier",
          "DecisionTreeClassifier",
          "DecisionTreeClassifier",
          "DecisionTreeClassifier",
          "DecisionTreeClassifier",
          "DecisionTreeClassifier",
          "DecisionTreeClassifier",
          "DecisionTreeClassifier",
          "DecisionTreeClassifier",
          "DecisionTreeClassifier",
          "DecisionTreeClassifier",
          "DecisionTreeClassifier",
          "DecisionTreeClassifier",
          "DecisionTreeClassifier",
          "DecisionTreeClassifier",
          "DecisionTreeClassifier",
          "DecisionTreeClassifier",
          "DecisionTreeClassifier",
          "DecisionTreeClassifier",
          "DecisionTreeClassifier",
          "DecisionTreeClassifier",
          "DecisionTreeClassifier",
          "RandomForestClassifier",
          "RandomForestClassifier",
          "RandomForestClassifier",
          "RandomForestClassifier",
          "RandomForestClassifier",
          "RandomForestClassifier",
          "RandomForestClassifier",
          "RandomForestClassifier",
          "RandomForestClassifier",
          "RandomForestClassifier",
          "RandomForestClassifier",
          "RandomForestClassifier",
          "RandomForestClassifier",
          "RandomForestClassifier",
          "RandomForestClassifier",
          "RandomForestClassifier",
          "RandomForestClassifier",
          "RandomForestClassifier",
          "RandomForestClassifier",
          "RandomForestClassifier",
          "RandomForestClassifier",
          "RandomForestClassifier",
          "RandomForestClassifier",
          "RandomForestClassifier",
          "RandomForestClassifier",
          "RandomForestClassifier",
          "RandomForestClassifier",
          "RandomForestClassifier",
          "RandomForestClassifier",
          "RandomForestClassifier",
          "GradientBoostingClassifier",
          "GradientBoostingClassifier",
          "GradientBoostingClassifier",
          "GradientBoostingClassifier",
          "GradientBoostingClassifier",
          "GradientBoostingClassifier",
          "GradientBoostingClassifier",
          "GradientBoostingClassifier",
          "GradientBoostingClassifier",
          "GradientBoostingClassifier",
          "GradientBoostingClassifier",
          "GradientBoostingClassifier",
          "GradientBoostingClassifier",
          "GradientBoostingClassifier",
          "GradientBoostingClassifier",
          "GradientBoostingClassifier",
          "GradientBoostingClassifier",
          "GradientBoostingClassifier",
          "GradientBoostingClassifier",
          "GradientBoostingClassifier",
          "GradientBoostingClassifier",
          "GradientBoostingClassifier",
          "GradientBoostingClassifier",
          "GradientBoostingClassifier",
          "GradientBoostingClassifier",
          "GradientBoostingClassifier",
          "GradientBoostingClassifier",
          "GradientBoostingClassifier",
          "GradientBoostingClassifier",
          "GradientBoostingClassifier"
         ],
         "x0": " ",
         "xaxis": "x",
         "y": [
          0.7145421903052065,
          0.7073608617594255,
          0.7001795332136446,
          0.7132616487455197,
          0.6989247311827957,
          0.6989247311827957,
          0.6989247311827957,
          0.6989247311827957,
          0.7114695340501792,
          0.7078853046594982,
          0.7060931899641577,
          0.7043010752688172,
          0.6917562724014337,
          0.7043010752688172,
          0.7060931899641577,
          0.7150537634408602,
          0.7043010752688172,
          0.7078853046594982,
          0.7078853046594982,
          0.7043010752688172,
          0.7007168458781362,
          0.6881720430107527,
          0.7150537634408602,
          0.7186379928315412,
          0.7293906810035843,
          0.7168458781362007,
          0.718132854578097,
          0.7127468581687613,
          0.7199281867145422,
          0.6983842010771992,
          1,
          1,
          1,
          1,
          1,
          1,
          1,
          1,
          1,
          1,
          1,
          1,
          1,
          1,
          1,
          1,
          1,
          1,
          1,
          1,
          1,
          1,
          1,
          1,
          1,
          1,
          1,
          1,
          1,
          1,
          0.9964093357271095,
          0.9982046678635548,
          0.9964093357271095,
          0.992831541218638,
          0.9946236559139785,
          0.992831541218638,
          0.992831541218638,
          0.9946236559139785,
          0.992831541218638,
          0.9946236559139785,
          0.996415770609319,
          0.9982078853046595,
          0.9946236559139785,
          0.9946236559139785,
          0.992831541218638,
          0.9946236559139785,
          0.9982078853046595,
          0.992831541218638,
          0.9910394265232975,
          0.9946236559139785,
          0.9910394265232975,
          0.992831541218638,
          0.992831541218638,
          0.9946236559139785,
          0.9946236559139785,
          0.996415770609319,
          0.9946140035906643,
          0.9946140035906643,
          0.9946140035906643,
          0.9964093357271095,
          0.3177737881508079,
          0.30700179533213645,
          0.3375224416517056,
          0.3207885304659498,
          0.3064516129032258,
          0.2831541218637993,
          0.27956989247311825,
          0.2939068100358423,
          0.2939068100358423,
          0.3279569892473118,
          0.33154121863799285,
          0.2903225806451613,
          0.3172043010752688,
          0.3064516129032258,
          0.2831541218637993,
          0.32437275985663083,
          0.3010752688172043,
          0.31362007168458783,
          0.32437275985663083,
          0.31899641577060933,
          0.3046594982078853,
          0.32616487455197135,
          0.32437275985663083,
          0.32437275985663083,
          0.3118279569892473,
          0.33154121863799285,
          0.30341113105924594,
          0.31956912028725315,
          0.3267504488330341,
          0.2980251346499102
         ],
         "y0": " ",
         "yaxis": "y"
        },
        {
         "alignmentgroup": "True",
         "hovertemplate": "Seleccion=ranfor<br>variable=%{x}<br>value=%{y}<extra></extra>",
         "legendgroup": "ranfor",
         "marker": {
          "color": "#ab63fa"
         },
         "name": "ranfor",
         "notched": false,
         "offsetgroup": "ranfor",
         "orientation": "v",
         "showlegend": true,
         "type": "box",
         "x": [
          "LogisticRegression",
          "LogisticRegression",
          "LogisticRegression",
          "LogisticRegression",
          "LogisticRegression",
          "LogisticRegression",
          "LogisticRegression",
          "LogisticRegression",
          "LogisticRegression",
          "LogisticRegression",
          "LogisticRegression",
          "LogisticRegression",
          "LogisticRegression",
          "LogisticRegression",
          "LogisticRegression",
          "LogisticRegression",
          "LogisticRegression",
          "LogisticRegression",
          "LogisticRegression",
          "LogisticRegression",
          "LogisticRegression",
          "LogisticRegression",
          "LogisticRegression",
          "LogisticRegression",
          "LogisticRegression",
          "LogisticRegression",
          "LogisticRegression",
          "LogisticRegression",
          "LogisticRegression",
          "LogisticRegression",
          "DecisionTreeClassifier",
          "DecisionTreeClassifier",
          "DecisionTreeClassifier",
          "DecisionTreeClassifier",
          "DecisionTreeClassifier",
          "DecisionTreeClassifier",
          "DecisionTreeClassifier",
          "DecisionTreeClassifier",
          "DecisionTreeClassifier",
          "DecisionTreeClassifier",
          "DecisionTreeClassifier",
          "DecisionTreeClassifier",
          "DecisionTreeClassifier",
          "DecisionTreeClassifier",
          "DecisionTreeClassifier",
          "DecisionTreeClassifier",
          "DecisionTreeClassifier",
          "DecisionTreeClassifier",
          "DecisionTreeClassifier",
          "DecisionTreeClassifier",
          "DecisionTreeClassifier",
          "DecisionTreeClassifier",
          "DecisionTreeClassifier",
          "DecisionTreeClassifier",
          "DecisionTreeClassifier",
          "DecisionTreeClassifier",
          "DecisionTreeClassifier",
          "DecisionTreeClassifier",
          "DecisionTreeClassifier",
          "DecisionTreeClassifier",
          "RandomForestClassifier",
          "RandomForestClassifier",
          "RandomForestClassifier",
          "RandomForestClassifier",
          "RandomForestClassifier",
          "RandomForestClassifier",
          "RandomForestClassifier",
          "RandomForestClassifier",
          "RandomForestClassifier",
          "RandomForestClassifier",
          "RandomForestClassifier",
          "RandomForestClassifier",
          "RandomForestClassifier",
          "RandomForestClassifier",
          "RandomForestClassifier",
          "RandomForestClassifier",
          "RandomForestClassifier",
          "RandomForestClassifier",
          "RandomForestClassifier",
          "RandomForestClassifier",
          "RandomForestClassifier",
          "RandomForestClassifier",
          "RandomForestClassifier",
          "RandomForestClassifier",
          "RandomForestClassifier",
          "RandomForestClassifier",
          "RandomForestClassifier",
          "RandomForestClassifier",
          "RandomForestClassifier",
          "RandomForestClassifier",
          "GradientBoostingClassifier",
          "GradientBoostingClassifier",
          "GradientBoostingClassifier",
          "GradientBoostingClassifier",
          "GradientBoostingClassifier",
          "GradientBoostingClassifier",
          "GradientBoostingClassifier",
          "GradientBoostingClassifier",
          "GradientBoostingClassifier",
          "GradientBoostingClassifier",
          "GradientBoostingClassifier",
          "GradientBoostingClassifier",
          "GradientBoostingClassifier",
          "GradientBoostingClassifier",
          "GradientBoostingClassifier",
          "GradientBoostingClassifier",
          "GradientBoostingClassifier",
          "GradientBoostingClassifier",
          "GradientBoostingClassifier",
          "GradientBoostingClassifier",
          "GradientBoostingClassifier",
          "GradientBoostingClassifier",
          "GradientBoostingClassifier",
          "GradientBoostingClassifier",
          "GradientBoostingClassifier",
          "GradientBoostingClassifier",
          "GradientBoostingClassifier",
          "GradientBoostingClassifier",
          "GradientBoostingClassifier",
          "GradientBoostingClassifier"
         ],
         "x0": " ",
         "xaxis": "x",
         "y": [
          0.6947935368043088,
          0.6894075403949731,
          0.6894075403949731,
          0.6935483870967742,
          0.6899641577060932,
          0.6953405017921147,
          0.6863799283154122,
          0.6899641577060932,
          0.6953405017921147,
          0.6899641577060932,
          0.7060931899641577,
          0.6792114695340502,
          0.6792114695340502,
          0.6917562724014337,
          0.6881720430107527,
          0.6989247311827957,
          0.6756272401433692,
          0.6881720430107527,
          0.6881720430107527,
          0.6899641577060932,
          0.6845878136200717,
          0.6881720430107527,
          0.6845878136200717,
          0.7078853046594982,
          0.7078853046594982,
          0.6989247311827957,
          0.7001795332136446,
          0.6858168761220825,
          0.6983842010771992,
          0.6840215439856373,
          1,
          1,
          1,
          1,
          1,
          1,
          1,
          1,
          1,
          1,
          1,
          1,
          1,
          1,
          1,
          1,
          1,
          1,
          1,
          1,
          1,
          1,
          1,
          1,
          1,
          1,
          1,
          1,
          1,
          1,
          0.9946140035906643,
          0.9964093357271095,
          0.9946140035906643,
          0.992831541218638,
          0.9946236559139785,
          0.9946236559139785,
          0.992831541218638,
          0.992831541218638,
          0.992831541218638,
          0.996415770609319,
          0.9982078853046595,
          0.9946236559139785,
          0.992831541218638,
          0.996415770609319,
          0.996415770609319,
          0.992831541218638,
          0.996415770609319,
          0.992831541218638,
          0.992831541218638,
          0.9946236559139785,
          0.9946236559139785,
          0.992831541218638,
          0.9946236559139785,
          0.9946236559139785,
          0.9946236559139785,
          0.9946236559139785,
          0.992818671454219,
          0.9946140035906643,
          0.992818671454219,
          0.992818671454219,
          0.3231597845601436,
          0.3213644524236984,
          0.31597845601436264,
          0.3333333333333333,
          0.3172043010752688,
          0.2921146953405018,
          0.3225806451612903,
          0.30286738351254483,
          0.3064516129032258,
          0.31899641577060933,
          0.31899641577060933,
          0.3154121863799283,
          0.32974910394265233,
          0.32616487455197135,
          0.3118279569892473,
          0.32974910394265233,
          0.32616487455197135,
          0.3207885304659498,
          0.33691756272401435,
          0.3154121863799283,
          0.34408602150537637,
          0.34408602150537637,
          0.32974910394265233,
          0.35304659498207885,
          0.3154121863799283,
          0.34408602150537637,
          0.3339317773788151,
          0.3213644524236984,
          0.34111310592459604,
          0.3141831238779174
         ],
         "y0": " ",
         "yaxis": "y"
        },
        {
         "alignmentgroup": "True",
         "hovertemplate": "Seleccion=gb<br>variable=%{x}<br>value=%{y}<extra></extra>",
         "legendgroup": "gb",
         "marker": {
          "color": "#FFA15A"
         },
         "name": "gb",
         "notched": false,
         "offsetgroup": "gb",
         "orientation": "v",
         "showlegend": true,
         "type": "box",
         "x": [
          "LogisticRegression",
          "LogisticRegression",
          "LogisticRegression",
          "LogisticRegression",
          "LogisticRegression",
          "LogisticRegression",
          "LogisticRegression",
          "LogisticRegression",
          "LogisticRegression",
          "LogisticRegression",
          "LogisticRegression",
          "LogisticRegression",
          "LogisticRegression",
          "LogisticRegression",
          "LogisticRegression",
          "LogisticRegression",
          "LogisticRegression",
          "LogisticRegression",
          "LogisticRegression",
          "LogisticRegression",
          "LogisticRegression",
          "LogisticRegression",
          "LogisticRegression",
          "LogisticRegression",
          "LogisticRegression",
          "LogisticRegression",
          "LogisticRegression",
          "LogisticRegression",
          "LogisticRegression",
          "LogisticRegression",
          "DecisionTreeClassifier",
          "DecisionTreeClassifier",
          "DecisionTreeClassifier",
          "DecisionTreeClassifier",
          "DecisionTreeClassifier",
          "DecisionTreeClassifier",
          "DecisionTreeClassifier",
          "DecisionTreeClassifier",
          "DecisionTreeClassifier",
          "DecisionTreeClassifier",
          "DecisionTreeClassifier",
          "DecisionTreeClassifier",
          "DecisionTreeClassifier",
          "DecisionTreeClassifier",
          "DecisionTreeClassifier",
          "DecisionTreeClassifier",
          "DecisionTreeClassifier",
          "DecisionTreeClassifier",
          "DecisionTreeClassifier",
          "DecisionTreeClassifier",
          "DecisionTreeClassifier",
          "DecisionTreeClassifier",
          "DecisionTreeClassifier",
          "DecisionTreeClassifier",
          "DecisionTreeClassifier",
          "DecisionTreeClassifier",
          "DecisionTreeClassifier",
          "DecisionTreeClassifier",
          "DecisionTreeClassifier",
          "DecisionTreeClassifier",
          "RandomForestClassifier",
          "RandomForestClassifier",
          "RandomForestClassifier",
          "RandomForestClassifier",
          "RandomForestClassifier",
          "RandomForestClassifier",
          "RandomForestClassifier",
          "RandomForestClassifier",
          "RandomForestClassifier",
          "RandomForestClassifier",
          "RandomForestClassifier",
          "RandomForestClassifier",
          "RandomForestClassifier",
          "RandomForestClassifier",
          "RandomForestClassifier",
          "RandomForestClassifier",
          "RandomForestClassifier",
          "RandomForestClassifier",
          "RandomForestClassifier",
          "RandomForestClassifier",
          "RandomForestClassifier",
          "RandomForestClassifier",
          "RandomForestClassifier",
          "RandomForestClassifier",
          "RandomForestClassifier",
          "RandomForestClassifier",
          "RandomForestClassifier",
          "RandomForestClassifier",
          "RandomForestClassifier",
          "RandomForestClassifier",
          "GradientBoostingClassifier",
          "GradientBoostingClassifier",
          "GradientBoostingClassifier",
          "GradientBoostingClassifier",
          "GradientBoostingClassifier",
          "GradientBoostingClassifier",
          "GradientBoostingClassifier",
          "GradientBoostingClassifier",
          "GradientBoostingClassifier",
          "GradientBoostingClassifier",
          "GradientBoostingClassifier",
          "GradientBoostingClassifier",
          "GradientBoostingClassifier",
          "GradientBoostingClassifier",
          "GradientBoostingClassifier",
          "GradientBoostingClassifier",
          "GradientBoostingClassifier",
          "GradientBoostingClassifier",
          "GradientBoostingClassifier",
          "GradientBoostingClassifier",
          "GradientBoostingClassifier",
          "GradientBoostingClassifier",
          "GradientBoostingClassifier",
          "GradientBoostingClassifier",
          "GradientBoostingClassifier",
          "GradientBoostingClassifier",
          "GradientBoostingClassifier",
          "GradientBoostingClassifier",
          "GradientBoostingClassifier",
          "GradientBoostingClassifier"
         ],
         "x0": " ",
         "xaxis": "x",
         "y": [
          0.6804308797127468,
          0.6840215439856373,
          0.6696588868940754,
          0.6738351254480287,
          0.6881720430107527,
          0.6827956989247311,
          0.6648745519713262,
          0.6863799283154122,
          0.6684587813620072,
          0.6792114695340502,
          0.6810035842293907,
          0.6684587813620072,
          0.6702508960573477,
          0.6738351254480287,
          0.6720430107526881,
          0.6827956989247311,
          0.6756272401433692,
          0.6738351254480287,
          0.6899641577060932,
          0.6792114695340502,
          0.6738351254480287,
          0.6756272401433692,
          0.6917562724014337,
          0.6827956989247311,
          0.6881720430107527,
          0.6899641577060932,
          0.6858168761220825,
          0.6750448833034112,
          0.6840215439856373,
          0.7001795332136446,
          1,
          1,
          1,
          1,
          1,
          1,
          1,
          1,
          1,
          1,
          1,
          1,
          1,
          1,
          1,
          1,
          1,
          1,
          1,
          1,
          1,
          1,
          1,
          1,
          1,
          1,
          1,
          1,
          1,
          1,
          0.9964093357271095,
          0.9982046678635548,
          0.9964093357271095,
          0.992831541218638,
          0.992831541218638,
          0.9946236559139785,
          0.9946236559139785,
          0.9946236559139785,
          0.992831541218638,
          0.996415770609319,
          0.9982078853046595,
          0.9946236559139785,
          0.9946236559139785,
          0.9946236559139785,
          0.996415770609319,
          0.9946236559139785,
          0.9946236559139785,
          0.9946236559139785,
          0.9946236559139785,
          0.992831541218638,
          0.992831541218638,
          0.996415770609319,
          0.992831541218638,
          0.996415770609319,
          0.996415770609319,
          0.992831541218638,
          0.9946140035906643,
          0.992818671454219,
          0.992818671454219,
          0.9946140035906643,
          0.2998204667863555,
          0.3357271095152603,
          0.3177737881508079,
          0.32974910394265233,
          0.32616487455197135,
          0.3010752688172043,
          0.3010752688172043,
          0.3100358422939068,
          0.2992831541218638,
          0.30286738351254483,
          0.31899641577060933,
          0.2956989247311828,
          0.30824372759856633,
          0.33154121863799285,
          0.34229390681003585,
          0.3100358422939068,
          0.3225806451612903,
          0.32974910394265233,
          0.3046594982078853,
          0.2921146953405018,
          0.33512544802867383,
          0.30824372759856633,
          0.2992831541218638,
          0.31899641577060933,
          0.3225806451612903,
          0.33691756272401435,
          0.348294434470377,
          0.3105924596050269,
          0.30700179533213645,
          0.29084380610412924
         ],
         "y0": " ",
         "yaxis": "y"
        },
        {
         "alignmentgroup": "True",
         "hovertemplate": "Seleccion=ridge<br>variable=%{x}<br>value=%{y}<extra></extra>",
         "legendgroup": "ridge",
         "marker": {
          "color": "#19d3f3"
         },
         "name": "ridge",
         "notched": false,
         "offsetgroup": "ridge",
         "orientation": "v",
         "showlegend": true,
         "type": "box",
         "x": [
          "LogisticRegression",
          "LogisticRegression",
          "LogisticRegression",
          "LogisticRegression",
          "LogisticRegression",
          "LogisticRegression",
          "LogisticRegression",
          "LogisticRegression",
          "LogisticRegression",
          "LogisticRegression",
          "LogisticRegression",
          "LogisticRegression",
          "LogisticRegression",
          "LogisticRegression",
          "LogisticRegression",
          "LogisticRegression",
          "LogisticRegression",
          "LogisticRegression",
          "LogisticRegression",
          "LogisticRegression",
          "LogisticRegression",
          "LogisticRegression",
          "LogisticRegression",
          "LogisticRegression",
          "LogisticRegression",
          "LogisticRegression",
          "LogisticRegression",
          "LogisticRegression",
          "LogisticRegression",
          "LogisticRegression",
          "DecisionTreeClassifier",
          "DecisionTreeClassifier",
          "DecisionTreeClassifier",
          "DecisionTreeClassifier",
          "DecisionTreeClassifier",
          "DecisionTreeClassifier",
          "DecisionTreeClassifier",
          "DecisionTreeClassifier",
          "DecisionTreeClassifier",
          "DecisionTreeClassifier",
          "DecisionTreeClassifier",
          "DecisionTreeClassifier",
          "DecisionTreeClassifier",
          "DecisionTreeClassifier",
          "DecisionTreeClassifier",
          "DecisionTreeClassifier",
          "DecisionTreeClassifier",
          "DecisionTreeClassifier",
          "DecisionTreeClassifier",
          "DecisionTreeClassifier",
          "DecisionTreeClassifier",
          "DecisionTreeClassifier",
          "DecisionTreeClassifier",
          "DecisionTreeClassifier",
          "DecisionTreeClassifier",
          "DecisionTreeClassifier",
          "DecisionTreeClassifier",
          "DecisionTreeClassifier",
          "DecisionTreeClassifier",
          "DecisionTreeClassifier",
          "RandomForestClassifier",
          "RandomForestClassifier",
          "RandomForestClassifier",
          "RandomForestClassifier",
          "RandomForestClassifier",
          "RandomForestClassifier",
          "RandomForestClassifier",
          "RandomForestClassifier",
          "RandomForestClassifier",
          "RandomForestClassifier",
          "RandomForestClassifier",
          "RandomForestClassifier",
          "RandomForestClassifier",
          "RandomForestClassifier",
          "RandomForestClassifier",
          "RandomForestClassifier",
          "RandomForestClassifier",
          "RandomForestClassifier",
          "RandomForestClassifier",
          "RandomForestClassifier",
          "RandomForestClassifier",
          "RandomForestClassifier",
          "RandomForestClassifier",
          "RandomForestClassifier",
          "RandomForestClassifier",
          "RandomForestClassifier",
          "RandomForestClassifier",
          "RandomForestClassifier",
          "RandomForestClassifier",
          "RandomForestClassifier",
          "GradientBoostingClassifier",
          "GradientBoostingClassifier",
          "GradientBoostingClassifier",
          "GradientBoostingClassifier",
          "GradientBoostingClassifier",
          "GradientBoostingClassifier",
          "GradientBoostingClassifier",
          "GradientBoostingClassifier",
          "GradientBoostingClassifier",
          "GradientBoostingClassifier",
          "GradientBoostingClassifier",
          "GradientBoostingClassifier",
          "GradientBoostingClassifier",
          "GradientBoostingClassifier",
          "GradientBoostingClassifier",
          "GradientBoostingClassifier",
          "GradientBoostingClassifier",
          "GradientBoostingClassifier",
          "GradientBoostingClassifier",
          "GradientBoostingClassifier",
          "GradientBoostingClassifier",
          "GradientBoostingClassifier",
          "GradientBoostingClassifier",
          "GradientBoostingClassifier",
          "GradientBoostingClassifier",
          "GradientBoostingClassifier",
          "GradientBoostingClassifier",
          "GradientBoostingClassifier",
          "GradientBoostingClassifier",
          "GradientBoostingClassifier"
         ],
         "x0": " ",
         "xaxis": "x",
         "y": [
          0.6822262118491921,
          0.6678635547576302,
          0.6750448833034112,
          0.6738351254480287,
          0.6720430107526881,
          0.6827956989247311,
          0.6881720430107527,
          0.6827956989247311,
          0.6702508960573477,
          0.6774193548387096,
          0.6881720430107527,
          0.6810035842293907,
          0.6666666666666666,
          0.6702508960573477,
          0.6827956989247311,
          0.6827956989247311,
          0.6827956989247311,
          0.6989247311827957,
          0.6810035842293907,
          0.6810035842293907,
          0.6881720430107527,
          0.6702508960573477,
          0.6881720430107527,
          0.6899641577060932,
          0.7043010752688172,
          0.6953405017921147,
          0.6929982046678635,
          0.6714542190305206,
          0.6840215439856373,
          0.7109515260323159,
          1,
          1,
          1,
          1,
          1,
          1,
          1,
          1,
          1,
          1,
          1,
          1,
          1,
          1,
          1,
          1,
          1,
          1,
          1,
          1,
          1,
          1,
          1,
          1,
          1,
          1,
          1,
          1,
          1,
          1,
          0.9964093357271095,
          0.9964093357271095,
          0.9964093357271095,
          0.996415770609319,
          0.9946236559139785,
          0.992831541218638,
          0.992831541218638,
          0.9946236559139785,
          0.992831541218638,
          0.996415770609319,
          0.9982078853046595,
          0.996415770609319,
          0.9946236559139785,
          0.996415770609319,
          0.9946236559139785,
          0.9946236559139785,
          0.996415770609319,
          0.992831541218638,
          0.9946236559139785,
          0.9946236559139785,
          0.992831541218638,
          0.992831541218638,
          0.992831541218638,
          0.9946236559139785,
          0.9946236559139785,
          0.9946236559139785,
          0.9946140035906643,
          0.9946140035906643,
          0.9946140035906643,
          0.9946140035906643,
          0.26750448833034113,
          0.3016157989228007,
          0.27827648114901254,
          0.2974910394265233,
          0.2831541218637993,
          0.2867383512544803,
          0.25985663082437277,
          0.2670250896057348,
          0.26523297491039427,
          0.2903225806451613,
          0.2849462365591398,
          0.27598566308243727,
          0.2670250896057348,
          0.2724014336917563,
          0.2921146953405018,
          0.3172043010752688,
          0.27060931899641577,
          0.2724014336917563,
          0.2939068100358423,
          0.30824372759856633,
          0.2885304659498208,
          0.2867383512544803,
          0.28136200716845877,
          0.27060931899641577,
          0.2939068100358423,
          0.3118279569892473,
          0.3052064631956912,
          0.2998204667863555,
          0.2764811490125673,
          0.2926391382405745
         ],
         "y0": " ",
         "yaxis": "y"
        },
        {
         "alignmentgroup": "True",
         "hovertemplate": "Seleccion=todas<br>variable=%{x}<br>value=%{y}<extra></extra>",
         "legendgroup": "todas",
         "marker": {
          "color": "#FF6692"
         },
         "name": "todas",
         "notched": false,
         "offsetgroup": "todas",
         "orientation": "v",
         "showlegend": true,
         "type": "box",
         "x": [
          "LogisticRegression",
          "LogisticRegression",
          "LogisticRegression",
          "LogisticRegression",
          "LogisticRegression",
          "LogisticRegression",
          "LogisticRegression",
          "LogisticRegression",
          "LogisticRegression",
          "LogisticRegression",
          "LogisticRegression",
          "LogisticRegression",
          "LogisticRegression",
          "LogisticRegression",
          "LogisticRegression",
          "LogisticRegression",
          "LogisticRegression",
          "LogisticRegression",
          "LogisticRegression",
          "LogisticRegression",
          "LogisticRegression",
          "LogisticRegression",
          "LogisticRegression",
          "LogisticRegression",
          "LogisticRegression",
          "LogisticRegression",
          "LogisticRegression",
          "LogisticRegression",
          "LogisticRegression",
          "LogisticRegression",
          "DecisionTreeClassifier",
          "DecisionTreeClassifier",
          "DecisionTreeClassifier",
          "DecisionTreeClassifier",
          "DecisionTreeClassifier",
          "DecisionTreeClassifier",
          "DecisionTreeClassifier",
          "DecisionTreeClassifier",
          "DecisionTreeClassifier",
          "DecisionTreeClassifier",
          "DecisionTreeClassifier",
          "DecisionTreeClassifier",
          "DecisionTreeClassifier",
          "DecisionTreeClassifier",
          "DecisionTreeClassifier",
          "DecisionTreeClassifier",
          "DecisionTreeClassifier",
          "DecisionTreeClassifier",
          "DecisionTreeClassifier",
          "DecisionTreeClassifier",
          "DecisionTreeClassifier",
          "DecisionTreeClassifier",
          "DecisionTreeClassifier",
          "DecisionTreeClassifier",
          "DecisionTreeClassifier",
          "DecisionTreeClassifier",
          "DecisionTreeClassifier",
          "DecisionTreeClassifier",
          "DecisionTreeClassifier",
          "DecisionTreeClassifier",
          "RandomForestClassifier",
          "RandomForestClassifier",
          "RandomForestClassifier",
          "RandomForestClassifier",
          "RandomForestClassifier",
          "RandomForestClassifier",
          "RandomForestClassifier",
          "RandomForestClassifier",
          "RandomForestClassifier",
          "RandomForestClassifier",
          "RandomForestClassifier",
          "RandomForestClassifier",
          "RandomForestClassifier",
          "RandomForestClassifier",
          "RandomForestClassifier",
          "RandomForestClassifier",
          "RandomForestClassifier",
          "RandomForestClassifier",
          "RandomForestClassifier",
          "RandomForestClassifier",
          "RandomForestClassifier",
          "RandomForestClassifier",
          "RandomForestClassifier",
          "RandomForestClassifier",
          "RandomForestClassifier",
          "RandomForestClassifier",
          "RandomForestClassifier",
          "RandomForestClassifier",
          "RandomForestClassifier",
          "RandomForestClassifier",
          "GradientBoostingClassifier",
          "GradientBoostingClassifier",
          "GradientBoostingClassifier",
          "GradientBoostingClassifier",
          "GradientBoostingClassifier",
          "GradientBoostingClassifier",
          "GradientBoostingClassifier",
          "GradientBoostingClassifier",
          "GradientBoostingClassifier",
          "GradientBoostingClassifier",
          "GradientBoostingClassifier",
          "GradientBoostingClassifier",
          "GradientBoostingClassifier",
          "GradientBoostingClassifier",
          "GradientBoostingClassifier",
          "GradientBoostingClassifier",
          "GradientBoostingClassifier",
          "GradientBoostingClassifier",
          "GradientBoostingClassifier",
          "GradientBoostingClassifier",
          "GradientBoostingClassifier",
          "GradientBoostingClassifier",
          "GradientBoostingClassifier",
          "GradientBoostingClassifier",
          "GradientBoostingClassifier",
          "GradientBoostingClassifier",
          "GradientBoostingClassifier",
          "GradientBoostingClassifier",
          "GradientBoostingClassifier",
          "GradientBoostingClassifier"
         ],
         "x0": " ",
         "xaxis": "x",
         "y": [
          0.7271095152603232,
          0.725314183123878,
          0.703770197486535,
          0.7168458781362007,
          0.7114695340501792,
          0.7258064516129032,
          0.7204301075268817,
          0.7150537634408602,
          0.7114695340501792,
          0.7168458781362007,
          0.7258064516129032,
          0.6917562724014337,
          0.7150537634408602,
          0.7025089605734767,
          0.7096774193548387,
          0.7150537634408602,
          0.7222222222222222,
          0.7114695340501792,
          0.7240143369175627,
          0.7078853046594982,
          0.7383512544802867,
          0.7060931899641577,
          0.7240143369175627,
          0.7437275985663082,
          0.7365591397849462,
          0.7401433691756273,
          0.7199281867145422,
          0.7145421903052065,
          0.7360861759425493,
          0.7055655296229802,
          1,
          1,
          1,
          1,
          1,
          1,
          1,
          1,
          1,
          1,
          1,
          1,
          1,
          1,
          1,
          1,
          1,
          1,
          1,
          1,
          1,
          1,
          1,
          1,
          1,
          1,
          1,
          1,
          1,
          1,
          0.9946140035906643,
          0.9964093357271095,
          0.9964093357271095,
          0.992831541218638,
          0.9946236559139785,
          0.9946236559139785,
          0.992831541218638,
          0.9946236559139785,
          0.992831541218638,
          0.9946236559139785,
          0.996415770609319,
          0.996415770609319,
          0.9946236559139785,
          0.992831541218638,
          0.992831541218638,
          0.9946236559139785,
          0.9982078853046595,
          0.992831541218638,
          0.992831541218638,
          0.9946236559139785,
          0.992831541218638,
          0.992831541218638,
          0.992831541218638,
          0.9946236559139785,
          0.9946236559139785,
          0.996415770609319,
          0.9946140035906643,
          0.992818671454219,
          0.9946140035906643,
          0.9946140035906643,
          0.35368043087971274,
          0.35368043087971274,
          0.36624775583482944,
          0.35125448028673834,
          0.33512544802867383,
          0.3207885304659498,
          0.3064516129032258,
          0.34408602150537637,
          0.3333333333333333,
          0.33691756272401435,
          0.3207885304659498,
          0.3225806451612903,
          0.32616487455197135,
          0.34408602150537637,
          0.33154121863799285,
          0.32974910394265233,
          0.31899641577060933,
          0.3333333333333333,
          0.3225806451612903,
          0.35304659498207885,
          0.3548387096774194,
          0.33154121863799285,
          0.3387096774193548,
          0.3709677419354839,
          0.32616487455197135,
          0.35125448028673834,
          0.35368043087971274,
          0.3213644524236984,
          0.2998204667863555,
          0.31597845601436264
         ],
         "y0": " ",
         "yaxis": "y"
        }
       ],
       "layout": {
        "boxmode": "group",
        "legend": {
         "title": {
          "text": "Seleccion"
         },
         "tracegroupgap": 0
        },
        "margin": {
         "t": 60
        },
        "template": {
         "data": {
          "bar": [
           {
            "error_x": {
             "color": "#2a3f5f"
            },
            "error_y": {
             "color": "#2a3f5f"
            },
            "marker": {
             "line": {
              "color": "#E5ECF6",
              "width": 0.5
             },
             "pattern": {
              "fillmode": "overlay",
              "size": 10,
              "solidity": 0.2
             }
            },
            "type": "bar"
           }
          ],
          "barpolar": [
           {
            "marker": {
             "line": {
              "color": "#E5ECF6",
              "width": 0.5
             },
             "pattern": {
              "fillmode": "overlay",
              "size": 10,
              "solidity": 0.2
             }
            },
            "type": "barpolar"
           }
          ],
          "carpet": [
           {
            "aaxis": {
             "endlinecolor": "#2a3f5f",
             "gridcolor": "white",
             "linecolor": "white",
             "minorgridcolor": "white",
             "startlinecolor": "#2a3f5f"
            },
            "baxis": {
             "endlinecolor": "#2a3f5f",
             "gridcolor": "white",
             "linecolor": "white",
             "minorgridcolor": "white",
             "startlinecolor": "#2a3f5f"
            },
            "type": "carpet"
           }
          ],
          "choropleth": [
           {
            "colorbar": {
             "outlinewidth": 0,
             "ticks": ""
            },
            "type": "choropleth"
           }
          ],
          "contour": [
           {
            "colorbar": {
             "outlinewidth": 0,
             "ticks": ""
            },
            "colorscale": [
             [
              0,
              "#0d0887"
             ],
             [
              0.1111111111111111,
              "#46039f"
             ],
             [
              0.2222222222222222,
              "#7201a8"
             ],
             [
              0.3333333333333333,
              "#9c179e"
             ],
             [
              0.4444444444444444,
              "#bd3786"
             ],
             [
              0.5555555555555556,
              "#d8576b"
             ],
             [
              0.6666666666666666,
              "#ed7953"
             ],
             [
              0.7777777777777778,
              "#fb9f3a"
             ],
             [
              0.8888888888888888,
              "#fdca26"
             ],
             [
              1,
              "#f0f921"
             ]
            ],
            "type": "contour"
           }
          ],
          "contourcarpet": [
           {
            "colorbar": {
             "outlinewidth": 0,
             "ticks": ""
            },
            "type": "contourcarpet"
           }
          ],
          "heatmap": [
           {
            "colorbar": {
             "outlinewidth": 0,
             "ticks": ""
            },
            "colorscale": [
             [
              0,
              "#0d0887"
             ],
             [
              0.1111111111111111,
              "#46039f"
             ],
             [
              0.2222222222222222,
              "#7201a8"
             ],
             [
              0.3333333333333333,
              "#9c179e"
             ],
             [
              0.4444444444444444,
              "#bd3786"
             ],
             [
              0.5555555555555556,
              "#d8576b"
             ],
             [
              0.6666666666666666,
              "#ed7953"
             ],
             [
              0.7777777777777778,
              "#fb9f3a"
             ],
             [
              0.8888888888888888,
              "#fdca26"
             ],
             [
              1,
              "#f0f921"
             ]
            ],
            "type": "heatmap"
           }
          ],
          "heatmapgl": [
           {
            "colorbar": {
             "outlinewidth": 0,
             "ticks": ""
            },
            "colorscale": [
             [
              0,
              "#0d0887"
             ],
             [
              0.1111111111111111,
              "#46039f"
             ],
             [
              0.2222222222222222,
              "#7201a8"
             ],
             [
              0.3333333333333333,
              "#9c179e"
             ],
             [
              0.4444444444444444,
              "#bd3786"
             ],
             [
              0.5555555555555556,
              "#d8576b"
             ],
             [
              0.6666666666666666,
              "#ed7953"
             ],
             [
              0.7777777777777778,
              "#fb9f3a"
             ],
             [
              0.8888888888888888,
              "#fdca26"
             ],
             [
              1,
              "#f0f921"
             ]
            ],
            "type": "heatmapgl"
           }
          ],
          "histogram": [
           {
            "marker": {
             "pattern": {
              "fillmode": "overlay",
              "size": 10,
              "solidity": 0.2
             }
            },
            "type": "histogram"
           }
          ],
          "histogram2d": [
           {
            "colorbar": {
             "outlinewidth": 0,
             "ticks": ""
            },
            "colorscale": [
             [
              0,
              "#0d0887"
             ],
             [
              0.1111111111111111,
              "#46039f"
             ],
             [
              0.2222222222222222,
              "#7201a8"
             ],
             [
              0.3333333333333333,
              "#9c179e"
             ],
             [
              0.4444444444444444,
              "#bd3786"
             ],
             [
              0.5555555555555556,
              "#d8576b"
             ],
             [
              0.6666666666666666,
              "#ed7953"
             ],
             [
              0.7777777777777778,
              "#fb9f3a"
             ],
             [
              0.8888888888888888,
              "#fdca26"
             ],
             [
              1,
              "#f0f921"
             ]
            ],
            "type": "histogram2d"
           }
          ],
          "histogram2dcontour": [
           {
            "colorbar": {
             "outlinewidth": 0,
             "ticks": ""
            },
            "colorscale": [
             [
              0,
              "#0d0887"
             ],
             [
              0.1111111111111111,
              "#46039f"
             ],
             [
              0.2222222222222222,
              "#7201a8"
             ],
             [
              0.3333333333333333,
              "#9c179e"
             ],
             [
              0.4444444444444444,
              "#bd3786"
             ],
             [
              0.5555555555555556,
              "#d8576b"
             ],
             [
              0.6666666666666666,
              "#ed7953"
             ],
             [
              0.7777777777777778,
              "#fb9f3a"
             ],
             [
              0.8888888888888888,
              "#fdca26"
             ],
             [
              1,
              "#f0f921"
             ]
            ],
            "type": "histogram2dcontour"
           }
          ],
          "mesh3d": [
           {
            "colorbar": {
             "outlinewidth": 0,
             "ticks": ""
            },
            "type": "mesh3d"
           }
          ],
          "parcoords": [
           {
            "line": {
             "colorbar": {
              "outlinewidth": 0,
              "ticks": ""
             }
            },
            "type": "parcoords"
           }
          ],
          "pie": [
           {
            "automargin": true,
            "type": "pie"
           }
          ],
          "scatter": [
           {
            "fillpattern": {
             "fillmode": "overlay",
             "size": 10,
             "solidity": 0.2
            },
            "type": "scatter"
           }
          ],
          "scatter3d": [
           {
            "line": {
             "colorbar": {
              "outlinewidth": 0,
              "ticks": ""
             }
            },
            "marker": {
             "colorbar": {
              "outlinewidth": 0,
              "ticks": ""
             }
            },
            "type": "scatter3d"
           }
          ],
          "scattercarpet": [
           {
            "marker": {
             "colorbar": {
              "outlinewidth": 0,
              "ticks": ""
             }
            },
            "type": "scattercarpet"
           }
          ],
          "scattergeo": [
           {
            "marker": {
             "colorbar": {
              "outlinewidth": 0,
              "ticks": ""
             }
            },
            "type": "scattergeo"
           }
          ],
          "scattergl": [
           {
            "marker": {
             "colorbar": {
              "outlinewidth": 0,
              "ticks": ""
             }
            },
            "type": "scattergl"
           }
          ],
          "scattermapbox": [
           {
            "marker": {
             "colorbar": {
              "outlinewidth": 0,
              "ticks": ""
             }
            },
            "type": "scattermapbox"
           }
          ],
          "scatterpolar": [
           {
            "marker": {
             "colorbar": {
              "outlinewidth": 0,
              "ticks": ""
             }
            },
            "type": "scatterpolar"
           }
          ],
          "scatterpolargl": [
           {
            "marker": {
             "colorbar": {
              "outlinewidth": 0,
              "ticks": ""
             }
            },
            "type": "scatterpolargl"
           }
          ],
          "scatterternary": [
           {
            "marker": {
             "colorbar": {
              "outlinewidth": 0,
              "ticks": ""
             }
            },
            "type": "scatterternary"
           }
          ],
          "surface": [
           {
            "colorbar": {
             "outlinewidth": 0,
             "ticks": ""
            },
            "colorscale": [
             [
              0,
              "#0d0887"
             ],
             [
              0.1111111111111111,
              "#46039f"
             ],
             [
              0.2222222222222222,
              "#7201a8"
             ],
             [
              0.3333333333333333,
              "#9c179e"
             ],
             [
              0.4444444444444444,
              "#bd3786"
             ],
             [
              0.5555555555555556,
              "#d8576b"
             ],
             [
              0.6666666666666666,
              "#ed7953"
             ],
             [
              0.7777777777777778,
              "#fb9f3a"
             ],
             [
              0.8888888888888888,
              "#fdca26"
             ],
             [
              1,
              "#f0f921"
             ]
            ],
            "type": "surface"
           }
          ],
          "table": [
           {
            "cells": {
             "fill": {
              "color": "#EBF0F8"
             },
             "line": {
              "color": "white"
             }
            },
            "header": {
             "fill": {
              "color": "#C8D4E3"
             },
             "line": {
              "color": "white"
             }
            },
            "type": "table"
           }
          ]
         },
         "layout": {
          "annotationdefaults": {
           "arrowcolor": "#2a3f5f",
           "arrowhead": 0,
           "arrowwidth": 1
          },
          "autotypenumbers": "strict",
          "coloraxis": {
           "colorbar": {
            "outlinewidth": 0,
            "ticks": ""
           }
          },
          "colorscale": {
           "diverging": [
            [
             0,
             "#8e0152"
            ],
            [
             0.1,
             "#c51b7d"
            ],
            [
             0.2,
             "#de77ae"
            ],
            [
             0.3,
             "#f1b6da"
            ],
            [
             0.4,
             "#fde0ef"
            ],
            [
             0.5,
             "#f7f7f7"
            ],
            [
             0.6,
             "#e6f5d0"
            ],
            [
             0.7,
             "#b8e186"
            ],
            [
             0.8,
             "#7fbc41"
            ],
            [
             0.9,
             "#4d9221"
            ],
            [
             1,
             "#276419"
            ]
           ],
           "sequential": [
            [
             0,
             "#0d0887"
            ],
            [
             0.1111111111111111,
             "#46039f"
            ],
            [
             0.2222222222222222,
             "#7201a8"
            ],
            [
             0.3333333333333333,
             "#9c179e"
            ],
            [
             0.4444444444444444,
             "#bd3786"
            ],
            [
             0.5555555555555556,
             "#d8576b"
            ],
            [
             0.6666666666666666,
             "#ed7953"
            ],
            [
             0.7777777777777778,
             "#fb9f3a"
            ],
            [
             0.8888888888888888,
             "#fdca26"
            ],
            [
             1,
             "#f0f921"
            ]
           ],
           "sequentialminus": [
            [
             0,
             "#0d0887"
            ],
            [
             0.1111111111111111,
             "#46039f"
            ],
            [
             0.2222222222222222,
             "#7201a8"
            ],
            [
             0.3333333333333333,
             "#9c179e"
            ],
            [
             0.4444444444444444,
             "#bd3786"
            ],
            [
             0.5555555555555556,
             "#d8576b"
            ],
            [
             0.6666666666666666,
             "#ed7953"
            ],
            [
             0.7777777777777778,
             "#fb9f3a"
            ],
            [
             0.8888888888888888,
             "#fdca26"
            ],
            [
             1,
             "#f0f921"
            ]
           ]
          },
          "colorway": [
           "#636efa",
           "#EF553B",
           "#00cc96",
           "#ab63fa",
           "#FFA15A",
           "#19d3f3",
           "#FF6692",
           "#B6E880",
           "#FF97FF",
           "#FECB52"
          ],
          "font": {
           "color": "#2a3f5f"
          },
          "geo": {
           "bgcolor": "white",
           "lakecolor": "white",
           "landcolor": "#E5ECF6",
           "showlakes": true,
           "showland": true,
           "subunitcolor": "white"
          },
          "hoverlabel": {
           "align": "left"
          },
          "hovermode": "closest",
          "mapbox": {
           "style": "light"
          },
          "paper_bgcolor": "white",
          "plot_bgcolor": "#E5ECF6",
          "polar": {
           "angularaxis": {
            "gridcolor": "white",
            "linecolor": "white",
            "ticks": ""
           },
           "bgcolor": "#E5ECF6",
           "radialaxis": {
            "gridcolor": "white",
            "linecolor": "white",
            "ticks": ""
           }
          },
          "scene": {
           "xaxis": {
            "backgroundcolor": "#E5ECF6",
            "gridcolor": "white",
            "gridwidth": 2,
            "linecolor": "white",
            "showbackground": true,
            "ticks": "",
            "zerolinecolor": "white"
           },
           "yaxis": {
            "backgroundcolor": "#E5ECF6",
            "gridcolor": "white",
            "gridwidth": 2,
            "linecolor": "white",
            "showbackground": true,
            "ticks": "",
            "zerolinecolor": "white"
           },
           "zaxis": {
            "backgroundcolor": "#E5ECF6",
            "gridcolor": "white",
            "gridwidth": 2,
            "linecolor": "white",
            "showbackground": true,
            "ticks": "",
            "zerolinecolor": "white"
           }
          },
          "shapedefaults": {
           "line": {
            "color": "#2a3f5f"
           }
          },
          "ternary": {
           "aaxis": {
            "gridcolor": "white",
            "linecolor": "white",
            "ticks": ""
           },
           "baxis": {
            "gridcolor": "white",
            "linecolor": "white",
            "ticks": ""
           },
           "bgcolor": "#E5ECF6",
           "caxis": {
            "gridcolor": "white",
            "linecolor": "white",
            "ticks": ""
           }
          },
          "title": {
           "x": 0.05
          },
          "xaxis": {
           "automargin": true,
           "gridcolor": "white",
           "linecolor": "white",
           "ticks": "",
           "title": {
            "standoff": 15
           },
           "zerolinecolor": "white",
           "zerolinewidth": 2
          },
          "yaxis": {
           "automargin": true,
           "gridcolor": "white",
           "linecolor": "white",
           "ticks": "",
           "title": {
            "standoff": 15
           },
           "zerolinecolor": "white",
           "zerolinewidth": 2
          }
         }
        },
        "xaxis": {
         "anchor": "y",
         "domain": [
          0,
          1
         ],
         "title": {
          "text": "variable"
         }
        },
        "yaxis": {
         "anchor": "x",
         "domain": [
          0,
          1
         ],
         "title": {
          "text": "value"
         }
        }
       }
      }
     },
     "metadata": {},
     "output_type": "display_data"
    }
   ],
   "source": [
    "fig = px.box(df_metrics_total_train, color='Seleccion')\n",
    "fig.show()"
   ]
  },
  {
   "cell_type": "code",
   "execution_count": 134,
   "metadata": {},
   "outputs": [
    {
     "data": {
      "application/vnd.plotly.v1+json": {
       "config": {
        "plotlyServerURL": "https://plot.ly"
       },
       "data": [
        {
         "alignmentgroup": "True",
         "hovertemplate": "Seleccion=anova<br>variable=%{x}<br>value=%{y}<extra></extra>",
         "legendgroup": "anova",
         "marker": {
          "color": "#636efa"
         },
         "name": "anova",
         "notched": false,
         "offsetgroup": "anova",
         "orientation": "v",
         "showlegend": true,
         "type": "box",
         "x": [
          "LogisticRegression",
          "LogisticRegression",
          "LogisticRegression",
          "LogisticRegression",
          "LogisticRegression",
          "LogisticRegression",
          "LogisticRegression",
          "LogisticRegression",
          "LogisticRegression",
          "LogisticRegression",
          "LogisticRegression",
          "LogisticRegression",
          "LogisticRegression",
          "LogisticRegression",
          "LogisticRegression",
          "LogisticRegression",
          "LogisticRegression",
          "LogisticRegression",
          "LogisticRegression",
          "LogisticRegression",
          "LogisticRegression",
          "LogisticRegression",
          "LogisticRegression",
          "LogisticRegression",
          "LogisticRegression",
          "LogisticRegression",
          "LogisticRegression",
          "LogisticRegression",
          "LogisticRegression",
          "LogisticRegression",
          "DecisionTreeClassifier",
          "DecisionTreeClassifier",
          "DecisionTreeClassifier",
          "DecisionTreeClassifier",
          "DecisionTreeClassifier",
          "DecisionTreeClassifier",
          "DecisionTreeClassifier",
          "DecisionTreeClassifier",
          "DecisionTreeClassifier",
          "DecisionTreeClassifier",
          "DecisionTreeClassifier",
          "DecisionTreeClassifier",
          "DecisionTreeClassifier",
          "DecisionTreeClassifier",
          "DecisionTreeClassifier",
          "DecisionTreeClassifier",
          "DecisionTreeClassifier",
          "DecisionTreeClassifier",
          "DecisionTreeClassifier",
          "DecisionTreeClassifier",
          "DecisionTreeClassifier",
          "DecisionTreeClassifier",
          "DecisionTreeClassifier",
          "DecisionTreeClassifier",
          "DecisionTreeClassifier",
          "DecisionTreeClassifier",
          "DecisionTreeClassifier",
          "DecisionTreeClassifier",
          "DecisionTreeClassifier",
          "DecisionTreeClassifier",
          "RandomForestClassifier",
          "RandomForestClassifier",
          "RandomForestClassifier",
          "RandomForestClassifier",
          "RandomForestClassifier",
          "RandomForestClassifier",
          "RandomForestClassifier",
          "RandomForestClassifier",
          "RandomForestClassifier",
          "RandomForestClassifier",
          "RandomForestClassifier",
          "RandomForestClassifier",
          "RandomForestClassifier",
          "RandomForestClassifier",
          "RandomForestClassifier",
          "RandomForestClassifier",
          "RandomForestClassifier",
          "RandomForestClassifier",
          "RandomForestClassifier",
          "RandomForestClassifier",
          "RandomForestClassifier",
          "RandomForestClassifier",
          "RandomForestClassifier",
          "RandomForestClassifier",
          "RandomForestClassifier",
          "RandomForestClassifier",
          "RandomForestClassifier",
          "RandomForestClassifier",
          "RandomForestClassifier",
          "RandomForestClassifier",
          "GradientBoostingClassifier",
          "GradientBoostingClassifier",
          "GradientBoostingClassifier",
          "GradientBoostingClassifier",
          "GradientBoostingClassifier",
          "GradientBoostingClassifier",
          "GradientBoostingClassifier",
          "GradientBoostingClassifier",
          "GradientBoostingClassifier",
          "GradientBoostingClassifier",
          "GradientBoostingClassifier",
          "GradientBoostingClassifier",
          "GradientBoostingClassifier",
          "GradientBoostingClassifier",
          "GradientBoostingClassifier",
          "GradientBoostingClassifier",
          "GradientBoostingClassifier",
          "GradientBoostingClassifier",
          "GradientBoostingClassifier",
          "GradientBoostingClassifier",
          "GradientBoostingClassifier",
          "GradientBoostingClassifier",
          "GradientBoostingClassifier",
          "GradientBoostingClassifier",
          "GradientBoostingClassifier",
          "GradientBoostingClassifier",
          "GradientBoostingClassifier",
          "GradientBoostingClassifier",
          "GradientBoostingClassifier",
          "GradientBoostingClassifier"
         ],
         "x0": " ",
         "xaxis": "x",
         "y": [
          0.7,
          1,
          0.9,
          0.9473684210526315,
          0.8947368421052632,
          0.7894736842105263,
          1,
          0.5263157894736842,
          1,
          0.7894736842105263,
          0.7368421052631579,
          0.8421052631578947,
          0.47368421052631576,
          1,
          0.7894736842105263,
          0.47368421052631576,
          0.7368421052631579,
          0.3157894736842105,
          0.631578947368421,
          0.7894736842105263,
          0.6842105263157895,
          1,
          0.5263157894736842,
          0.5789473684210527,
          0.42105263157894735,
          0,
          0.1,
          0.3,
          0.15,
          0,
          0.8,
          0.25,
          0.45,
          0.05263157894736842,
          0.05263157894736842,
          0.3684210526315789,
          0.3157894736842105,
          0.42105263157894735,
          0.42105263157894735,
          0.05263157894736842,
          0.21052631578947367,
          0.3684210526315789,
          0.3157894736842105,
          0.05263157894736842,
          0.10526315789473684,
          0.21052631578947367,
          0.10526315789473684,
          0.2631578947368421,
          0.42105263157894735,
          0.15789473684210525,
          0,
          0.05263157894736842,
          0.15789473684210525,
          0.2631578947368421,
          0.15789473684210525,
          0.21052631578947367,
          0.15,
          0.5,
          0,
          0.15,
          0.3,
          0.1,
          0.3,
          0.05263157894736842,
          0.05263157894736842,
          0.05263157894736842,
          0.15789473684210525,
          0.2631578947368421,
          0.10526315789473684,
          0.05263157894736842,
          0.05263157894736842,
          0.21052631578947367,
          0.15789473684210525,
          0.05263157894736842,
          0.10526315789473684,
          0.05263157894736842,
          0.10526315789473684,
          0.10526315789473684,
          0.10526315789473684,
          0,
          0,
          0.05263157894736842,
          0.15789473684210525,
          0.10526315789473684,
          0,
          0.05263157894736842,
          0.15,
          0.2,
          0,
          0,
          1,
          0.25,
          0.2,
          0.15789473684210525,
          0.10526315789473684,
          0.15789473684210525,
          0.10526315789473684,
          0.15789473684210525,
          0.15789473684210525,
          0,
          0.21052631578947367,
          0.21052631578947367,
          0.05263157894736842,
          0,
          0,
          0,
          0,
          0.10526315789473684,
          0.10526315789473684,
          0,
          0,
          0,
          0,
          0,
          0.15789473684210525,
          0,
          0,
          0,
          0,
          0
         ],
         "y0": " ",
         "yaxis": "y"
        },
        {
         "alignmentgroup": "True",
         "hovertemplate": "Seleccion=chi2<br>variable=%{x}<br>value=%{y}<extra></extra>",
         "legendgroup": "chi2",
         "marker": {
          "color": "#EF553B"
         },
         "name": "chi2",
         "notched": false,
         "offsetgroup": "chi2",
         "orientation": "v",
         "showlegend": true,
         "type": "box",
         "x": [
          "LogisticRegression",
          "LogisticRegression",
          "LogisticRegression",
          "LogisticRegression",
          "LogisticRegression",
          "LogisticRegression",
          "LogisticRegression",
          "LogisticRegression",
          "LogisticRegression",
          "LogisticRegression",
          "LogisticRegression",
          "LogisticRegression",
          "LogisticRegression",
          "LogisticRegression",
          "LogisticRegression",
          "LogisticRegression",
          "LogisticRegression",
          "LogisticRegression",
          "LogisticRegression",
          "LogisticRegression",
          "LogisticRegression",
          "LogisticRegression",
          "LogisticRegression",
          "LogisticRegression",
          "LogisticRegression",
          "LogisticRegression",
          "LogisticRegression",
          "LogisticRegression",
          "LogisticRegression",
          "LogisticRegression",
          "DecisionTreeClassifier",
          "DecisionTreeClassifier",
          "DecisionTreeClassifier",
          "DecisionTreeClassifier",
          "DecisionTreeClassifier",
          "DecisionTreeClassifier",
          "DecisionTreeClassifier",
          "DecisionTreeClassifier",
          "DecisionTreeClassifier",
          "DecisionTreeClassifier",
          "DecisionTreeClassifier",
          "DecisionTreeClassifier",
          "DecisionTreeClassifier",
          "DecisionTreeClassifier",
          "DecisionTreeClassifier",
          "DecisionTreeClassifier",
          "DecisionTreeClassifier",
          "DecisionTreeClassifier",
          "DecisionTreeClassifier",
          "DecisionTreeClassifier",
          "DecisionTreeClassifier",
          "DecisionTreeClassifier",
          "DecisionTreeClassifier",
          "DecisionTreeClassifier",
          "DecisionTreeClassifier",
          "DecisionTreeClassifier",
          "DecisionTreeClassifier",
          "DecisionTreeClassifier",
          "DecisionTreeClassifier",
          "DecisionTreeClassifier",
          "RandomForestClassifier",
          "RandomForestClassifier",
          "RandomForestClassifier",
          "RandomForestClassifier",
          "RandomForestClassifier",
          "RandomForestClassifier",
          "RandomForestClassifier",
          "RandomForestClassifier",
          "RandomForestClassifier",
          "RandomForestClassifier",
          "RandomForestClassifier",
          "RandomForestClassifier",
          "RandomForestClassifier",
          "RandomForestClassifier",
          "RandomForestClassifier",
          "RandomForestClassifier",
          "RandomForestClassifier",
          "RandomForestClassifier",
          "RandomForestClassifier",
          "RandomForestClassifier",
          "RandomForestClassifier",
          "RandomForestClassifier",
          "RandomForestClassifier",
          "RandomForestClassifier",
          "RandomForestClassifier",
          "RandomForestClassifier",
          "RandomForestClassifier",
          "RandomForestClassifier",
          "RandomForestClassifier",
          "RandomForestClassifier",
          "GradientBoostingClassifier",
          "GradientBoostingClassifier",
          "GradientBoostingClassifier",
          "GradientBoostingClassifier",
          "GradientBoostingClassifier",
          "GradientBoostingClassifier",
          "GradientBoostingClassifier",
          "GradientBoostingClassifier",
          "GradientBoostingClassifier",
          "GradientBoostingClassifier",
          "GradientBoostingClassifier",
          "GradientBoostingClassifier",
          "GradientBoostingClassifier",
          "GradientBoostingClassifier",
          "GradientBoostingClassifier",
          "GradientBoostingClassifier",
          "GradientBoostingClassifier",
          "GradientBoostingClassifier",
          "GradientBoostingClassifier",
          "GradientBoostingClassifier",
          "GradientBoostingClassifier",
          "GradientBoostingClassifier",
          "GradientBoostingClassifier",
          "GradientBoostingClassifier",
          "GradientBoostingClassifier",
          "GradientBoostingClassifier",
          "GradientBoostingClassifier",
          "GradientBoostingClassifier",
          "GradientBoostingClassifier",
          "GradientBoostingClassifier"
         ],
         "x0": " ",
         "xaxis": "x",
         "y": [
          0.7,
          0.9,
          0.9,
          0.9473684210526315,
          0.8947368421052632,
          0.7894736842105263,
          1,
          0.5263157894736842,
          1,
          0.7894736842105263,
          0.7368421052631579,
          0.8421052631578947,
          0.5789473684210527,
          1,
          0.7894736842105263,
          0.47368421052631576,
          0.7368421052631579,
          0.3157894736842105,
          0.7368421052631579,
          0.7894736842105263,
          0.6842105263157895,
          1,
          0.5263157894736842,
          0.5789473684210527,
          0.5263157894736842,
          0,
          0.1,
          0.3,
          0.15,
          0,
          0.8,
          0.25,
          0.45,
          0.05263157894736842,
          0.05263157894736842,
          0.21052631578947367,
          0.3157894736842105,
          0.42105263157894735,
          0.42105263157894735,
          0.05263157894736842,
          0.21052631578947367,
          0.3684210526315789,
          0.3157894736842105,
          0.21052631578947367,
          0.10526315789473684,
          0.21052631578947367,
          0.10526315789473684,
          0.2631578947368421,
          0.42105263157894735,
          0.15789473684210525,
          0,
          0.05263157894736842,
          0.15789473684210525,
          0.2631578947368421,
          0.3157894736842105,
          0.21052631578947367,
          0.15,
          0.5,
          0.15,
          0,
          0.55,
          0.25,
          0.3,
          0.21052631578947367,
          0.05263157894736842,
          0.05263157894736842,
          0,
          0.2631578947368421,
          0.2631578947368421,
          0.05263157894736842,
          0.05263157894736842,
          0.21052631578947367,
          0.15789473684210525,
          0.05263157894736842,
          0.10526315789473684,
          0.05263157894736842,
          0.10526315789473684,
          0.10526315789473684,
          0.10526315789473684,
          0,
          0,
          0.05263157894736842,
          0.15789473684210525,
          0.10526315789473684,
          0,
          0.05263157894736842,
          0.15,
          0.05,
          0,
          0,
          1,
          0.1,
          0.35,
          0.21052631578947367,
          0.10526315789473684,
          0.2631578947368421,
          0.10526315789473684,
          0.15789473684210525,
          0.21052631578947367,
          0,
          0.05263157894736842,
          0.21052631578947367,
          0.05263157894736842,
          0,
          0,
          0,
          0,
          0.10526315789473684,
          0.10526315789473684,
          0,
          0,
          0,
          0,
          0,
          0.15789473684210525,
          0,
          0,
          0,
          0,
          0
         ],
         "y0": " ",
         "yaxis": "y"
        },
        {
         "alignmentgroup": "True",
         "hovertemplate": "Seleccion=log<br>variable=%{x}<br>value=%{y}<extra></extra>",
         "legendgroup": "log",
         "marker": {
          "color": "#00cc96"
         },
         "name": "log",
         "notched": false,
         "offsetgroup": "log",
         "orientation": "v",
         "showlegend": true,
         "type": "box",
         "x": [
          "LogisticRegression",
          "LogisticRegression",
          "LogisticRegression",
          "LogisticRegression",
          "LogisticRegression",
          "LogisticRegression",
          "LogisticRegression",
          "LogisticRegression",
          "LogisticRegression",
          "LogisticRegression",
          "LogisticRegression",
          "LogisticRegression",
          "LogisticRegression",
          "LogisticRegression",
          "LogisticRegression",
          "LogisticRegression",
          "LogisticRegression",
          "LogisticRegression",
          "LogisticRegression",
          "LogisticRegression",
          "LogisticRegression",
          "LogisticRegression",
          "LogisticRegression",
          "LogisticRegression",
          "LogisticRegression",
          "LogisticRegression",
          "LogisticRegression",
          "LogisticRegression",
          "LogisticRegression",
          "LogisticRegression",
          "DecisionTreeClassifier",
          "DecisionTreeClassifier",
          "DecisionTreeClassifier",
          "DecisionTreeClassifier",
          "DecisionTreeClassifier",
          "DecisionTreeClassifier",
          "DecisionTreeClassifier",
          "DecisionTreeClassifier",
          "DecisionTreeClassifier",
          "DecisionTreeClassifier",
          "DecisionTreeClassifier",
          "DecisionTreeClassifier",
          "DecisionTreeClassifier",
          "DecisionTreeClassifier",
          "DecisionTreeClassifier",
          "DecisionTreeClassifier",
          "DecisionTreeClassifier",
          "DecisionTreeClassifier",
          "DecisionTreeClassifier",
          "DecisionTreeClassifier",
          "DecisionTreeClassifier",
          "DecisionTreeClassifier",
          "DecisionTreeClassifier",
          "DecisionTreeClassifier",
          "DecisionTreeClassifier",
          "DecisionTreeClassifier",
          "DecisionTreeClassifier",
          "DecisionTreeClassifier",
          "DecisionTreeClassifier",
          "DecisionTreeClassifier",
          "RandomForestClassifier",
          "RandomForestClassifier",
          "RandomForestClassifier",
          "RandomForestClassifier",
          "RandomForestClassifier",
          "RandomForestClassifier",
          "RandomForestClassifier",
          "RandomForestClassifier",
          "RandomForestClassifier",
          "RandomForestClassifier",
          "RandomForestClassifier",
          "RandomForestClassifier",
          "RandomForestClassifier",
          "RandomForestClassifier",
          "RandomForestClassifier",
          "RandomForestClassifier",
          "RandomForestClassifier",
          "RandomForestClassifier",
          "RandomForestClassifier",
          "RandomForestClassifier",
          "RandomForestClassifier",
          "RandomForestClassifier",
          "RandomForestClassifier",
          "RandomForestClassifier",
          "RandomForestClassifier",
          "RandomForestClassifier",
          "RandomForestClassifier",
          "RandomForestClassifier",
          "RandomForestClassifier",
          "RandomForestClassifier",
          "GradientBoostingClassifier",
          "GradientBoostingClassifier",
          "GradientBoostingClassifier",
          "GradientBoostingClassifier",
          "GradientBoostingClassifier",
          "GradientBoostingClassifier",
          "GradientBoostingClassifier",
          "GradientBoostingClassifier",
          "GradientBoostingClassifier",
          "GradientBoostingClassifier",
          "GradientBoostingClassifier",
          "GradientBoostingClassifier",
          "GradientBoostingClassifier",
          "GradientBoostingClassifier",
          "GradientBoostingClassifier",
          "GradientBoostingClassifier",
          "GradientBoostingClassifier",
          "GradientBoostingClassifier",
          "GradientBoostingClassifier",
          "GradientBoostingClassifier",
          "GradientBoostingClassifier",
          "GradientBoostingClassifier",
          "GradientBoostingClassifier",
          "GradientBoostingClassifier",
          "GradientBoostingClassifier",
          "GradientBoostingClassifier",
          "GradientBoostingClassifier",
          "GradientBoostingClassifier",
          "GradientBoostingClassifier",
          "GradientBoostingClassifier"
         ],
         "x0": " ",
         "xaxis": "x",
         "y": [
          0.85,
          1,
          0.75,
          1,
          1,
          0.7894736842105263,
          1,
          0.5263157894736842,
          1,
          0.7894736842105263,
          0.7368421052631579,
          0.8421052631578947,
          0.5789473684210527,
          1,
          0.7894736842105263,
          0.47368421052631576,
          0.7368421052631579,
          0.3684210526315789,
          0.7368421052631579,
          0.7894736842105263,
          0.6842105263157895,
          0.9473684210526315,
          0.5263157894736842,
          0.5789473684210527,
          0.42105263157894735,
          0,
          0.1,
          0.4,
          0.3,
          0.15,
          0.45,
          0.25,
          0.45,
          0.05263157894736842,
          0.3684210526315789,
          0.21052631578947367,
          0.15789473684210525,
          0.10526315789473684,
          0.2631578947368421,
          0.05263157894736842,
          0.05263157894736842,
          0.3684210526315789,
          0.47368421052631576,
          0.21052631578947367,
          0.10526315789473684,
          0.05263157894736842,
          0.10526315789473684,
          0.2631578947368421,
          0.42105263157894735,
          0,
          0,
          0.05263157894736842,
          0.15789473684210525,
          0.2631578947368421,
          0.3157894736842105,
          0.21052631578947367,
          0.15,
          0.65,
          0,
          0,
          0.7,
          0.25,
          0.3,
          0.05263157894736842,
          0.05263157894736842,
          0.05263157894736842,
          0,
          0.10526315789473684,
          0.2631578947368421,
          0.05263157894736842,
          0.05263157894736842,
          0.21052631578947367,
          0.15789473684210525,
          0.05263157894736842,
          0.10526315789473684,
          0.05263157894736842,
          0.10526315789473684,
          0.10526315789473684,
          0.10526315789473684,
          0,
          0,
          0.05263157894736842,
          0.15789473684210525,
          0.10526315789473684,
          0,
          0.05263157894736842,
          0.15,
          0.2,
          0,
          0,
          1,
          0.2,
          0.35,
          0.21052631578947367,
          0.10526315789473684,
          0.2631578947368421,
          0.10526315789473684,
          0.15789473684210525,
          0.3684210526315789,
          0.05263157894736842,
          0.05263157894736842,
          0.3684210526315789,
          0.05263157894736842,
          0.15789473684210525,
          0,
          0,
          0,
          0.10526315789473684,
          0.10526315789473684,
          0,
          0,
          0,
          0,
          0,
          0.15789473684210525,
          0,
          0,
          0,
          0,
          0
         ],
         "y0": " ",
         "yaxis": "y"
        },
        {
         "alignmentgroup": "True",
         "hovertemplate": "Seleccion=ranfor<br>variable=%{x}<br>value=%{y}<extra></extra>",
         "legendgroup": "ranfor",
         "marker": {
          "color": "#ab63fa"
         },
         "name": "ranfor",
         "notched": false,
         "offsetgroup": "ranfor",
         "orientation": "v",
         "showlegend": true,
         "type": "box",
         "x": [
          "LogisticRegression",
          "LogisticRegression",
          "LogisticRegression",
          "LogisticRegression",
          "LogisticRegression",
          "LogisticRegression",
          "LogisticRegression",
          "LogisticRegression",
          "LogisticRegression",
          "LogisticRegression",
          "LogisticRegression",
          "LogisticRegression",
          "LogisticRegression",
          "LogisticRegression",
          "LogisticRegression",
          "LogisticRegression",
          "LogisticRegression",
          "LogisticRegression",
          "LogisticRegression",
          "LogisticRegression",
          "LogisticRegression",
          "LogisticRegression",
          "LogisticRegression",
          "LogisticRegression",
          "LogisticRegression",
          "LogisticRegression",
          "LogisticRegression",
          "LogisticRegression",
          "LogisticRegression",
          "LogisticRegression",
          "DecisionTreeClassifier",
          "DecisionTreeClassifier",
          "DecisionTreeClassifier",
          "DecisionTreeClassifier",
          "DecisionTreeClassifier",
          "DecisionTreeClassifier",
          "DecisionTreeClassifier",
          "DecisionTreeClassifier",
          "DecisionTreeClassifier",
          "DecisionTreeClassifier",
          "DecisionTreeClassifier",
          "DecisionTreeClassifier",
          "DecisionTreeClassifier",
          "DecisionTreeClassifier",
          "DecisionTreeClassifier",
          "DecisionTreeClassifier",
          "DecisionTreeClassifier",
          "DecisionTreeClassifier",
          "DecisionTreeClassifier",
          "DecisionTreeClassifier",
          "DecisionTreeClassifier",
          "DecisionTreeClassifier",
          "DecisionTreeClassifier",
          "DecisionTreeClassifier",
          "DecisionTreeClassifier",
          "DecisionTreeClassifier",
          "DecisionTreeClassifier",
          "DecisionTreeClassifier",
          "DecisionTreeClassifier",
          "DecisionTreeClassifier",
          "RandomForestClassifier",
          "RandomForestClassifier",
          "RandomForestClassifier",
          "RandomForestClassifier",
          "RandomForestClassifier",
          "RandomForestClassifier",
          "RandomForestClassifier",
          "RandomForestClassifier",
          "RandomForestClassifier",
          "RandomForestClassifier",
          "RandomForestClassifier",
          "RandomForestClassifier",
          "RandomForestClassifier",
          "RandomForestClassifier",
          "RandomForestClassifier",
          "RandomForestClassifier",
          "RandomForestClassifier",
          "RandomForestClassifier",
          "RandomForestClassifier",
          "RandomForestClassifier",
          "RandomForestClassifier",
          "RandomForestClassifier",
          "RandomForestClassifier",
          "RandomForestClassifier",
          "RandomForestClassifier",
          "RandomForestClassifier",
          "RandomForestClassifier",
          "RandomForestClassifier",
          "RandomForestClassifier",
          "RandomForestClassifier",
          "GradientBoostingClassifier",
          "GradientBoostingClassifier",
          "GradientBoostingClassifier",
          "GradientBoostingClassifier",
          "GradientBoostingClassifier",
          "GradientBoostingClassifier",
          "GradientBoostingClassifier",
          "GradientBoostingClassifier",
          "GradientBoostingClassifier",
          "GradientBoostingClassifier",
          "GradientBoostingClassifier",
          "GradientBoostingClassifier",
          "GradientBoostingClassifier",
          "GradientBoostingClassifier",
          "GradientBoostingClassifier",
          "GradientBoostingClassifier",
          "GradientBoostingClassifier",
          "GradientBoostingClassifier",
          "GradientBoostingClassifier",
          "GradientBoostingClassifier",
          "GradientBoostingClassifier",
          "GradientBoostingClassifier",
          "GradientBoostingClassifier",
          "GradientBoostingClassifier",
          "GradientBoostingClassifier",
          "GradientBoostingClassifier",
          "GradientBoostingClassifier",
          "GradientBoostingClassifier",
          "GradientBoostingClassifier",
          "GradientBoostingClassifier"
         ],
         "x0": " ",
         "xaxis": "x",
         "y": [
          1,
          0.9,
          0.9,
          0.8947368421052632,
          0.8947368421052632,
          0.7894736842105263,
          1,
          0.6842105263157895,
          1,
          0.7894736842105263,
          0.8421052631578947,
          0.8421052631578947,
          0.5263157894736842,
          0.8421052631578947,
          0.7894736842105263,
          0.47368421052631576,
          0.8421052631578947,
          0.47368421052631576,
          0.5789473684210527,
          0.7894736842105263,
          0.5789473684210527,
          0.7894736842105263,
          0.2631578947368421,
          0.47368421052631576,
          0.5263157894736842,
          0,
          0.1,
          0.4,
          0.15,
          0,
          0.7,
          0.25,
          0.6,
          0.21052631578947367,
          0.05263157894736842,
          0.5263157894736842,
          0.15789473684210525,
          0.42105263157894735,
          0.42105263157894735,
          0.21052631578947367,
          0.21052631578947367,
          0.3684210526315789,
          0.3157894736842105,
          0.21052631578947367,
          0.10526315789473684,
          0.21052631578947367,
          0.10526315789473684,
          0.2631578947368421,
          0.5789473684210527,
          0.15789473684210525,
          0.3157894736842105,
          0.21052631578947367,
          0.3157894736842105,
          0.10526315789473684,
          0.3157894736842105,
          0.05263157894736842,
          0.3,
          0.35,
          0.15,
          0,
          0.4,
          0.25,
          0.3,
          0.05263157894736842,
          0.05263157894736842,
          0.05263157894736842,
          0,
          0.10526315789473684,
          0.2631578947368421,
          0.05263157894736842,
          0.05263157894736842,
          0.21052631578947367,
          0.15789473684210525,
          0.05263157894736842,
          0.10526315789473684,
          0.05263157894736842,
          0.10526315789473684,
          0.10526315789473684,
          0.10526315789473684,
          0,
          0,
          0.05263157894736842,
          0.15789473684210525,
          0.10526315789473684,
          0,
          0.05263157894736842,
          0.15,
          0.05,
          0,
          0,
          1,
          0.15,
          0.15,
          0,
          0.2631578947368421,
          0.2631578947368421,
          0.15789473684210525,
          0.3684210526315789,
          0.3684210526315789,
          0,
          0.05263157894736842,
          0.3684210526315789,
          0.05263157894736842,
          0.15789473684210525,
          0,
          0,
          0,
          0.10526315789473684,
          0.10526315789473684,
          0,
          0,
          0.05263157894736842,
          0,
          0,
          0,
          0,
          0,
          0,
          0,
          0
         ],
         "y0": " ",
         "yaxis": "y"
        },
        {
         "alignmentgroup": "True",
         "hovertemplate": "Seleccion=gb<br>variable=%{x}<br>value=%{y}<extra></extra>",
         "legendgroup": "gb",
         "marker": {
          "color": "#FFA15A"
         },
         "name": "gb",
         "notched": false,
         "offsetgroup": "gb",
         "orientation": "v",
         "showlegend": true,
         "type": "box",
         "x": [
          "LogisticRegression",
          "LogisticRegression",
          "LogisticRegression",
          "LogisticRegression",
          "LogisticRegression",
          "LogisticRegression",
          "LogisticRegression",
          "LogisticRegression",
          "LogisticRegression",
          "LogisticRegression",
          "LogisticRegression",
          "LogisticRegression",
          "LogisticRegression",
          "LogisticRegression",
          "LogisticRegression",
          "LogisticRegression",
          "LogisticRegression",
          "LogisticRegression",
          "LogisticRegression",
          "LogisticRegression",
          "LogisticRegression",
          "LogisticRegression",
          "LogisticRegression",
          "LogisticRegression",
          "LogisticRegression",
          "LogisticRegression",
          "LogisticRegression",
          "LogisticRegression",
          "LogisticRegression",
          "LogisticRegression",
          "DecisionTreeClassifier",
          "DecisionTreeClassifier",
          "DecisionTreeClassifier",
          "DecisionTreeClassifier",
          "DecisionTreeClassifier",
          "DecisionTreeClassifier",
          "DecisionTreeClassifier",
          "DecisionTreeClassifier",
          "DecisionTreeClassifier",
          "DecisionTreeClassifier",
          "DecisionTreeClassifier",
          "DecisionTreeClassifier",
          "DecisionTreeClassifier",
          "DecisionTreeClassifier",
          "DecisionTreeClassifier",
          "DecisionTreeClassifier",
          "DecisionTreeClassifier",
          "DecisionTreeClassifier",
          "DecisionTreeClassifier",
          "DecisionTreeClassifier",
          "DecisionTreeClassifier",
          "DecisionTreeClassifier",
          "DecisionTreeClassifier",
          "DecisionTreeClassifier",
          "DecisionTreeClassifier",
          "DecisionTreeClassifier",
          "DecisionTreeClassifier",
          "DecisionTreeClassifier",
          "DecisionTreeClassifier",
          "DecisionTreeClassifier",
          "RandomForestClassifier",
          "RandomForestClassifier",
          "RandomForestClassifier",
          "RandomForestClassifier",
          "RandomForestClassifier",
          "RandomForestClassifier",
          "RandomForestClassifier",
          "RandomForestClassifier",
          "RandomForestClassifier",
          "RandomForestClassifier",
          "RandomForestClassifier",
          "RandomForestClassifier",
          "RandomForestClassifier",
          "RandomForestClassifier",
          "RandomForestClassifier",
          "RandomForestClassifier",
          "RandomForestClassifier",
          "RandomForestClassifier",
          "RandomForestClassifier",
          "RandomForestClassifier",
          "RandomForestClassifier",
          "RandomForestClassifier",
          "RandomForestClassifier",
          "RandomForestClassifier",
          "RandomForestClassifier",
          "RandomForestClassifier",
          "RandomForestClassifier",
          "RandomForestClassifier",
          "RandomForestClassifier",
          "RandomForestClassifier",
          "GradientBoostingClassifier",
          "GradientBoostingClassifier",
          "GradientBoostingClassifier",
          "GradientBoostingClassifier",
          "GradientBoostingClassifier",
          "GradientBoostingClassifier",
          "GradientBoostingClassifier",
          "GradientBoostingClassifier",
          "GradientBoostingClassifier",
          "GradientBoostingClassifier",
          "GradientBoostingClassifier",
          "GradientBoostingClassifier",
          "GradientBoostingClassifier",
          "GradientBoostingClassifier",
          "GradientBoostingClassifier",
          "GradientBoostingClassifier",
          "GradientBoostingClassifier",
          "GradientBoostingClassifier",
          "GradientBoostingClassifier",
          "GradientBoostingClassifier",
          "GradientBoostingClassifier",
          "GradientBoostingClassifier",
          "GradientBoostingClassifier",
          "GradientBoostingClassifier",
          "GradientBoostingClassifier",
          "GradientBoostingClassifier",
          "GradientBoostingClassifier",
          "GradientBoostingClassifier",
          "GradientBoostingClassifier",
          "GradientBoostingClassifier"
         ],
         "x0": " ",
         "xaxis": "x",
         "y": [
          1,
          1,
          0.9,
          0.8421052631578947,
          0.8947368421052632,
          0.631578947368421,
          1,
          0.6842105263157895,
          1,
          0.6842105263157895,
          0.8421052631578947,
          0.8947368421052632,
          0.7368421052631579,
          0.8947368421052632,
          0.7894736842105263,
          0.47368421052631576,
          0.7894736842105263,
          0.5263157894736842,
          0.5789473684210527,
          0.7894736842105263,
          0.5263157894736842,
          0.9473684210526315,
          0.3684210526315789,
          0.47368421052631576,
          0.5263157894736842,
          0,
          0.15,
          0.4,
          0.3,
          0,
          0.7,
          0.1,
          0.6,
          0.3684210526315789,
          0.05263157894736842,
          0.5263157894736842,
          0.3157894736842105,
          0.42105263157894735,
          0.2631578947368421,
          0.3684210526315789,
          0.21052631578947367,
          0.21052631578947367,
          0.47368421052631576,
          0.21052631578947367,
          0.2631578947368421,
          0.21052631578947367,
          0.15789473684210525,
          0.2631578947368421,
          0.10526315789473684,
          0.15789473684210525,
          0.15789473684210525,
          0.21052631578947367,
          0.3157894736842105,
          0.10526315789473684,
          0.15789473684210525,
          0.05263157894736842,
          0.15,
          0.2,
          0.15,
          0,
          0.75,
          0.1,
          0.3,
          0.05263157894736842,
          0.05263157894736842,
          0.21052631578947367,
          0.15789473684210525,
          0.2631578947368421,
          0.2631578947368421,
          0.05263157894736842,
          0.05263157894736842,
          0.21052631578947367,
          0.15789473684210525,
          0.05263157894736842,
          0.10526315789473684,
          0.05263157894736842,
          0.10526315789473684,
          0.2631578947368421,
          0.10526315789473684,
          0,
          0,
          0.05263157894736842,
          0.15789473684210525,
          0.10526315789473684,
          0,
          0.05263157894736842,
          0.15,
          0.05,
          0,
          0,
          1,
          0.1,
          0.35,
          0.10526315789473684,
          0.21052631578947367,
          0.2631578947368421,
          0.15789473684210525,
          0.5263157894736842,
          0.2631578947368421,
          0,
          0.05263157894736842,
          0.3684210526315789,
          0.05263157894736842,
          0.15789473684210525,
          0,
          0,
          0,
          0.10526315789473684,
          0.15789473684210525,
          0,
          0,
          0.05263157894736842,
          0.10526315789473684,
          0,
          0,
          0,
          0,
          0,
          0,
          0
         ],
         "y0": " ",
         "yaxis": "y"
        },
        {
         "alignmentgroup": "True",
         "hovertemplate": "Seleccion=ridge<br>variable=%{x}<br>value=%{y}<extra></extra>",
         "legendgroup": "ridge",
         "marker": {
          "color": "#19d3f3"
         },
         "name": "ridge",
         "notched": false,
         "offsetgroup": "ridge",
         "orientation": "v",
         "showlegend": true,
         "type": "box",
         "x": [
          "LogisticRegression",
          "LogisticRegression",
          "LogisticRegression",
          "LogisticRegression",
          "LogisticRegression",
          "LogisticRegression",
          "LogisticRegression",
          "LogisticRegression",
          "LogisticRegression",
          "LogisticRegression",
          "LogisticRegression",
          "LogisticRegression",
          "LogisticRegression",
          "LogisticRegression",
          "LogisticRegression",
          "LogisticRegression",
          "LogisticRegression",
          "LogisticRegression",
          "LogisticRegression",
          "LogisticRegression",
          "LogisticRegression",
          "LogisticRegression",
          "LogisticRegression",
          "LogisticRegression",
          "LogisticRegression",
          "LogisticRegression",
          "LogisticRegression",
          "LogisticRegression",
          "LogisticRegression",
          "LogisticRegression",
          "DecisionTreeClassifier",
          "DecisionTreeClassifier",
          "DecisionTreeClassifier",
          "DecisionTreeClassifier",
          "DecisionTreeClassifier",
          "DecisionTreeClassifier",
          "DecisionTreeClassifier",
          "DecisionTreeClassifier",
          "DecisionTreeClassifier",
          "DecisionTreeClassifier",
          "DecisionTreeClassifier",
          "DecisionTreeClassifier",
          "DecisionTreeClassifier",
          "DecisionTreeClassifier",
          "DecisionTreeClassifier",
          "DecisionTreeClassifier",
          "DecisionTreeClassifier",
          "DecisionTreeClassifier",
          "DecisionTreeClassifier",
          "DecisionTreeClassifier",
          "DecisionTreeClassifier",
          "DecisionTreeClassifier",
          "DecisionTreeClassifier",
          "DecisionTreeClassifier",
          "DecisionTreeClassifier",
          "DecisionTreeClassifier",
          "DecisionTreeClassifier",
          "DecisionTreeClassifier",
          "DecisionTreeClassifier",
          "DecisionTreeClassifier",
          "RandomForestClassifier",
          "RandomForestClassifier",
          "RandomForestClassifier",
          "RandomForestClassifier",
          "RandomForestClassifier",
          "RandomForestClassifier",
          "RandomForestClassifier",
          "RandomForestClassifier",
          "RandomForestClassifier",
          "RandomForestClassifier",
          "RandomForestClassifier",
          "RandomForestClassifier",
          "RandomForestClassifier",
          "RandomForestClassifier",
          "RandomForestClassifier",
          "RandomForestClassifier",
          "RandomForestClassifier",
          "RandomForestClassifier",
          "RandomForestClassifier",
          "RandomForestClassifier",
          "RandomForestClassifier",
          "RandomForestClassifier",
          "RandomForestClassifier",
          "RandomForestClassifier",
          "RandomForestClassifier",
          "RandomForestClassifier",
          "RandomForestClassifier",
          "RandomForestClassifier",
          "RandomForestClassifier",
          "RandomForestClassifier",
          "GradientBoostingClassifier",
          "GradientBoostingClassifier",
          "GradientBoostingClassifier",
          "GradientBoostingClassifier",
          "GradientBoostingClassifier",
          "GradientBoostingClassifier",
          "GradientBoostingClassifier",
          "GradientBoostingClassifier",
          "GradientBoostingClassifier",
          "GradientBoostingClassifier",
          "GradientBoostingClassifier",
          "GradientBoostingClassifier",
          "GradientBoostingClassifier",
          "GradientBoostingClassifier",
          "GradientBoostingClassifier",
          "GradientBoostingClassifier",
          "GradientBoostingClassifier",
          "GradientBoostingClassifier",
          "GradientBoostingClassifier",
          "GradientBoostingClassifier",
          "GradientBoostingClassifier",
          "GradientBoostingClassifier",
          "GradientBoostingClassifier",
          "GradientBoostingClassifier",
          "GradientBoostingClassifier",
          "GradientBoostingClassifier",
          "GradientBoostingClassifier",
          "GradientBoostingClassifier",
          "GradientBoostingClassifier",
          "GradientBoostingClassifier"
         ],
         "x0": " ",
         "xaxis": "x",
         "y": [
          0.85,
          1,
          0.9,
          0.9473684210526315,
          0.7368421052631579,
          0.7894736842105263,
          0.8421052631578947,
          0.42105263157894735,
          0.9473684210526315,
          0.7894736842105263,
          0.8421052631578947,
          0.8421052631578947,
          0.6842105263157895,
          0.7368421052631579,
          0.8947368421052632,
          0.631578947368421,
          0.7368421052631579,
          0.3157894736842105,
          0.7894736842105263,
          0.7894736842105263,
          0.5789473684210527,
          0.9473684210526315,
          0.42105263157894735,
          0.42105263157894735,
          0.5263157894736842,
          0,
          0.1,
          0.4,
          0.3,
          0.15,
          0.7,
          0.1,
          0.45,
          0.21052631578947367,
          0.42105263157894735,
          0.3684210526315789,
          0,
          0.2631578947368421,
          0.2631578947368421,
          0.05263157894736842,
          0.05263157894736842,
          0.21052631578947367,
          0.631578947368421,
          0.05263157894736842,
          0.10526315789473684,
          0.05263157894736842,
          0.2631578947368421,
          0.2631578947368421,
          0.42105263157894735,
          0,
          0.15789473684210525,
          0.05263157894736842,
          0.15789473684210525,
          0.10526315789473684,
          0.3157894736842105,
          0.05263157894736842,
          0.15,
          0.2,
          0.15,
          0.15,
          0.55,
          0.25,
          0.45,
          0.05263157894736842,
          0.05263157894736842,
          0.05263157894736842,
          0,
          0.2631578947368421,
          0.2631578947368421,
          0.05263157894736842,
          0.05263157894736842,
          0.21052631578947367,
          0.15789473684210525,
          0.21052631578947367,
          0.10526315789473684,
          0.05263157894736842,
          0.10526315789473684,
          0.10526315789473684,
          0.15789473684210525,
          0,
          0,
          0.05263157894736842,
          0.15789473684210525,
          0.10526315789473684,
          0,
          0.05263157894736842,
          0.15,
          0.2,
          0,
          0,
          1,
          0.35,
          0.3,
          0.21052631578947367,
          0.10526315789473684,
          0.2631578947368421,
          0,
          0.15789473684210525,
          0.2631578947368421,
          0,
          0.21052631578947367,
          0.3684210526315789,
          0.05263157894736842,
          0.3157894736842105,
          0.10526315789473684,
          0,
          0,
          0.10526315789473684,
          0.10526315789473684,
          0,
          0,
          0,
          0,
          0,
          0.15789473684210525,
          0,
          0,
          0,
          0,
          0
         ],
         "y0": " ",
         "yaxis": "y"
        },
        {
         "alignmentgroup": "True",
         "hovertemplate": "Seleccion=todas<br>variable=%{x}<br>value=%{y}<extra></extra>",
         "legendgroup": "todas",
         "marker": {
          "color": "#FF6692"
         },
         "name": "todas",
         "notched": false,
         "offsetgroup": "todas",
         "orientation": "v",
         "showlegend": true,
         "type": "box",
         "x": [
          "LogisticRegression",
          "LogisticRegression",
          "LogisticRegression",
          "LogisticRegression",
          "LogisticRegression",
          "LogisticRegression",
          "LogisticRegression",
          "LogisticRegression",
          "LogisticRegression",
          "LogisticRegression",
          "LogisticRegression",
          "LogisticRegression",
          "LogisticRegression",
          "LogisticRegression",
          "LogisticRegression",
          "LogisticRegression",
          "LogisticRegression",
          "LogisticRegression",
          "LogisticRegression",
          "LogisticRegression",
          "LogisticRegression",
          "LogisticRegression",
          "LogisticRegression",
          "LogisticRegression",
          "LogisticRegression",
          "LogisticRegression",
          "LogisticRegression",
          "LogisticRegression",
          "LogisticRegression",
          "LogisticRegression",
          "DecisionTreeClassifier",
          "DecisionTreeClassifier",
          "DecisionTreeClassifier",
          "DecisionTreeClassifier",
          "DecisionTreeClassifier",
          "DecisionTreeClassifier",
          "DecisionTreeClassifier",
          "DecisionTreeClassifier",
          "DecisionTreeClassifier",
          "DecisionTreeClassifier",
          "DecisionTreeClassifier",
          "DecisionTreeClassifier",
          "DecisionTreeClassifier",
          "DecisionTreeClassifier",
          "DecisionTreeClassifier",
          "DecisionTreeClassifier",
          "DecisionTreeClassifier",
          "DecisionTreeClassifier",
          "DecisionTreeClassifier",
          "DecisionTreeClassifier",
          "DecisionTreeClassifier",
          "DecisionTreeClassifier",
          "DecisionTreeClassifier",
          "DecisionTreeClassifier",
          "DecisionTreeClassifier",
          "DecisionTreeClassifier",
          "DecisionTreeClassifier",
          "DecisionTreeClassifier",
          "DecisionTreeClassifier",
          "DecisionTreeClassifier",
          "RandomForestClassifier",
          "RandomForestClassifier",
          "RandomForestClassifier",
          "RandomForestClassifier",
          "RandomForestClassifier",
          "RandomForestClassifier",
          "RandomForestClassifier",
          "RandomForestClassifier",
          "RandomForestClassifier",
          "RandomForestClassifier",
          "RandomForestClassifier",
          "RandomForestClassifier",
          "RandomForestClassifier",
          "RandomForestClassifier",
          "RandomForestClassifier",
          "RandomForestClassifier",
          "RandomForestClassifier",
          "RandomForestClassifier",
          "RandomForestClassifier",
          "RandomForestClassifier",
          "RandomForestClassifier",
          "RandomForestClassifier",
          "RandomForestClassifier",
          "RandomForestClassifier",
          "RandomForestClassifier",
          "RandomForestClassifier",
          "RandomForestClassifier",
          "RandomForestClassifier",
          "RandomForestClassifier",
          "RandomForestClassifier",
          "GradientBoostingClassifier",
          "GradientBoostingClassifier",
          "GradientBoostingClassifier",
          "GradientBoostingClassifier",
          "GradientBoostingClassifier",
          "GradientBoostingClassifier",
          "GradientBoostingClassifier",
          "GradientBoostingClassifier",
          "GradientBoostingClassifier",
          "GradientBoostingClassifier",
          "GradientBoostingClassifier",
          "GradientBoostingClassifier",
          "GradientBoostingClassifier",
          "GradientBoostingClassifier",
          "GradientBoostingClassifier",
          "GradientBoostingClassifier",
          "GradientBoostingClassifier",
          "GradientBoostingClassifier",
          "GradientBoostingClassifier",
          "GradientBoostingClassifier",
          "GradientBoostingClassifier",
          "GradientBoostingClassifier",
          "GradientBoostingClassifier",
          "GradientBoostingClassifier",
          "GradientBoostingClassifier",
          "GradientBoostingClassifier",
          "GradientBoostingClassifier",
          "GradientBoostingClassifier",
          "GradientBoostingClassifier",
          "GradientBoostingClassifier"
         ],
         "x0": " ",
         "xaxis": "x",
         "y": [
          0.7,
          1,
          0.75,
          1,
          0.8947368421052632,
          0.7894736842105263,
          1,
          0.5263157894736842,
          1,
          0.7894736842105263,
          0.7368421052631579,
          0.8421052631578947,
          0.47368421052631576,
          0.9473684210526315,
          0.7894736842105263,
          0.3157894736842105,
          0.7368421052631579,
          0.3684210526315789,
          0.7368421052631579,
          0.7894736842105263,
          0.5789473684210527,
          0.9473684210526315,
          0.5263157894736842,
          0.5789473684210527,
          0.5263157894736842,
          0,
          0.1,
          0.3,
          0.15,
          0.15,
          0.85,
          0.25,
          0.6,
          0.5263157894736842,
          0.21052631578947367,
          0.3684210526315789,
          0,
          0.10526315789473684,
          0.42105263157894735,
          0.3684210526315789,
          0.05263157894736842,
          0.3684210526315789,
          0.47368421052631576,
          0.05263157894736842,
          0.10526315789473684,
          0.21052631578947367,
          0.10526315789473684,
          0.10526315789473684,
          0.2631578947368421,
          0.15789473684210525,
          0.3157894736842105,
          0.05263157894736842,
          0.3157894736842105,
          0.10526315789473684,
          0.3157894736842105,
          0.05263157894736842,
          0.15,
          0.35,
          0,
          0.15,
          0.25,
          0.1,
          0.3,
          0.05263157894736842,
          0.05263157894736842,
          0.05263157894736842,
          0.15789473684210525,
          0.10526315789473684,
          0.10526315789473684,
          0.05263157894736842,
          0.05263157894736842,
          0.21052631578947367,
          0.15789473684210525,
          0.05263157894736842,
          0.10526315789473684,
          0.05263157894736842,
          0.10526315789473684,
          0.10526315789473684,
          0.10526315789473684,
          0,
          0,
          0.05263157894736842,
          0.15789473684210525,
          0.10526315789473684,
          0,
          0.05263157894736842,
          0.15,
          0.05,
          0,
          0,
          1,
          0.1,
          0.35,
          0.15789473684210525,
          0.10526315789473684,
          0.2631578947368421,
          0.15789473684210525,
          0.2631578947368421,
          0.42105263157894735,
          0,
          0.05263157894736842,
          0.21052631578947367,
          0.05263157894736842,
          0.15789473684210525,
          0,
          0,
          0,
          0,
          0.10526315789473684,
          0,
          0,
          0.05263157894736842,
          0,
          0,
          0,
          0,
          0,
          0,
          0,
          0
         ],
         "y0": " ",
         "yaxis": "y"
        }
       ],
       "layout": {
        "boxmode": "group",
        "legend": {
         "title": {
          "text": "Seleccion"
         },
         "tracegroupgap": 0
        },
        "margin": {
         "t": 60
        },
        "template": {
         "data": {
          "bar": [
           {
            "error_x": {
             "color": "#2a3f5f"
            },
            "error_y": {
             "color": "#2a3f5f"
            },
            "marker": {
             "line": {
              "color": "#E5ECF6",
              "width": 0.5
             },
             "pattern": {
              "fillmode": "overlay",
              "size": 10,
              "solidity": 0.2
             }
            },
            "type": "bar"
           }
          ],
          "barpolar": [
           {
            "marker": {
             "line": {
              "color": "#E5ECF6",
              "width": 0.5
             },
             "pattern": {
              "fillmode": "overlay",
              "size": 10,
              "solidity": 0.2
             }
            },
            "type": "barpolar"
           }
          ],
          "carpet": [
           {
            "aaxis": {
             "endlinecolor": "#2a3f5f",
             "gridcolor": "white",
             "linecolor": "white",
             "minorgridcolor": "white",
             "startlinecolor": "#2a3f5f"
            },
            "baxis": {
             "endlinecolor": "#2a3f5f",
             "gridcolor": "white",
             "linecolor": "white",
             "minorgridcolor": "white",
             "startlinecolor": "#2a3f5f"
            },
            "type": "carpet"
           }
          ],
          "choropleth": [
           {
            "colorbar": {
             "outlinewidth": 0,
             "ticks": ""
            },
            "type": "choropleth"
           }
          ],
          "contour": [
           {
            "colorbar": {
             "outlinewidth": 0,
             "ticks": ""
            },
            "colorscale": [
             [
              0,
              "#0d0887"
             ],
             [
              0.1111111111111111,
              "#46039f"
             ],
             [
              0.2222222222222222,
              "#7201a8"
             ],
             [
              0.3333333333333333,
              "#9c179e"
             ],
             [
              0.4444444444444444,
              "#bd3786"
             ],
             [
              0.5555555555555556,
              "#d8576b"
             ],
             [
              0.6666666666666666,
              "#ed7953"
             ],
             [
              0.7777777777777778,
              "#fb9f3a"
             ],
             [
              0.8888888888888888,
              "#fdca26"
             ],
             [
              1,
              "#f0f921"
             ]
            ],
            "type": "contour"
           }
          ],
          "contourcarpet": [
           {
            "colorbar": {
             "outlinewidth": 0,
             "ticks": ""
            },
            "type": "contourcarpet"
           }
          ],
          "heatmap": [
           {
            "colorbar": {
             "outlinewidth": 0,
             "ticks": ""
            },
            "colorscale": [
             [
              0,
              "#0d0887"
             ],
             [
              0.1111111111111111,
              "#46039f"
             ],
             [
              0.2222222222222222,
              "#7201a8"
             ],
             [
              0.3333333333333333,
              "#9c179e"
             ],
             [
              0.4444444444444444,
              "#bd3786"
             ],
             [
              0.5555555555555556,
              "#d8576b"
             ],
             [
              0.6666666666666666,
              "#ed7953"
             ],
             [
              0.7777777777777778,
              "#fb9f3a"
             ],
             [
              0.8888888888888888,
              "#fdca26"
             ],
             [
              1,
              "#f0f921"
             ]
            ],
            "type": "heatmap"
           }
          ],
          "heatmapgl": [
           {
            "colorbar": {
             "outlinewidth": 0,
             "ticks": ""
            },
            "colorscale": [
             [
              0,
              "#0d0887"
             ],
             [
              0.1111111111111111,
              "#46039f"
             ],
             [
              0.2222222222222222,
              "#7201a8"
             ],
             [
              0.3333333333333333,
              "#9c179e"
             ],
             [
              0.4444444444444444,
              "#bd3786"
             ],
             [
              0.5555555555555556,
              "#d8576b"
             ],
             [
              0.6666666666666666,
              "#ed7953"
             ],
             [
              0.7777777777777778,
              "#fb9f3a"
             ],
             [
              0.8888888888888888,
              "#fdca26"
             ],
             [
              1,
              "#f0f921"
             ]
            ],
            "type": "heatmapgl"
           }
          ],
          "histogram": [
           {
            "marker": {
             "pattern": {
              "fillmode": "overlay",
              "size": 10,
              "solidity": 0.2
             }
            },
            "type": "histogram"
           }
          ],
          "histogram2d": [
           {
            "colorbar": {
             "outlinewidth": 0,
             "ticks": ""
            },
            "colorscale": [
             [
              0,
              "#0d0887"
             ],
             [
              0.1111111111111111,
              "#46039f"
             ],
             [
              0.2222222222222222,
              "#7201a8"
             ],
             [
              0.3333333333333333,
              "#9c179e"
             ],
             [
              0.4444444444444444,
              "#bd3786"
             ],
             [
              0.5555555555555556,
              "#d8576b"
             ],
             [
              0.6666666666666666,
              "#ed7953"
             ],
             [
              0.7777777777777778,
              "#fb9f3a"
             ],
             [
              0.8888888888888888,
              "#fdca26"
             ],
             [
              1,
              "#f0f921"
             ]
            ],
            "type": "histogram2d"
           }
          ],
          "histogram2dcontour": [
           {
            "colorbar": {
             "outlinewidth": 0,
             "ticks": ""
            },
            "colorscale": [
             [
              0,
              "#0d0887"
             ],
             [
              0.1111111111111111,
              "#46039f"
             ],
             [
              0.2222222222222222,
              "#7201a8"
             ],
             [
              0.3333333333333333,
              "#9c179e"
             ],
             [
              0.4444444444444444,
              "#bd3786"
             ],
             [
              0.5555555555555556,
              "#d8576b"
             ],
             [
              0.6666666666666666,
              "#ed7953"
             ],
             [
              0.7777777777777778,
              "#fb9f3a"
             ],
             [
              0.8888888888888888,
              "#fdca26"
             ],
             [
              1,
              "#f0f921"
             ]
            ],
            "type": "histogram2dcontour"
           }
          ],
          "mesh3d": [
           {
            "colorbar": {
             "outlinewidth": 0,
             "ticks": ""
            },
            "type": "mesh3d"
           }
          ],
          "parcoords": [
           {
            "line": {
             "colorbar": {
              "outlinewidth": 0,
              "ticks": ""
             }
            },
            "type": "parcoords"
           }
          ],
          "pie": [
           {
            "automargin": true,
            "type": "pie"
           }
          ],
          "scatter": [
           {
            "fillpattern": {
             "fillmode": "overlay",
             "size": 10,
             "solidity": 0.2
            },
            "type": "scatter"
           }
          ],
          "scatter3d": [
           {
            "line": {
             "colorbar": {
              "outlinewidth": 0,
              "ticks": ""
             }
            },
            "marker": {
             "colorbar": {
              "outlinewidth": 0,
              "ticks": ""
             }
            },
            "type": "scatter3d"
           }
          ],
          "scattercarpet": [
           {
            "marker": {
             "colorbar": {
              "outlinewidth": 0,
              "ticks": ""
             }
            },
            "type": "scattercarpet"
           }
          ],
          "scattergeo": [
           {
            "marker": {
             "colorbar": {
              "outlinewidth": 0,
              "ticks": ""
             }
            },
            "type": "scattergeo"
           }
          ],
          "scattergl": [
           {
            "marker": {
             "colorbar": {
              "outlinewidth": 0,
              "ticks": ""
             }
            },
            "type": "scattergl"
           }
          ],
          "scattermapbox": [
           {
            "marker": {
             "colorbar": {
              "outlinewidth": 0,
              "ticks": ""
             }
            },
            "type": "scattermapbox"
           }
          ],
          "scatterpolar": [
           {
            "marker": {
             "colorbar": {
              "outlinewidth": 0,
              "ticks": ""
             }
            },
            "type": "scatterpolar"
           }
          ],
          "scatterpolargl": [
           {
            "marker": {
             "colorbar": {
              "outlinewidth": 0,
              "ticks": ""
             }
            },
            "type": "scatterpolargl"
           }
          ],
          "scatterternary": [
           {
            "marker": {
             "colorbar": {
              "outlinewidth": 0,
              "ticks": ""
             }
            },
            "type": "scatterternary"
           }
          ],
          "surface": [
           {
            "colorbar": {
             "outlinewidth": 0,
             "ticks": ""
            },
            "colorscale": [
             [
              0,
              "#0d0887"
             ],
             [
              0.1111111111111111,
              "#46039f"
             ],
             [
              0.2222222222222222,
              "#7201a8"
             ],
             [
              0.3333333333333333,
              "#9c179e"
             ],
             [
              0.4444444444444444,
              "#bd3786"
             ],
             [
              0.5555555555555556,
              "#d8576b"
             ],
             [
              0.6666666666666666,
              "#ed7953"
             ],
             [
              0.7777777777777778,
              "#fb9f3a"
             ],
             [
              0.8888888888888888,
              "#fdca26"
             ],
             [
              1,
              "#f0f921"
             ]
            ],
            "type": "surface"
           }
          ],
          "table": [
           {
            "cells": {
             "fill": {
              "color": "#EBF0F8"
             },
             "line": {
              "color": "white"
             }
            },
            "header": {
             "fill": {
              "color": "#C8D4E3"
             },
             "line": {
              "color": "white"
             }
            },
            "type": "table"
           }
          ]
         },
         "layout": {
          "annotationdefaults": {
           "arrowcolor": "#2a3f5f",
           "arrowhead": 0,
           "arrowwidth": 1
          },
          "autotypenumbers": "strict",
          "coloraxis": {
           "colorbar": {
            "outlinewidth": 0,
            "ticks": ""
           }
          },
          "colorscale": {
           "diverging": [
            [
             0,
             "#8e0152"
            ],
            [
             0.1,
             "#c51b7d"
            ],
            [
             0.2,
             "#de77ae"
            ],
            [
             0.3,
             "#f1b6da"
            ],
            [
             0.4,
             "#fde0ef"
            ],
            [
             0.5,
             "#f7f7f7"
            ],
            [
             0.6,
             "#e6f5d0"
            ],
            [
             0.7,
             "#b8e186"
            ],
            [
             0.8,
             "#7fbc41"
            ],
            [
             0.9,
             "#4d9221"
            ],
            [
             1,
             "#276419"
            ]
           ],
           "sequential": [
            [
             0,
             "#0d0887"
            ],
            [
             0.1111111111111111,
             "#46039f"
            ],
            [
             0.2222222222222222,
             "#7201a8"
            ],
            [
             0.3333333333333333,
             "#9c179e"
            ],
            [
             0.4444444444444444,
             "#bd3786"
            ],
            [
             0.5555555555555556,
             "#d8576b"
            ],
            [
             0.6666666666666666,
             "#ed7953"
            ],
            [
             0.7777777777777778,
             "#fb9f3a"
            ],
            [
             0.8888888888888888,
             "#fdca26"
            ],
            [
             1,
             "#f0f921"
            ]
           ],
           "sequentialminus": [
            [
             0,
             "#0d0887"
            ],
            [
             0.1111111111111111,
             "#46039f"
            ],
            [
             0.2222222222222222,
             "#7201a8"
            ],
            [
             0.3333333333333333,
             "#9c179e"
            ],
            [
             0.4444444444444444,
             "#bd3786"
            ],
            [
             0.5555555555555556,
             "#d8576b"
            ],
            [
             0.6666666666666666,
             "#ed7953"
            ],
            [
             0.7777777777777778,
             "#fb9f3a"
            ],
            [
             0.8888888888888888,
             "#fdca26"
            ],
            [
             1,
             "#f0f921"
            ]
           ]
          },
          "colorway": [
           "#636efa",
           "#EF553B",
           "#00cc96",
           "#ab63fa",
           "#FFA15A",
           "#19d3f3",
           "#FF6692",
           "#B6E880",
           "#FF97FF",
           "#FECB52"
          ],
          "font": {
           "color": "#2a3f5f"
          },
          "geo": {
           "bgcolor": "white",
           "lakecolor": "white",
           "landcolor": "#E5ECF6",
           "showlakes": true,
           "showland": true,
           "subunitcolor": "white"
          },
          "hoverlabel": {
           "align": "left"
          },
          "hovermode": "closest",
          "mapbox": {
           "style": "light"
          },
          "paper_bgcolor": "white",
          "plot_bgcolor": "#E5ECF6",
          "polar": {
           "angularaxis": {
            "gridcolor": "white",
            "linecolor": "white",
            "ticks": ""
           },
           "bgcolor": "#E5ECF6",
           "radialaxis": {
            "gridcolor": "white",
            "linecolor": "white",
            "ticks": ""
           }
          },
          "scene": {
           "xaxis": {
            "backgroundcolor": "#E5ECF6",
            "gridcolor": "white",
            "gridwidth": 2,
            "linecolor": "white",
            "showbackground": true,
            "ticks": "",
            "zerolinecolor": "white"
           },
           "yaxis": {
            "backgroundcolor": "#E5ECF6",
            "gridcolor": "white",
            "gridwidth": 2,
            "linecolor": "white",
            "showbackground": true,
            "ticks": "",
            "zerolinecolor": "white"
           },
           "zaxis": {
            "backgroundcolor": "#E5ECF6",
            "gridcolor": "white",
            "gridwidth": 2,
            "linecolor": "white",
            "showbackground": true,
            "ticks": "",
            "zerolinecolor": "white"
           }
          },
          "shapedefaults": {
           "line": {
            "color": "#2a3f5f"
           }
          },
          "ternary": {
           "aaxis": {
            "gridcolor": "white",
            "linecolor": "white",
            "ticks": ""
           },
           "baxis": {
            "gridcolor": "white",
            "linecolor": "white",
            "ticks": ""
           },
           "bgcolor": "#E5ECF6",
           "caxis": {
            "gridcolor": "white",
            "linecolor": "white",
            "ticks": ""
           }
          },
          "title": {
           "x": 0.05
          },
          "xaxis": {
           "automargin": true,
           "gridcolor": "white",
           "linecolor": "white",
           "ticks": "",
           "title": {
            "standoff": 15
           },
           "zerolinecolor": "white",
           "zerolinewidth": 2
          },
          "yaxis": {
           "automargin": true,
           "gridcolor": "white",
           "linecolor": "white",
           "ticks": "",
           "title": {
            "standoff": 15
           },
           "zerolinecolor": "white",
           "zerolinewidth": 2
          }
         }
        },
        "xaxis": {
         "anchor": "y",
         "domain": [
          0,
          1
         ],
         "title": {
          "text": "variable"
         }
        },
        "yaxis": {
         "anchor": "x",
         "domain": [
          0,
          1
         ],
         "title": {
          "text": "value"
         }
        }
       }
      }
     },
     "metadata": {},
     "output_type": "display_data"
    }
   ],
   "source": [
    "fig = px.box(df_metrics_total_test, color='Seleccion')\n",
    "fig.show()"
   ]
  },
  {
   "cell_type": "code",
   "execution_count": 135,
   "metadata": {},
   "outputs": [
    {
     "data": {
      "image/png": "[encoded data removed]",
      "text/plain": [
       "<Figure size 640x480 with 2 Axes>"
      ]
     },
     "metadata": {},
     "output_type": "display_data"
    }
   ],
   "source": [
    "import matplotlib.pyplot as plt\n",
    "from sklearn.metrics import accuracy_score, confusion_matrix, ConfusionMatrixDisplay\n",
    "from sklearn.tree import DecisionTreeClassifier, plot_tree\n",
    "dt = DecisionTreeClassifier(class_weight='balanced', random_state=42, max_depth = 5)\n",
    "dt.fit(df_log, y)\n",
    "pred = dt.predict(df_log)\n",
    "accuracy_score(pred, y)\n",
    "mc = confusion_matrix(y, pred)\n",
    "\n",
    "cm1_display = ConfusionMatrixDisplay(confusion_matrix = mc)\n",
    "cm1_display.plot()\n",
    "plt.show()"
   ]
  },
  {
   "cell_type": "code",
   "execution_count": 136,
   "metadata": {},
   "outputs": [],
   "source": [
    "df_impo = pd.DataFrame()\n",
    "df_impo['feature'] = dt.feature_names_in_\n",
    "df_impo['importance'] = dt.feature_importances_.round(2)"
   ]
  },
  {
   "cell_type": "code",
   "execution_count": 137,
   "metadata": {},
   "outputs": [
    {
     "data": {
      "application/vnd.plotly.v1+json": {
       "config": {
        "plotlyServerURL": "https://plot.ly"
       },
       "data": [
        {
         "alignmentgroup": "True",
         "hovertemplate": "feature=%{x}<br>importance=%{text}<extra></extra>",
         "legendgroup": "",
         "marker": {
          "color": "#636efa",
          "pattern": {
           "shape": ""
          }
         },
         "name": "",
         "offsetgroup": "",
         "orientation": "v",
         "showlegend": false,
         "text": [
          0.21,
          0.15,
          0.09,
          0.09,
          0.08,
          0.07,
          0.06,
          0.05,
          0.04,
          0.04,
          0.03,
          0.02,
          0.02,
          0.02,
          0.01,
          0.01,
          0,
          0,
          0,
          0,
          0,
          0,
          0,
          0,
          0,
          0,
          0,
          0,
          0,
          0
         ],
         "textposition": "auto",
         "type": "bar",
         "x": [
          "num__YearsAtCompany",
          "num__Age",
          "num__EnvironmentSatisfaction",
          "num__JobSatisfaction",
          "cat__MaritalStatus_Single",
          "num__NumCompaniesWorked",
          "cat__Department_Human Resources",
          "num__WorkLifeBalance",
          "num__TrainingTimesLastYear",
          "cat__MaritalStatus_Divorced",
          "cat__StockOptionLevel_1",
          "cat__JobRole_Sales Representative",
          "cat__Department_Research & Development",
          "cat__Department_Sales",
          "cat__JobRole_Human Resources",
          "cat__JobRole_Manufacturing Director",
          "cat__MaritalStatus_Married",
          "cat__JobRole_Sales Executive",
          "cat__JobRole_Research Director",
          "cat__JobRole_Manager",
          "cat__EducationField_Human Resources",
          "cat__JobLevel_5",
          "cat__JobLevel_4",
          "cat__EducationField_Other",
          "cat__Education_Doctor",
          "cat__BusinessTravel_Travel_Frequently",
          "cat__BusinessTravel_Non-Travel",
          "cat__StockOptionLevel_3",
          "cat__StockOptionLevel_2",
          "cat__Education_College"
         ],
         "xaxis": "x",
         "y": [
          0.21,
          0.15,
          0.09,
          0.09,
          0.08,
          0.07,
          0.06,
          0.05,
          0.04,
          0.04,
          0.03,
          0.02,
          0.02,
          0.02,
          0.01,
          0.01,
          0,
          0,
          0,
          0,
          0,
          0,
          0,
          0,
          0,
          0,
          0,
          0,
          0,
          0
         ],
         "yaxis": "y"
        }
       ],
       "layout": {
        "barmode": "relative",
        "legend": {
         "tracegroupgap": 0
        },
        "margin": {
         "t": 60
        },
        "template": {
         "data": {
          "bar": [
           {
            "error_x": {
             "color": "#2a3f5f"
            },
            "error_y": {
             "color": "#2a3f5f"
            },
            "marker": {
             "line": {
              "color": "#E5ECF6",
              "width": 0.5
             },
             "pattern": {
              "fillmode": "overlay",
              "size": 10,
              "solidity": 0.2
             }
            },
            "type": "bar"
           }
          ],
          "barpolar": [
           {
            "marker": {
             "line": {
              "color": "#E5ECF6",
              "width": 0.5
             },
             "pattern": {
              "fillmode": "overlay",
              "size": 10,
              "solidity": 0.2
             }
            },
            "type": "barpolar"
           }
          ],
          "carpet": [
           {
            "aaxis": {
             "endlinecolor": "#2a3f5f",
             "gridcolor": "white",
             "linecolor": "white",
             "minorgridcolor": "white",
             "startlinecolor": "#2a3f5f"
            },
            "baxis": {
             "endlinecolor": "#2a3f5f",
             "gridcolor": "white",
             "linecolor": "white",
             "minorgridcolor": "white",
             "startlinecolor": "#2a3f5f"
            },
            "type": "carpet"
           }
          ],
          "choropleth": [
           {
            "colorbar": {
             "outlinewidth": 0,
             "ticks": ""
            },
            "type": "choropleth"
           }
          ],
          "contour": [
           {
            "colorbar": {
             "outlinewidth": 0,
             "ticks": ""
            },
            "colorscale": [
             [
              0,
              "#0d0887"
             ],
             [
              0.1111111111111111,
              "#46039f"
             ],
             [
              0.2222222222222222,
              "#7201a8"
             ],
             [
              0.3333333333333333,
              "#9c179e"
             ],
             [
              0.4444444444444444,
              "#bd3786"
             ],
             [
              0.5555555555555556,
              "#d8576b"
             ],
             [
              0.6666666666666666,
              "#ed7953"
             ],
             [
              0.7777777777777778,
              "#fb9f3a"
             ],
             [
              0.8888888888888888,
              "#fdca26"
             ],
             [
              1,
              "#f0f921"
             ]
            ],
            "type": "contour"
           }
          ],
          "contourcarpet": [
           {
            "colorbar": {
             "outlinewidth": 0,
             "ticks": ""
            },
            "type": "contourcarpet"
           }
          ],
          "heatmap": [
           {
            "colorbar": {
             "outlinewidth": 0,
             "ticks": ""
            },
            "colorscale": [
             [
              0,
              "#0d0887"
             ],
             [
              0.1111111111111111,
              "#46039f"
             ],
             [
              0.2222222222222222,
              "#7201a8"
             ],
             [
              0.3333333333333333,
              "#9c179e"
             ],
             [
              0.4444444444444444,
              "#bd3786"
             ],
             [
              0.5555555555555556,
              "#d8576b"
             ],
             [
              0.6666666666666666,
              "#ed7953"
             ],
             [
              0.7777777777777778,
              "#fb9f3a"
             ],
             [
              0.8888888888888888,
              "#fdca26"
             ],
             [
              1,
              "#f0f921"
             ]
            ],
            "type": "heatmap"
           }
          ],
          "heatmapgl": [
           {
            "colorbar": {
             "outlinewidth": 0,
             "ticks": ""
            },
            "colorscale": [
             [
              0,
              "#0d0887"
             ],
             [
              0.1111111111111111,
              "#46039f"
             ],
             [
              0.2222222222222222,
              "#7201a8"
             ],
             [
              0.3333333333333333,
              "#9c179e"
             ],
             [
              0.4444444444444444,
              "#bd3786"
             ],
             [
              0.5555555555555556,
              "#d8576b"
             ],
             [
              0.6666666666666666,
              "#ed7953"
             ],
             [
              0.7777777777777778,
              "#fb9f3a"
             ],
             [
              0.8888888888888888,
              "#fdca26"
             ],
             [
              1,
              "#f0f921"
             ]
            ],
            "type": "heatmapgl"
           }
          ],
          "histogram": [
           {
            "marker": {
             "pattern": {
              "fillmode": "overlay",
              "size": 10,
              "solidity": 0.2
             }
            },
            "type": "histogram"
           }
          ],
          "histogram2d": [
           {
            "colorbar": {
             "outlinewidth": 0,
             "ticks": ""
            },
            "colorscale": [
             [
              0,
              "#0d0887"
             ],
             [
              0.1111111111111111,
              "#46039f"
             ],
             [
              0.2222222222222222,
              "#7201a8"
             ],
             [
              0.3333333333333333,
              "#9c179e"
             ],
             [
              0.4444444444444444,
              "#bd3786"
             ],
             [
              0.5555555555555556,
              "#d8576b"
             ],
             [
              0.6666666666666666,
              "#ed7953"
             ],
             [
              0.7777777777777778,
              "#fb9f3a"
             ],
             [
              0.8888888888888888,
              "#fdca26"
             ],
             [
              1,
              "#f0f921"
             ]
            ],
            "type": "histogram2d"
           }
          ],
          "histogram2dcontour": [
           {
            "colorbar": {
             "outlinewidth": 0,
             "ticks": ""
            },
            "colorscale": [
             [
              0,
              "#0d0887"
             ],
             [
              0.1111111111111111,
              "#46039f"
             ],
             [
              0.2222222222222222,
              "#7201a8"
             ],
             [
              0.3333333333333333,
              "#9c179e"
             ],
             [
              0.4444444444444444,
              "#bd3786"
             ],
             [
              0.5555555555555556,
              "#d8576b"
             ],
             [
              0.6666666666666666,
              "#ed7953"
             ],
             [
              0.7777777777777778,
              "#fb9f3a"
             ],
             [
              0.8888888888888888,
              "#fdca26"
             ],
             [
              1,
              "#f0f921"
             ]
            ],
            "type": "histogram2dcontour"
           }
          ],
          "mesh3d": [
           {
            "colorbar": {
             "outlinewidth": 0,
             "ticks": ""
            },
            "type": "mesh3d"
           }
          ],
          "parcoords": [
           {
            "line": {
             "colorbar": {
              "outlinewidth": 0,
              "ticks": ""
             }
            },
            "type": "parcoords"
           }
          ],
          "pie": [
           {
            "automargin": true,
            "type": "pie"
           }
          ],
          "scatter": [
           {
            "fillpattern": {
             "fillmode": "overlay",
             "size": 10,
             "solidity": 0.2
            },
            "type": "scatter"
           }
          ],
          "scatter3d": [
           {
            "line": {
             "colorbar": {
              "outlinewidth": 0,
              "ticks": ""
             }
            },
            "marker": {
             "colorbar": {
              "outlinewidth": 0,
              "ticks": ""
             }
            },
            "type": "scatter3d"
           }
          ],
          "scattercarpet": [
           {
            "marker": {
             "colorbar": {
              "outlinewidth": 0,
              "ticks": ""
             }
            },
            "type": "scattercarpet"
           }
          ],
          "scattergeo": [
           {
            "marker": {
             "colorbar": {
              "outlinewidth": 0,
              "ticks": ""
             }
            },
            "type": "scattergeo"
           }
          ],
          "scattergl": [
           {
            "marker": {
             "colorbar": {
              "outlinewidth": 0,
              "ticks": ""
             }
            },
            "type": "scattergl"
           }
          ],
          "scattermapbox": [
           {
            "marker": {
             "colorbar": {
              "outlinewidth": 0,
              "ticks": ""
             }
            },
            "type": "scattermapbox"
           }
          ],
          "scatterpolar": [
           {
            "marker": {
             "colorbar": {
              "outlinewidth": 0,
              "ticks": ""
             }
            },
            "type": "scatterpolar"
           }
          ],
          "scatterpolargl": [
           {
            "marker": {
             "colorbar": {
              "outlinewidth": 0,
              "ticks": ""
             }
            },
            "type": "scatterpolargl"
           }
          ],
          "scatterternary": [
           {
            "marker": {
             "colorbar": {
              "outlinewidth": 0,
              "ticks": ""
             }
            },
            "type": "scatterternary"
           }
          ],
          "surface": [
           {
            "colorbar": {
             "outlinewidth": 0,
             "ticks": ""
            },
            "colorscale": [
             [
              0,
              "#0d0887"
             ],
             [
              0.1111111111111111,
              "#46039f"
             ],
             [
              0.2222222222222222,
              "#7201a8"
             ],
             [
              0.3333333333333333,
              "#9c179e"
             ],
             [
              0.4444444444444444,
              "#bd3786"
             ],
             [
              0.5555555555555556,
              "#d8576b"
             ],
             [
              0.6666666666666666,
              "#ed7953"
             ],
             [
              0.7777777777777778,
              "#fb9f3a"
             ],
             [
              0.8888888888888888,
              "#fdca26"
             ],
             [
              1,
              "#f0f921"
             ]
            ],
            "type": "surface"
           }
          ],
          "table": [
           {
            "cells": {
             "fill": {
              "color": "#EBF0F8"
             },
             "line": {
              "color": "white"
             }
            },
            "header": {
             "fill": {
              "color": "#C8D4E3"
             },
             "line": {
              "color": "white"
             }
            },
            "type": "table"
           }
          ]
         },
         "layout": {
          "annotationdefaults": {
           "arrowcolor": "#2a3f5f",
           "arrowhead": 0,
           "arrowwidth": 1
          },
          "autotypenumbers": "strict",
          "coloraxis": {
           "colorbar": {
            "outlinewidth": 0,
            "ticks": ""
           }
          },
          "colorscale": {
           "diverging": [
            [
             0,
             "#8e0152"
            ],
            [
             0.1,
             "#c51b7d"
            ],
            [
             0.2,
             "#de77ae"
            ],
            [
             0.3,
             "#f1b6da"
            ],
            [
             0.4,
             "#fde0ef"
            ],
            [
             0.5,
             "#f7f7f7"
            ],
            [
             0.6,
             "#e6f5d0"
            ],
            [
             0.7,
             "#b8e186"
            ],
            [
             0.8,
             "#7fbc41"
            ],
            [
             0.9,
             "#4d9221"
            ],
            [
             1,
             "#276419"
            ]
           ],
           "sequential": [
            [
             0,
             "#0d0887"
            ],
            [
             0.1111111111111111,
             "#46039f"
            ],
            [
             0.2222222222222222,
             "#7201a8"
            ],
            [
             0.3333333333333333,
             "#9c179e"
            ],
            [
             0.4444444444444444,
             "#bd3786"
            ],
            [
             0.5555555555555556,
             "#d8576b"
            ],
            [
             0.6666666666666666,
             "#ed7953"
            ],
            [
             0.7777777777777778,
             "#fb9f3a"
            ],
            [
             0.8888888888888888,
             "#fdca26"
            ],
            [
             1,
             "#f0f921"
            ]
           ],
           "sequentialminus": [
            [
             0,
             "#0d0887"
            ],
            [
             0.1111111111111111,
             "#46039f"
            ],
            [
             0.2222222222222222,
             "#7201a8"
            ],
            [
             0.3333333333333333,
             "#9c179e"
            ],
            [
             0.4444444444444444,
             "#bd3786"
            ],
            [
             0.5555555555555556,
             "#d8576b"
            ],
            [
             0.6666666666666666,
             "#ed7953"
            ],
            [
             0.7777777777777778,
             "#fb9f3a"
            ],
            [
             0.8888888888888888,
             "#fdca26"
            ],
            [
             1,
             "#f0f921"
            ]
           ]
          },
          "colorway": [
           "#636efa",
           "#EF553B",
           "#00cc96",
           "#ab63fa",
           "#FFA15A",
           "#19d3f3",
           "#FF6692",
           "#B6E880",
           "#FF97FF",
           "#FECB52"
          ],
          "font": {
           "color": "#2a3f5f"
          },
          "geo": {
           "bgcolor": "white",
           "lakecolor": "white",
           "landcolor": "#E5ECF6",
           "showlakes": true,
           "showland": true,
           "subunitcolor": "white"
          },
          "hoverlabel": {
           "align": "left"
          },
          "hovermode": "closest",
          "mapbox": {
           "style": "light"
          },
          "paper_bgcolor": "white",
          "plot_bgcolor": "#E5ECF6",
          "polar": {
           "angularaxis": {
            "gridcolor": "white",
            "linecolor": "white",
            "ticks": ""
           },
           "bgcolor": "#E5ECF6",
           "radialaxis": {
            "gridcolor": "white",
            "linecolor": "white",
            "ticks": ""
           }
          },
          "scene": {
           "xaxis": {
            "backgroundcolor": "#E5ECF6",
            "gridcolor": "white",
            "gridwidth": 2,
            "linecolor": "white",
            "showbackground": true,
            "ticks": "",
            "zerolinecolor": "white"
           },
           "yaxis": {
            "backgroundcolor": "#E5ECF6",
            "gridcolor": "white",
            "gridwidth": 2,
            "linecolor": "white",
            "showbackground": true,
            "ticks": "",
            "zerolinecolor": "white"
           },
           "zaxis": {
            "backgroundcolor": "#E5ECF6",
            "gridcolor": "white",
            "gridwidth": 2,
            "linecolor": "white",
            "showbackground": true,
            "ticks": "",
            "zerolinecolor": "white"
           }
          },
          "shapedefaults": {
           "line": {
            "color": "#2a3f5f"
           }
          },
          "ternary": {
           "aaxis": {
            "gridcolor": "white",
            "linecolor": "white",
            "ticks": ""
           },
           "baxis": {
            "gridcolor": "white",
            "linecolor": "white",
            "ticks": ""
           },
           "bgcolor": "#E5ECF6",
           "caxis": {
            "gridcolor": "white",
            "linecolor": "white",
            "ticks": ""
           }
          },
          "title": {
           "x": 0.05
          },
          "xaxis": {
           "automargin": true,
           "gridcolor": "white",
           "linecolor": "white",
           "ticks": "",
           "title": {
            "standoff": 15
           },
           "zerolinecolor": "white",
           "zerolinewidth": 2
          },
          "yaxis": {
           "automargin": true,
           "gridcolor": "white",
           "linecolor": "white",
           "ticks": "",
           "title": {
            "standoff": 15
           },
           "zerolinecolor": "white",
           "zerolinewidth": 2
          }
         }
        },
        "xaxis": {
         "anchor": "y",
         "domain": [
          0,
          1
         ],
         "title": {
          "text": "feature"
         }
        },
        "yaxis": {
         "anchor": "x",
         "domain": [
          0,
          1
         ],
         "title": {
          "text": "importance"
         }
        }
       }
      }
     },
     "metadata": {},
     "output_type": "display_data"
    }
   ],
   "source": [
    "px.bar(df_impo.sort_values(by = 'importance', ascending=False), x = 'feature', y='importance', text='importance')"
   ]
  },
  {
   "cell_type": "code",
   "execution_count": 138,
   "metadata": {},
   "outputs": [
    {
     "data": {
      "image/png": "[encoded data removed]",
      "text/plain": [
       "<Figure size 640x480 with 2 Axes>"
      ]
     },
     "metadata": {},
     "output_type": "display_data"
    }
   ],
   "source": [
    "lg = LogisticRegression(class_weight='balanced', random_state=42)\n",
    "lg.fit(df_log, y)\n",
    "pred = lg.predict(df_log)\n",
    "accuracy_score(pred, y)\n",
    "mc = confusion_matrix(y, pred)\n",
    "\n",
    "cm1_display = ConfusionMatrixDisplay(confusion_matrix = mc)\n",
    "cm1_display.plot()\n",
    "plt.show()"
   ]
  },
  {
   "cell_type": "code",
   "execution_count": 139,
   "metadata": {},
   "outputs": [
    {
     "data": {
      "text/plain": [
       "array(['num__Age', 'num__NumCompaniesWorked',\n",
       "       'num__TrainingTimesLastYear', 'num__YearsAtCompany',\n",
       "       'num__EnvironmentSatisfaction', 'num__JobSatisfaction',\n",
       "       'num__WorkLifeBalance', 'cat__StockOptionLevel_1',\n",
       "       'cat__StockOptionLevel_2', 'cat__StockOptionLevel_3',\n",
       "       'cat__BusinessTravel_Non-Travel',\n",
       "       'cat__BusinessTravel_Travel_Frequently',\n",
       "       'cat__Department_Human Resources',\n",
       "       'cat__Department_Research & Development', 'cat__Department_Sales',\n",
       "       'cat__Education_College', 'cat__Education_Doctor',\n",
       "       'cat__EducationField_Human Resources', 'cat__EducationField_Other',\n",
       "       'cat__JobLevel_4', 'cat__JobLevel_5',\n",
       "       'cat__JobRole_Human Resources', 'cat__JobRole_Manager',\n",
       "       'cat__JobRole_Manufacturing Director',\n",
       "       'cat__JobRole_Research Director', 'cat__JobRole_Sales Executive',\n",
       "       'cat__JobRole_Sales Representative', 'cat__MaritalStatus_Divorced',\n",
       "       'cat__MaritalStatus_Married', 'cat__MaritalStatus_Single'],\n",
       "      dtype=object)"
      ]
     },
     "execution_count": 139,
     "metadata": {},
     "output_type": "execute_result"
    }
   ],
   "source": [
    "lg.feature_names_in_"
   ]
  },
  {
   "cell_type": "code",
   "execution_count": 140,
   "metadata": {},
   "outputs": [
    {
     "data": {
      "text/plain": [
       "array([[-0.44,  0.3 , -0.22, -0.34, -0.27, -0.35, -0.23, -0.14,  0.18,\n",
       "        -0.03, -0.66,  0.88,  0.57, -0.24, -0.33,  0.22, -0.75,  0.85,\n",
       "        -0.4 ,  0.01, -0.67, -0.22, -0.51, -0.57,  0.38,  0.23,  0.03,\n",
       "        -0.41, -0.17,  0.58]])"
      ]
     },
     "execution_count": 140,
     "metadata": {},
     "output_type": "execute_result"
    }
   ],
   "source": [
    "lg.coef_.round(2)"
   ]
  },
  {
   "cell_type": "code",
   "execution_count": 141,
   "metadata": {},
   "outputs": [],
   "source": [
    "df_impo = pd.DataFrame()\n",
    "df_impo['feature'] = lg.feature_names_in_\n",
    "df_impo['importance'] = lg.coef_.round(2)[0]"
   ]
  },
  {
   "cell_type": "code",
   "execution_count": 142,
   "metadata": {},
   "outputs": [
    {
     "data": {
      "application/vnd.plotly.v1+json": {
       "config": {
        "plotlyServerURL": "https://plot.ly"
       },
       "data": [
        {
         "alignmentgroup": "True",
         "hovertemplate": "feature=%{x}<br>importance=%{text}<extra></extra>",
         "legendgroup": "",
         "marker": {
          "color": "#636efa",
          "pattern": {
           "shape": ""
          }
         },
         "name": "",
         "offsetgroup": "",
         "orientation": "v",
         "showlegend": false,
         "text": [
          0.88,
          0.85,
          0.58,
          0.57,
          0.38,
          0.3,
          0.23,
          0.22,
          0.18,
          0.03,
          0.01,
          -0.03,
          -0.14,
          -0.17,
          -0.22,
          -0.22,
          -0.23,
          -0.24,
          -0.27,
          -0.33,
          -0.34,
          -0.35,
          -0.4,
          -0.41,
          -0.44,
          -0.51,
          -0.57,
          -0.66,
          -0.67,
          -0.75
         ],
         "textposition": "auto",
         "type": "bar",
         "x": [
          "cat__BusinessTravel_Travel_Frequently",
          "cat__EducationField_Human Resources",
          "cat__MaritalStatus_Single",
          "cat__Department_Human Resources",
          "cat__JobRole_Research Director",
          "num__NumCompaniesWorked",
          "cat__JobRole_Sales Executive",
          "cat__Education_College",
          "cat__StockOptionLevel_2",
          "cat__JobRole_Sales Representative",
          "cat__JobLevel_4",
          "cat__StockOptionLevel_3",
          "cat__StockOptionLevel_1",
          "cat__MaritalStatus_Married",
          "cat__JobRole_Human Resources",
          "num__TrainingTimesLastYear",
          "num__WorkLifeBalance",
          "cat__Department_Research & Development",
          "num__EnvironmentSatisfaction",
          "cat__Department_Sales",
          "num__YearsAtCompany",
          "num__JobSatisfaction",
          "cat__EducationField_Other",
          "cat__MaritalStatus_Divorced",
          "num__Age",
          "cat__JobRole_Manager",
          "cat__JobRole_Manufacturing Director",
          "cat__BusinessTravel_Non-Travel",
          "cat__JobLevel_5",
          "cat__Education_Doctor"
         ],
         "xaxis": "x",
         "y": [
          0.88,
          0.85,
          0.58,
          0.57,
          0.38,
          0.3,
          0.23,
          0.22,
          0.18,
          0.03,
          0.01,
          -0.03,
          -0.14,
          -0.17,
          -0.22,
          -0.22,
          -0.23,
          -0.24,
          -0.27,
          -0.33,
          -0.34,
          -0.35,
          -0.4,
          -0.41,
          -0.44,
          -0.51,
          -0.57,
          -0.66,
          -0.67,
          -0.75
         ],
         "yaxis": "y"
        }
       ],
       "layout": {
        "barmode": "relative",
        "legend": {
         "tracegroupgap": 0
        },
        "margin": {
         "t": 60
        },
        "template": {
         "data": {
          "bar": [
           {
            "error_x": {
             "color": "#2a3f5f"
            },
            "error_y": {
             "color": "#2a3f5f"
            },
            "marker": {
             "line": {
              "color": "#E5ECF6",
              "width": 0.5
             },
             "pattern": {
              "fillmode": "overlay",
              "size": 10,
              "solidity": 0.2
             }
            },
            "type": "bar"
           }
          ],
          "barpolar": [
           {
            "marker": {
             "line": {
              "color": "#E5ECF6",
              "width": 0.5
             },
             "pattern": {
              "fillmode": "overlay",
              "size": 10,
              "solidity": 0.2
             }
            },
            "type": "barpolar"
           }
          ],
          "carpet": [
           {
            "aaxis": {
             "endlinecolor": "#2a3f5f",
             "gridcolor": "white",
             "linecolor": "white",
             "minorgridcolor": "white",
             "startlinecolor": "#2a3f5f"
            },
            "baxis": {
             "endlinecolor": "#2a3f5f",
             "gridcolor": "white",
             "linecolor": "white",
             "minorgridcolor": "white",
             "startlinecolor": "#2a3f5f"
            },
            "type": "carpet"
           }
          ],
          "choropleth": [
           {
            "colorbar": {
             "outlinewidth": 0,
             "ticks": ""
            },
            "type": "choropleth"
           }
          ],
          "contour": [
           {
            "colorbar": {
             "outlinewidth": 0,
             "ticks": ""
            },
            "colorscale": [
             [
              0,
              "#0d0887"
             ],
             [
              0.1111111111111111,
              "#46039f"
             ],
             [
              0.2222222222222222,
              "#7201a8"
             ],
             [
              0.3333333333333333,
              "#9c179e"
             ],
             [
              0.4444444444444444,
              "#bd3786"
             ],
             [
              0.5555555555555556,
              "#d8576b"
             ],
             [
              0.6666666666666666,
              "#ed7953"
             ],
             [
              0.7777777777777778,
              "#fb9f3a"
             ],
             [
              0.8888888888888888,
              "#fdca26"
             ],
             [
              1,
              "#f0f921"
             ]
            ],
            "type": "contour"
           }
          ],
          "contourcarpet": [
           {
            "colorbar": {
             "outlinewidth": 0,
             "ticks": ""
            },
            "type": "contourcarpet"
           }
          ],
          "heatmap": [
           {
            "colorbar": {
             "outlinewidth": 0,
             "ticks": ""
            },
            "colorscale": [
             [
              0,
              "#0d0887"
             ],
             [
              0.1111111111111111,
              "#46039f"
             ],
             [
              0.2222222222222222,
              "#7201a8"
             ],
             [
              0.3333333333333333,
              "#9c179e"
             ],
             [
              0.4444444444444444,
              "#bd3786"
             ],
             [
              0.5555555555555556,
              "#d8576b"
             ],
             [
              0.6666666666666666,
              "#ed7953"
             ],
             [
              0.7777777777777778,
              "#fb9f3a"
             ],
             [
              0.8888888888888888,
              "#fdca26"
             ],
             [
              1,
              "#f0f921"
             ]
            ],
            "type": "heatmap"
           }
          ],
          "heatmapgl": [
           {
            "colorbar": {
             "outlinewidth": 0,
             "ticks": ""
            },
            "colorscale": [
             [
              0,
              "#0d0887"
             ],
             [
              0.1111111111111111,
              "#46039f"
             ],
             [
              0.2222222222222222,
              "#7201a8"
             ],
             [
              0.3333333333333333,
              "#9c179e"
             ],
             [
              0.4444444444444444,
              "#bd3786"
             ],
             [
              0.5555555555555556,
              "#d8576b"
             ],
             [
              0.6666666666666666,
              "#ed7953"
             ],
             [
              0.7777777777777778,
              "#fb9f3a"
             ],
             [
              0.8888888888888888,
              "#fdca26"
             ],
             [
              1,
              "#f0f921"
             ]
            ],
            "type": "heatmapgl"
           }
          ],
          "histogram": [
           {
            "marker": {
             "pattern": {
              "fillmode": "overlay",
              "size": 10,
              "solidity": 0.2
             }
            },
            "type": "histogram"
           }
          ],
          "histogram2d": [
           {
            "colorbar": {
             "outlinewidth": 0,
             "ticks": ""
            },
            "colorscale": [
             [
              0,
              "#0d0887"
             ],
             [
              0.1111111111111111,
              "#46039f"
             ],
             [
              0.2222222222222222,
              "#7201a8"
             ],
             [
              0.3333333333333333,
              "#9c179e"
             ],
             [
              0.4444444444444444,
              "#bd3786"
             ],
             [
              0.5555555555555556,
              "#d8576b"
             ],
             [
              0.6666666666666666,
              "#ed7953"
             ],
             [
              0.7777777777777778,
              "#fb9f3a"
             ],
             [
              0.8888888888888888,
              "#fdca26"
             ],
             [
              1,
              "#f0f921"
             ]
            ],
            "type": "histogram2d"
           }
          ],
          "histogram2dcontour": [
           {
            "colorbar": {
             "outlinewidth": 0,
             "ticks": ""
            },
            "colorscale": [
             [
              0,
              "#0d0887"
             ],
             [
              0.1111111111111111,
              "#46039f"
             ],
             [
              0.2222222222222222,
              "#7201a8"
             ],
             [
              0.3333333333333333,
              "#9c179e"
             ],
             [
              0.4444444444444444,
              "#bd3786"
             ],
             [
              0.5555555555555556,
              "#d8576b"
             ],
             [
              0.6666666666666666,
              "#ed7953"
             ],
             [
              0.7777777777777778,
              "#fb9f3a"
             ],
             [
              0.8888888888888888,
              "#fdca26"
             ],
             [
              1,
              "#f0f921"
             ]
            ],
            "type": "histogram2dcontour"
           }
          ],
          "mesh3d": [
           {
            "colorbar": {
             "outlinewidth": 0,
             "ticks": ""
            },
            "type": "mesh3d"
           }
          ],
          "parcoords": [
           {
            "line": {
             "colorbar": {
              "outlinewidth": 0,
              "ticks": ""
             }
            },
            "type": "parcoords"
           }
          ],
          "pie": [
           {
            "automargin": true,
            "type": "pie"
           }
          ],
          "scatter": [
           {
            "fillpattern": {
             "fillmode": "overlay",
             "size": 10,
             "solidity": 0.2
            },
            "type": "scatter"
           }
          ],
          "scatter3d": [
           {
            "line": {
             "colorbar": {
              "outlinewidth": 0,
              "ticks": ""
             }
            },
            "marker": {
             "colorbar": {
              "outlinewidth": 0,
              "ticks": ""
             }
            },
            "type": "scatter3d"
           }
          ],
          "scattercarpet": [
           {
            "marker": {
             "colorbar": {
              "outlinewidth": 0,
              "ticks": ""
             }
            },
            "type": "scattercarpet"
           }
          ],
          "scattergeo": [
           {
            "marker": {
             "colorbar": {
              "outlinewidth": 0,
              "ticks": ""
             }
            },
            "type": "scattergeo"
           }
          ],
          "scattergl": [
           {
            "marker": {
             "colorbar": {
              "outlinewidth": 0,
              "ticks": ""
             }
            },
            "type": "scattergl"
           }
          ],
          "scattermapbox": [
           {
            "marker": {
             "colorbar": {
              "outlinewidth": 0,
              "ticks": ""
             }
            },
            "type": "scattermapbox"
           }
          ],
          "scatterpolar": [
           {
            "marker": {
             "colorbar": {
              "outlinewidth": 0,
              "ticks": ""
             }
            },
            "type": "scatterpolar"
           }
          ],
          "scatterpolargl": [
           {
            "marker": {
             "colorbar": {
              "outlinewidth": 0,
              "ticks": ""
             }
            },
            "type": "scatterpolargl"
           }
          ],
          "scatterternary": [
           {
            "marker": {
             "colorbar": {
              "outlinewidth": 0,
              "ticks": ""
             }
            },
            "type": "scatterternary"
           }
          ],
          "surface": [
           {
            "colorbar": {
             "outlinewidth": 0,
             "ticks": ""
            },
            "colorscale": [
             [
              0,
              "#0d0887"
             ],
             [
              0.1111111111111111,
              "#46039f"
             ],
             [
              0.2222222222222222,
              "#7201a8"
             ],
             [
              0.3333333333333333,
              "#9c179e"
             ],
             [
              0.4444444444444444,
              "#bd3786"
             ],
             [
              0.5555555555555556,
              "#d8576b"
             ],
             [
              0.6666666666666666,
              "#ed7953"
             ],
             [
              0.7777777777777778,
              "#fb9f3a"
             ],
             [
              0.8888888888888888,
              "#fdca26"
             ],
             [
              1,
              "#f0f921"
             ]
            ],
            "type": "surface"
           }
          ],
          "table": [
           {
            "cells": {
             "fill": {
              "color": "#EBF0F8"
             },
             "line": {
              "color": "white"
             }
            },
            "header": {
             "fill": {
              "color": "#C8D4E3"
             },
             "line": {
              "color": "white"
             }
            },
            "type": "table"
           }
          ]
         },
         "layout": {
          "annotationdefaults": {
           "arrowcolor": "#2a3f5f",
           "arrowhead": 0,
           "arrowwidth": 1
          },
          "autotypenumbers": "strict",
          "coloraxis": {
           "colorbar": {
            "outlinewidth": 0,
            "ticks": ""
           }
          },
          "colorscale": {
           "diverging": [
            [
             0,
             "#8e0152"
            ],
            [
             0.1,
             "#c51b7d"
            ],
            [
             0.2,
             "#de77ae"
            ],
            [
             0.3,
             "#f1b6da"
            ],
            [
             0.4,
             "#fde0ef"
            ],
            [
             0.5,
             "#f7f7f7"
            ],
            [
             0.6,
             "#e6f5d0"
            ],
            [
             0.7,
             "#b8e186"
            ],
            [
             0.8,
             "#7fbc41"
            ],
            [
             0.9,
             "#4d9221"
            ],
            [
             1,
             "#276419"
            ]
           ],
           "sequential": [
            [
             0,
             "#0d0887"
            ],
            [
             0.1111111111111111,
             "#46039f"
            ],
            [
             0.2222222222222222,
             "#7201a8"
            ],
            [
             0.3333333333333333,
             "#9c179e"
            ],
            [
             0.4444444444444444,
             "#bd3786"
            ],
            [
             0.5555555555555556,
             "#d8576b"
            ],
            [
             0.6666666666666666,
             "#ed7953"
            ],
            [
             0.7777777777777778,
             "#fb9f3a"
            ],
            [
             0.8888888888888888,
             "#fdca26"
            ],
            [
             1,
             "#f0f921"
            ]
           ],
           "sequentialminus": [
            [
             0,
             "#0d0887"
            ],
            [
             0.1111111111111111,
             "#46039f"
            ],
            [
             0.2222222222222222,
             "#7201a8"
            ],
            [
             0.3333333333333333,
             "#9c179e"
            ],
            [
             0.4444444444444444,
             "#bd3786"
            ],
            [
             0.5555555555555556,
             "#d8576b"
            ],
            [
             0.6666666666666666,
             "#ed7953"
            ],
            [
             0.7777777777777778,
             "#fb9f3a"
            ],
            [
             0.8888888888888888,
             "#fdca26"
            ],
            [
             1,
             "#f0f921"
            ]
           ]
          },
          "colorway": [
           "#636efa",
           "#EF553B",
           "#00cc96",
           "#ab63fa",
           "#FFA15A",
           "#19d3f3",
           "#FF6692",
           "#B6E880",
           "#FF97FF",
           "#FECB52"
          ],
          "font": {
           "color": "#2a3f5f"
          },
          "geo": {
           "bgcolor": "white",
           "lakecolor": "white",
           "landcolor": "#E5ECF6",
           "showlakes": true,
           "showland": true,
           "subunitcolor": "white"
          },
          "hoverlabel": {
           "align": "left"
          },
          "hovermode": "closest",
          "mapbox": {
           "style": "light"
          },
          "paper_bgcolor": "white",
          "plot_bgcolor": "#E5ECF6",
          "polar": {
           "angularaxis": {
            "gridcolor": "white",
            "linecolor": "white",
            "ticks": ""
           },
           "bgcolor": "#E5ECF6",
           "radialaxis": {
            "gridcolor": "white",
            "linecolor": "white",
            "ticks": ""
           }
          },
          "scene": {
           "xaxis": {
            "backgroundcolor": "#E5ECF6",
            "gridcolor": "white",
            "gridwidth": 2,
            "linecolor": "white",
            "showbackground": true,
            "ticks": "",
            "zerolinecolor": "white"
           },
           "yaxis": {
            "backgroundcolor": "#E5ECF6",
            "gridcolor": "white",
            "gridwidth": 2,
            "linecolor": "white",
            "showbackground": true,
            "ticks": "",
            "zerolinecolor": "white"
           },
           "zaxis": {
            "backgroundcolor": "#E5ECF6",
            "gridcolor": "white",
            "gridwidth": 2,
            "linecolor": "white",
            "showbackground": true,
            "ticks": "",
            "zerolinecolor": "white"
           }
          },
          "shapedefaults": {
           "line": {
            "color": "#2a3f5f"
           }
          },
          "ternary": {
           "aaxis": {
            "gridcolor": "white",
            "linecolor": "white",
            "ticks": ""
           },
           "baxis": {
            "gridcolor": "white",
            "linecolor": "white",
            "ticks": ""
           },
           "bgcolor": "#E5ECF6",
           "caxis": {
            "gridcolor": "white",
            "linecolor": "white",
            "ticks": ""
           }
          },
          "title": {
           "x": 0.05
          },
          "xaxis": {
           "automargin": true,
           "gridcolor": "white",
           "linecolor": "white",
           "ticks": "",
           "title": {
            "standoff": 15
           },
           "zerolinecolor": "white",
           "zerolinewidth": 2
          },
          "yaxis": {
           "automargin": true,
           "gridcolor": "white",
           "linecolor": "white",
           "ticks": "",
           "title": {
            "standoff": 15
           },
           "zerolinecolor": "white",
           "zerolinewidth": 2
          }
         }
        },
        "xaxis": {
         "anchor": "y",
         "domain": [
          0,
          1
         ],
         "title": {
          "text": "feature"
         }
        },
        "yaxis": {
         "anchor": "x",
         "domain": [
          0,
          1
         ],
         "title": {
          "text": "importance"
         }
        }
       }
      }
     },
     "metadata": {},
     "output_type": "display_data"
    }
   ],
   "source": [
    "px.bar(df_impo.sort_values(by = 'importance', ascending=False), x = 'feature', y='importance', text='importance')"
   ]
  },
  {
   "cell_type": "code",
   "execution_count": 143,
   "metadata": {},
   "outputs": [
    {
     "data": {
      "text/plain": [
       "array([1.46288999e-01, 7.31062490e-02, 4.25883207e-02, 2.11692901e-01,\n",
       "       9.19305885e-02, 9.06130797e-02, 5.18256046e-02, 3.33538333e-02,\n",
       "       0.00000000e+00, 0.00000000e+00, 0.00000000e+00, 0.00000000e+00,\n",
       "       5.72367815e-02, 1.60183773e-02, 2.34640539e-02, 0.00000000e+00,\n",
       "       0.00000000e+00, 0.00000000e+00, 0.00000000e+00, 0.00000000e+00,\n",
       "       4.31276856e-17, 1.15432211e-02, 0.00000000e+00, 7.23701280e-03,\n",
       "       0.00000000e+00, 0.00000000e+00, 2.31716616e-02, 3.89062425e-02,\n",
       "       0.00000000e+00, 8.10230728e-02])"
      ]
     },
     "execution_count": 143,
     "metadata": {},
     "output_type": "execute_result"
    }
   ],
   "source": [
    "dt.feature_importances_"
   ]
  },
  {
   "cell_type": "code",
   "execution_count": 144,
   "metadata": {},
   "outputs": [
    {
     "name": "stdout",
     "output_type": "stream",
     "text": [
      "------------------------------ TRAIN ------------------------------\n",
      "Precision: 0.25461847389558234\n",
      "Recall: 0.6861471861471862\n",
      "Especificidad: 0.6927152317880795\n",
      "F1 score: 0.3714118336262449\n",
      "Train score:  0.6918437679494543\n",
      "------------------------------ TEST ------------------------------\n",
      "Precision : 0.24702380952380953\n",
      "Recall : 0.7217391304347827\n",
      "Especificidad : 0.6653439153439153\n",
      "F1 score : 0.36807095343680707\n",
      "Test score:  0.6727898966704937\n"
     ]
    }
   ],
   "source": [
    "res_chi2= funciones.regresionLogistica(df_anova,y)"
   ]
  },
  {
   "cell_type": "code",
   "execution_count": 145,
   "metadata": {},
   "outputs": [
    {
     "name": "stdout",
     "output_type": "stream",
     "text": [
      "------------------------------ TRAIN ------------------------------\n",
      "Precision: 0.2619426751592357\n",
      "Recall: 0.7121212121212122\n",
      "Especificidad: 0.6930463576158941\n",
      "F1 score: 0.3830034924330617\n",
      "Train score:  0.6955772544514647\n",
      "------------------------------ TEST ------------------------------\n",
      "Precision : 0.25663716814159293\n",
      "Recall : 0.7565217391304347\n",
      "Especificidad : 0.6666666666666666\n",
      "F1 score : 0.3832599118942731\n",
      "Test score:  0.6785304247990815\n"
     ]
    }
   ],
   "source": [
    "res_log=funciones.regresionLogistica(df_log,y)"
   ]
  },
  {
   "cell_type": "code",
   "execution_count": 146,
   "metadata": {},
   "outputs": [
    {
     "name": "stdout",
     "output_type": "stream",
     "text": [
      "------------------------------ TRAIN ------------------------------\n",
      "Precision: 0.2587185725871857\n",
      "Recall: 0.6904761904761905\n",
      "Especificidad: 0.6973509933774834\n",
      "F1 score: 0.376401179941003\n",
      "Train score:  0.6964388282596209\n",
      "------------------------------ TEST ------------------------------\n",
      "Precision : 0.2536873156342183\n",
      "Recall : 0.7478260869565218\n",
      "Especificidad : 0.6653439153439153\n",
      "F1 score : 0.37885462555066085\n",
      "Test score:  0.6762342135476463\n"
     ]
    }
   ],
   "source": [
    "res_ranfor=funciones.regresionLogistica(df_ranfor,y)"
   ]
  },
  {
   "cell_type": "code",
   "execution_count": 147,
   "metadata": {},
   "outputs": [
    {
     "name": "stdout",
     "output_type": "stream",
     "text": [
      "------------------------------ TRAIN ------------------------------\n",
      "Precision: 0.24861000794281177\n",
      "Recall: 0.6774891774891775\n",
      "Especificidad: 0.6867549668874172\n",
      "F1 score: 0.3637420104590355\n",
      "Train score:  0.6855255600229753\n",
      "------------------------------ TEST ------------------------------\n",
      "Precision : 0.25146198830409355\n",
      "Recall : 0.7478260869565218\n",
      "Especificidad : 0.6613756613756614\n",
      "F1 score : 0.3763676148796499\n",
      "Test score:  0.6727898966704937\n"
     ]
    }
   ],
   "source": [
    "res_ridge=funciones.regresionLogistica(df_ridge,y)"
   ]
  },
  {
   "cell_type": "code",
   "execution_count": 148,
   "metadata": {},
   "outputs": [],
   "source": [
    "df3=df2.drop('target',axis=1)"
   ]
  },
  {
   "cell_type": "code",
   "execution_count": 149,
   "metadata": {},
   "outputs": [
    {
     "name": "stdout",
     "output_type": "stream",
     "text": [
      "------------------------------ TRAIN ------------------------------\n",
      "Precision: 0.2734562951082598\n",
      "Recall: 0.7380952380952381\n",
      "Especificidad: 0.7\n",
      "F1 score: 0.39906377998829723\n",
      "Train score:  0.7050545663411832\n",
      "------------------------------ TEST ------------------------------\n",
      "Precision : 0.25075528700906347\n",
      "Recall : 0.7217391304347827\n",
      "Especificidad : 0.671957671957672\n",
      "F1 score : 0.3721973094170404\n",
      "Test score:  0.6785304247990815\n"
     ]
    }
   ],
   "source": [
    "res_all= funciones.regresionLogistica(df3,y)"
   ]
  },
  {
   "cell_type": "markdown",
   "metadata": {},
   "source": [
    "Comparando los desempeños de cada de los modelos evaluados de selección de variables, se decide utilizar el de las mejoras metricas centransonos mas que todo en el recall pero sin dejar caer mucho la presición, por ello se ha seleccionado trabajar con el conjunto de caracteristicas de SelectKBest con la prueba de anova"
   ]
  },
  {
   "cell_type": "code",
   "execution_count": 150,
   "metadata": {},
   "outputs": [],
   "source": [
    "df_anova.to_csv('Data/seleccion_anova.csv', index = False)\n",
    "df2.to_csv('Data/base_target.csv', index = False)"
   ]
  },
  {
   "cell_type": "markdown",
   "metadata": {},
   "source": [
    "# modelos con hiperparametros\n"
   ]
  },
  {
   "cell_type": "markdown",
   "metadata": {},
   "source": [
    "### anova"
   ]
  },
  {
   "cell_type": "code",
   "execution_count": 151,
   "metadata": {},
   "outputs": [],
   "source": [
    "# Definir el espacio de búsqueda de hiperparámetros\n",
    "param_grid = {\n",
    "    'max_depth': [None],\n",
    "    'min_samples_split': [2, 5, 10],\n",
    "    'min_samples_leaf': [1, 2, 4],\n",
    "    'class_weight': ['balanced', None]\n",
    "}"
   ]
  },
  {
   "cell_type": "code",
   "execution_count": 152,
   "metadata": {},
   "outputs": [
    {
     "name": "stdout",
     "output_type": "stream",
     "text": [
      "Mejores hiperparámetros: {'class_weight': None, 'max_depth': None, 'min_samples_leaf': 4, 'min_samples_split': 2}\n"
     ]
    }
   ],
   "source": [
    "dt = DecisionTreeClassifier(class_weight='balanced', random_state=42, max_depth = 5)\n",
    "# Inicializar GridSearchCV con el clasificador \n",
    "grid_search = GridSearchCV(dt, param_grid, cv=5, scoring='accuracy', n_jobs=-1)\n",
    "\n",
    "# Ajustar a los datos de entreno\n",
    "grid_search.fit(df_anova, y)\n",
    "\n",
    "print(\"Mejores hiperparámetros:\", grid_search.best_params_)"
   ]
  },
  {
   "cell_type": "code",
   "execution_count": 153,
   "metadata": {},
   "outputs": [
    {
     "name": "stdout",
     "output_type": "stream",
     "text": [
      "Precisión del mejor modelo: 0.9503790489317712\n"
     ]
    }
   ],
   "source": [
    "# Obtener modelo\n",
    "best_dt = grid_search.best_estimator_\n",
    "pred = best_dt.predict(df_anova)\n",
    "\n",
    "accuracy = accuracy_score(y, pred)\n",
    "print(\"Precisión del mejor modelo:\", accuracy)"
   ]
  },
  {
   "cell_type": "code",
   "execution_count": 154,
   "metadata": {},
   "outputs": [
    {
     "data": {
      "image/png": "[encoded data removed]",
      "text/plain": [
       "<Figure size 640x480 with 2 Axes>"
      ]
     },
     "metadata": {},
     "output_type": "display_data"
    }
   ],
   "source": [
    "mc = confusion_matrix(y, pred)\n",
    "cm1_display = ConfusionMatrixDisplay(confusion_matrix=mc)\n",
    "cm1_display.plot()\n",
    "plt.show()\n"
   ]
  },
  {
   "cell_type": "markdown",
   "metadata": {},
   "source": [
    "### Regresión logistica"
   ]
  },
  {
   "cell_type": "code",
   "execution_count": null,
   "metadata": {},
   "outputs": [],
   "source": []
  },
  {
   "cell_type": "code",
   "execution_count": 155,
   "metadata": {},
   "outputs": [],
   "source": [
    "#f_anova = pd.read_csv('Datasets/seleccion_anova.csv')\n",
    "#df_total = pd.read_csv('Data/base_target.csv')"
   ]
  },
  {
   "cell_type": "markdown",
   "metadata": {},
   "source": [
    "# 5. Exportar dataframes"
   ]
  },
  {
   "cell_type": "code",
   "execution_count": 156,
   "metadata": {},
   "outputs": [],
   "source": [
    "df_log.to_csv('Data/seleccion_log.csv', index = False)\n",
    "df2.to_csv('Data/base_target.csv', index = False)"
   ]
  }
 ],
 "metadata": {
  "kernelspec": {
   "display_name": "entorno",
   "language": "python",
   "name": "python3"
  },
  "language_info": {
   "codemirror_mode": {
    "name": "ipython",
    "version": 3
   },
   "file_extension": ".py",
   "mimetype": "text/x-python",
   "name": "python",
   "nbconvert_exporter": "python",
   "pygments_lexer": "ipython3",
   "version": "3.10.10"
  },
  "orig_nbformat": 4
 },
 "nbformat": 4,
 "nbformat_minor": 2
}
