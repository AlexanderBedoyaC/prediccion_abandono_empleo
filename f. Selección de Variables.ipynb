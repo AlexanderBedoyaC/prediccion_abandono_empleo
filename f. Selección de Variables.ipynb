{
 "cells": [
  {
   "cell_type": "markdown",
   "metadata": {},
   "source": [
    "# 1. Importar librerías"
   ]
  },
  {
   "cell_type": "code",
   "execution_count": 51,
   "metadata": {},
   "outputs": [],
   "source": [
    "#Librerías para manipulación de datos\n",
    "import pandas as pd\n",
    "import numpy as np\n",
    "\n",
    "#Librerías para visualización\n",
    "import plotly.express as px\n",
    "import plotly.graph_objects as go\n",
    "from plotly.subplots import make_subplots\n",
    "\n",
    "from sklearn.compose import ColumnTransformer\n",
    "from sklearn.pipeline import Pipeline\n",
    "from sklearn.preprocessing import StandardScaler, OneHotEncoder\n",
    "from sklearn.feature_selection import RFE\n",
    "from sklearn.linear_model import LogisticRegression\n",
    "from sklearn.ensemble import RandomForestClassifier\n",
    "from sklearn.ensemble import GradientBoostingClassifier\n",
    "from sklearn.tree import DecisionTreeClassifier\n",
    "from sklearn.model_selection import cross_val_score, cross_validate,GridSearchCV\n",
    "\n",
    "from sklearn.feature_selection import SelectFromModel\n",
    "from sklearn.linear_model import RidgeClassifier\n",
    "\n",
    "from sklearn.feature_selection import SelectKBest, f_classif,chi2\n",
    "\n",
    "#Importar módulo de funciones\n",
    "import sys\n",
    "sys.path.insert(0, 'utils')  # Añadir el directorio 'utils' al PATH\n",
    "import funciones\n",
    "from importlib import reload\n",
    "reload(funciones)  # Recarga el módulo\n",
    "\n",
    "pd.set_option('display.max_columns',None)"
   ]
  },
  {
   "cell_type": "markdown",
   "metadata": {},
   "source": [
    "# 2. Importar datos\n"
   ]
  },
  {
   "cell_type": "code",
   "execution_count": 52,
   "metadata": {},
   "outputs": [],
   "source": [
    "df = pd.read_csv('data/data_2015_clean.csv', dtype={'StockOptionLevel': str, 'JobLevel': str, 'NumCompaniesWorked': 'int64'})"
   ]
  },
  {
   "cell_type": "code",
   "execution_count": 53,
   "metadata": {},
   "outputs": [
    {
     "name": "stdout",
     "output_type": "stream",
     "text": [
      "<class 'pandas.core.frame.DataFrame'>\n",
      "RangeIndex: 4353 entries, 0 to 4352\n",
      "Data columns (total 27 columns):\n",
      " #   Column                   Non-Null Count  Dtype \n",
      "---  ------                   --------------  ----- \n",
      " 0   InfoDate                 4353 non-null   object\n",
      " 1   EmployeeID               4353 non-null   int64 \n",
      " 2   Age                      4353 non-null   int64 \n",
      " 3   DistanceFromHome         4353 non-null   int64 \n",
      " 4   MonthlyIncome            4353 non-null   int64 \n",
      " 5   NumCompaniesWorked       4353 non-null   int64 \n",
      " 6   PercentSalaryHike        4353 non-null   int64 \n",
      " 7   StockOptionLevel         4353 non-null   object\n",
      " 8   TrainingTimesLastYear    4353 non-null   int64 \n",
      " 9   YearsAtCompany           4353 non-null   int64 \n",
      " 10  EnvironmentSatisfaction  4353 non-null   object\n",
      " 11  JobSatisfaction          4353 non-null   object\n",
      " 12  WorkLifeBalance          4353 non-null   object\n",
      " 13  BusinessTravel           4353 non-null   object\n",
      " 14  Department               4353 non-null   object\n",
      " 15  Education                4353 non-null   object\n",
      " 16  EducationField           4353 non-null   object\n",
      " 17  Gender                   4353 non-null   object\n",
      " 18  JobLevel                 4353 non-null   object\n",
      " 19  JobRole                  4353 non-null   object\n",
      " 20  MaritalStatus            4353 non-null   object\n",
      " 21  retirementType           639 non-null    object\n",
      " 22  resignationReason        577 non-null    object\n",
      " 23  Attrition                4353 non-null   object\n",
      " 24  retirementDate           639 non-null    object\n",
      " 25  JobInvolvement           4353 non-null   object\n",
      " 26  PerformanceRating        4353 non-null   object\n",
      "dtypes: int64(8), object(19)\n",
      "memory usage: 918.3+ KB\n"
     ]
    }
   ],
   "source": [
    "df.info()"
   ]
  },
  {
   "cell_type": "markdown",
   "metadata": {},
   "source": [
    "# 2. Preparación de datos"
   ]
  },
  {
   "cell_type": "markdown",
   "metadata": {},
   "source": [
    "## 2.1. Obtener dummies y Escalar"
   ]
  },
  {
   "cell_type": "code",
   "execution_count": 54,
   "metadata": {},
   "outputs": [],
   "source": [
    "df_no_trans = df.drop(['Attrition','retirementDate','retirementType','resignationReason','InfoDate','EmployeeID'], axis=1)\n",
    "\n",
    "num_columns = df_no_trans.select_dtypes('int64').columns\n",
    "cat_columns = df_no_trans.select_dtypes('object').columns"
   ]
  },
  {
   "cell_type": "code",
   "execution_count": 55,
   "metadata": {},
   "outputs": [],
   "source": [
    "# Crear un ColumnTransformer para aplicar transformaciones específicas a las columnas\n",
    "transformer = ColumnTransformer([('num',StandardScaler(), num_columns),\n",
    "                                 ('cat', OneHotEncoder(), cat_columns)])\n",
    "\n",
    "# Ajustar y transformar el DataFrame\n",
    "df_transformado = transformer.fit_transform(df_no_trans)"
   ]
  },
  {
   "cell_type": "code",
   "execution_count": 56,
   "metadata": {},
   "outputs": [],
   "source": [
    "columns_transformed = transformer.get_feature_names_out(df_no_trans.columns)"
   ]
  },
  {
   "cell_type": "code",
   "execution_count": 57,
   "metadata": {},
   "outputs": [],
   "source": [
    "df2 = pd.DataFrame(df_transformado, columns = columns_transformed)\n",
    "df2['target'] = df['Attrition'].replace({'Sí':1, 'No':0})"
   ]
  },
  {
   "cell_type": "markdown",
   "metadata": {},
   "source": [
    "# 2.2. Separar variable objetivo de los datos"
   ]
  },
  {
   "cell_type": "code",
   "execution_count": 58,
   "metadata": {},
   "outputs": [
    {
     "name": "stdout",
     "output_type": "stream",
     "text": [
      "(4353, 65)\n",
      "(4353,)\n"
     ]
    }
   ],
   "source": [
    "X = df2.drop('target',axis=1)\n",
    "y = df2['target']\n",
    "\n",
    "print(X.shape)\n",
    "print(y.shape)"
   ]
  },
  {
   "cell_type": "markdown",
   "metadata": {},
   "source": [
    "# 3. Selección de variables"
   ]
  },
  {
   "cell_type": "markdown",
   "metadata": {},
   "source": [
    "## 3.1. SelectKBest"
   ]
  },
  {
   "cell_type": "markdown",
   "metadata": {},
   "source": [
    "#### Anova"
   ]
  },
  {
   "cell_type": "code",
   "execution_count": 59,
   "metadata": {},
   "outputs": [],
   "source": [
    "def select_kbest(X,y,score_f,k):\n",
    "    sel_kb = SelectKBest(score_func = score_f,k = k)\n",
    "    sel_kb.fit(X,y)\n",
    "    new_cols= sel_kb.get_support()\n",
    "    print('Score:\\n', sel_kb.scores_, '\\n P-values:\\n', sel_kb.pvalues_)\n",
    "    return new_cols"
   ]
  },
  {
   "cell_type": "code",
   "execution_count": 60,
   "metadata": {},
   "outputs": [
    {
     "name": "stdout",
     "output_type": "stream",
     "text": [
      "Score:\n",
      " [9.36130542e+01 8.12374511e-03 1.94697108e+00 7.74182132e+00\n",
      " 8.61684071e-01 1.03433937e+01 8.27399526e+01 8.66151432e-02\n",
      " 2.51847682e+00 3.81317628e+00 1.30427920e-02 4.45774368e+00\n",
      " 4.54902513e+01 1.04227057e+00 7.46716502e+00 1.07214557e+00\n",
      " 3.02748154e+01 5.74040757e-01 4.05072712e+01 9.28168774e-02\n",
      " 6.82452685e-01 5.02596897e+01 1.24596982e+01 1.65972031e+01\n",
      " 5.49753660e+01 1.33219287e+01 2.54680775e+01 3.81552795e-01\n",
      " 2.53004278e+00 1.26661207e-01 6.57734788e-01 5.17716730e+00\n",
      " 8.67680128e-01 4.50114767e-01 3.28362502e+01 2.22998544e-01\n",
      " 1.41703332e-02 4.18179343e-02 2.97912298e+00 2.80247805e+00\n",
      " 8.73949656e-01 8.73949656e-01 4.73668596e-02 1.33551718e+00\n",
      " 6.21605497e-01 8.10896097e-02 1.30442291e+00 6.30794492e-01\n",
      " 6.33811679e-01 1.07594314e-01 3.81957900e+00 4.97271525e+00\n",
      " 4.35070875e+00 1.53682556e+00 2.06748666e+00 4.87580155e-01\n",
      " 2.15360395e+01 3.01900480e+01 1.01679456e+02 3.71353102e+00\n",
      " 1.13589277e+01 2.76987933e-01 1.81613474e+00 2.13286553e-01\n",
      " 2.13286553e-01] \n",
      " P-values:\n",
      " [6.36980385e-22 9.28186611e-01 1.62984831e-01 5.41889701e-03\n",
      " 3.53319336e-01 1.30890042e-03 1.39313799e-19 7.68539268e-01\n",
      " 1.12591886e-01 5.09149640e-02 9.09080523e-01 3.48002400e-02\n",
      " 1.73518227e-11 3.07350744e-01 6.30882450e-03 3.00518858e-01\n",
      " 3.96497676e-08 4.48698711e-01 2.16115985e-10 7.60640736e-01\n",
      " 4.08788724e-01 1.56442273e-12 4.20131667e-04 4.70422805e-05\n",
      " 1.45891690e-13 2.65399383e-04 4.68117929e-07 5.36805703e-01\n",
      " 1.11769837e-01 7.21936501e-01 4.17405149e-01 2.29340282e-02\n",
      " 3.51650030e-01 5.02316070e-01 1.07028959e-08 6.36788298e-01\n",
      " 9.05249788e-01 8.37976781e-01 8.44159568e-02 9.41906136e-02\n",
      " 3.49916072e-01 3.49916072e-01 8.27720376e-01 2.47889527e-01\n",
      " 4.30494251e-01 7.75839753e-01 2.53469752e-01 4.27107354e-01\n",
      " 4.26004036e-01 7.42915558e-01 5.07209287e-02 2.58010166e-02\n",
      " 3.70516655e-02 2.15157791e-01 1.50541228e-01 4.85046048e-01\n",
      " 3.57454592e-06 4.14085877e-08 1.18514448e-23 5.40381375e-02\n",
      " 7.57401000e-04 5.98709088e-01 1.77844224e-01 6.44226632e-01\n",
      " 6.44226632e-01]\n"
     ]
    },
    {
     "data": {
      "text/html": [
       "<div>\n",
       "<style scoped>\n",
       "    .dataframe tbody tr th:only-of-type {\n",
       "        vertical-align: middle;\n",
       "    }\n",
       "\n",
       "    .dataframe tbody tr th {\n",
       "        vertical-align: top;\n",
       "    }\n",
       "\n",
       "    .dataframe thead th {\n",
       "        text-align: right;\n",
       "    }\n",
       "</style>\n",
       "<table border=\"1\" class=\"dataframe\">\n",
       "  <thead>\n",
       "    <tr style=\"text-align: right;\">\n",
       "      <th></th>\n",
       "      <th>num__Age</th>\n",
       "      <th>num__YearsAtCompany</th>\n",
       "      <th>cat__EnvironmentSatisfaction_Bajo</th>\n",
       "      <th>cat__JobSatisfaction_Bajo</th>\n",
       "      <th>cat__JobSatisfaction_Muy alto</th>\n",
       "      <th>cat__WorkLifeBalance_Mala</th>\n",
       "      <th>cat__WorkLifeBalance_Muy buena</th>\n",
       "      <th>cat__BusinessTravel_Non-Travel</th>\n",
       "      <th>cat__BusinessTravel_Travel_Frequently</th>\n",
       "      <th>cat__BusinessTravel_Travel_Rarely</th>\n",
       "      <th>cat__Department_Human Resources</th>\n",
       "      <th>cat__EducationField_Human Resources</th>\n",
       "      <th>cat__MaritalStatus_Divorced</th>\n",
       "      <th>cat__MaritalStatus_Married</th>\n",
       "      <th>cat__MaritalStatus_Single</th>\n",
       "    </tr>\n",
       "  </thead>\n",
       "  <tbody>\n",
       "    <tr>\n",
       "      <th>0</th>\n",
       "      <td>-0.52393</td>\n",
       "      <td>-1.238141</td>\n",
       "      <td>0.0</td>\n",
       "      <td>0.0</td>\n",
       "      <td>1.0</td>\n",
       "      <td>0.0</td>\n",
       "      <td>0.0</td>\n",
       "      <td>0.0</td>\n",
       "      <td>1.0</td>\n",
       "      <td>0.0</td>\n",
       "      <td>0.0</td>\n",
       "      <td>0.0</td>\n",
       "      <td>0.0</td>\n",
       "      <td>0.0</td>\n",
       "      <td>1.0</td>\n",
       "    </tr>\n",
       "    <tr>\n",
       "      <th>1</th>\n",
       "      <td>-0.52393</td>\n",
       "      <td>-1.238141</td>\n",
       "      <td>0.0</td>\n",
       "      <td>0.0</td>\n",
       "      <td>1.0</td>\n",
       "      <td>0.0</td>\n",
       "      <td>0.0</td>\n",
       "      <td>0.0</td>\n",
       "      <td>1.0</td>\n",
       "      <td>0.0</td>\n",
       "      <td>0.0</td>\n",
       "      <td>0.0</td>\n",
       "      <td>0.0</td>\n",
       "      <td>0.0</td>\n",
       "      <td>1.0</td>\n",
       "    </tr>\n",
       "    <tr>\n",
       "      <th>2</th>\n",
       "      <td>-0.52393</td>\n",
       "      <td>-1.238141</td>\n",
       "      <td>0.0</td>\n",
       "      <td>0.0</td>\n",
       "      <td>1.0</td>\n",
       "      <td>0.0</td>\n",
       "      <td>0.0</td>\n",
       "      <td>0.0</td>\n",
       "      <td>1.0</td>\n",
       "      <td>0.0</td>\n",
       "      <td>0.0</td>\n",
       "      <td>0.0</td>\n",
       "      <td>0.0</td>\n",
       "      <td>0.0</td>\n",
       "      <td>1.0</td>\n",
       "    </tr>\n",
       "    <tr>\n",
       "      <th>3</th>\n",
       "      <td>1.25567</td>\n",
       "      <td>-1.238141</td>\n",
       "      <td>0.0</td>\n",
       "      <td>0.0</td>\n",
       "      <td>0.0</td>\n",
       "      <td>0.0</td>\n",
       "      <td>0.0</td>\n",
       "      <td>0.0</td>\n",
       "      <td>0.0</td>\n",
       "      <td>1.0</td>\n",
       "      <td>0.0</td>\n",
       "      <td>0.0</td>\n",
       "      <td>0.0</td>\n",
       "      <td>1.0</td>\n",
       "      <td>0.0</td>\n",
       "    </tr>\n",
       "    <tr>\n",
       "      <th>4</th>\n",
       "      <td>1.25567</td>\n",
       "      <td>-1.238141</td>\n",
       "      <td>0.0</td>\n",
       "      <td>0.0</td>\n",
       "      <td>0.0</td>\n",
       "      <td>0.0</td>\n",
       "      <td>0.0</td>\n",
       "      <td>0.0</td>\n",
       "      <td>0.0</td>\n",
       "      <td>1.0</td>\n",
       "      <td>0.0</td>\n",
       "      <td>0.0</td>\n",
       "      <td>0.0</td>\n",
       "      <td>1.0</td>\n",
       "      <td>0.0</td>\n",
       "    </tr>\n",
       "  </tbody>\n",
       "</table>\n",
       "</div>"
      ],
      "text/plain": [
       "   num__Age  num__YearsAtCompany  cat__EnvironmentSatisfaction_Bajo  \\\n",
       "0  -0.52393            -1.238141                                0.0   \n",
       "1  -0.52393            -1.238141                                0.0   \n",
       "2  -0.52393            -1.238141                                0.0   \n",
       "3   1.25567            -1.238141                                0.0   \n",
       "4   1.25567            -1.238141                                0.0   \n",
       "\n",
       "   cat__JobSatisfaction_Bajo  cat__JobSatisfaction_Muy alto  \\\n",
       "0                        0.0                            1.0   \n",
       "1                        0.0                            1.0   \n",
       "2                        0.0                            1.0   \n",
       "3                        0.0                            0.0   \n",
       "4                        0.0                            0.0   \n",
       "\n",
       "   cat__WorkLifeBalance_Mala  cat__WorkLifeBalance_Muy buena  \\\n",
       "0                        0.0                             0.0   \n",
       "1                        0.0                             0.0   \n",
       "2                        0.0                             0.0   \n",
       "3                        0.0                             0.0   \n",
       "4                        0.0                             0.0   \n",
       "\n",
       "   cat__BusinessTravel_Non-Travel  cat__BusinessTravel_Travel_Frequently  \\\n",
       "0                             0.0                                    1.0   \n",
       "1                             0.0                                    1.0   \n",
       "2                             0.0                                    1.0   \n",
       "3                             0.0                                    0.0   \n",
       "4                             0.0                                    0.0   \n",
       "\n",
       "   cat__BusinessTravel_Travel_Rarely  cat__Department_Human Resources  \\\n",
       "0                                0.0                              0.0   \n",
       "1                                0.0                              0.0   \n",
       "2                                0.0                              0.0   \n",
       "3                                1.0                              0.0   \n",
       "4                                1.0                              0.0   \n",
       "\n",
       "   cat__EducationField_Human Resources  cat__MaritalStatus_Divorced  \\\n",
       "0                                  0.0                          0.0   \n",
       "1                                  0.0                          0.0   \n",
       "2                                  0.0                          0.0   \n",
       "3                                  0.0                          0.0   \n",
       "4                                  0.0                          0.0   \n",
       "\n",
       "   cat__MaritalStatus_Married  cat__MaritalStatus_Single  \n",
       "0                         0.0                        1.0  \n",
       "1                         0.0                        1.0  \n",
       "2                         0.0                        1.0  \n",
       "3                         1.0                        0.0  \n",
       "4                         1.0                        0.0  "
      ]
     },
     "execution_count": 60,
     "metadata": {},
     "output_type": "execute_result"
    }
   ],
   "source": [
    "X_new = select_kbest(X, y, f_classif, 15)\n",
    "# Nuevo conjunto de datos\n",
    "df_anova = X.iloc[:,X_new]\n",
    "df_anova.head()"
   ]
  },
  {
   "cell_type": "markdown",
   "metadata": {},
   "source": [
    "#### Chi2"
   ]
  },
  {
   "cell_type": "code",
   "execution_count": 61,
   "metadata": {},
   "outputs": [],
   "source": [
    "df_dummies = pd.get_dummies(df_no_trans)"
   ]
  },
  {
   "cell_type": "code",
   "execution_count": 62,
   "metadata": {},
   "outputs": [
    {
     "name": "stdout",
     "output_type": "stream",
     "text": [
      "Score:\n",
      " [2.01881006e+02 5.82129840e-02 6.64732132e+04 1.78798873e+01\n",
      " 7.56779058e-01 6.12871063e+00 3.53400332e+02 4.94478816e-02\n",
      " 1.49945199e+00 3.39917001e+00 1.22933417e-02 3.06635969e+00\n",
      " 3.64522940e+01 8.38214977e-01 5.20829475e+00 7.50144566e-01\n",
      " 2.42197151e+01 4.65398445e-01 2.74967495e+01 7.13123884e-02\n",
      " 6.12401701e-01 4.70136182e+01 4.83715451e+00 1.48658989e+01\n",
      " 4.40953313e+01 3.84610266e+00 2.42316573e+01 1.32580381e-01\n",
      " 1.76087670e+00 7.75489846e-02 5.81760182e-01 4.17864553e+00\n",
      " 8.39793157e-01 3.28008799e-01 3.19985631e+01 1.31147789e-01\n",
      " 1.26330828e-02 2.86312178e-02 2.81423785e+00 2.55092429e+00\n",
      " 5.25348925e-01 3.48826866e-01 2.99482446e-02 8.50590130e-01\n",
      " 5.28810581e-01 7.53107345e-02 1.24259171e+00 5.74025304e-01\n",
      " 6.11726346e-01 8.85757995e-02 3.56011790e+00 4.47958147e+00\n",
      " 4.11161314e+00 1.23086239e+00 1.61007837e+00 4.60185548e-01\n",
      " 1.66819816e+01 1.62692562e+01 6.75476045e+01 1.51706229e+00\n",
      " 1.06940114e+01 2.06438677e-01 1.63972227e+00 3.26458013e-02\n",
      " 1.80728333e-01] \n",
      " P-values:\n",
      " [8.11640462e-46 8.09343016e-01 0.00000000e+00 2.35294690e-05\n",
      " 3.84338392e-01 1.33003834e-02 7.70334139e-79 8.24026801e-01\n",
      " 2.20755702e-01 6.52292332e-02 9.11715198e-01 7.99282692e-02\n",
      " 1.56448891e-09 3.59907788e-01 2.24793722e-02 3.86430464e-01\n",
      " 8.59479559e-07 4.95111751e-01 1.57358753e-07 7.89435442e-01\n",
      " 4.33884958e-01 7.04951746e-12 2.78528175e-02 1.15430974e-04\n",
      " 3.12766038e-11 4.98617255e-02 8.54166854e-07 7.15771472e-01\n",
      " 1.84515201e-01 7.80646845e-01 4.45623212e-01 4.09364046e-02\n",
      " 3.59455935e-01 5.66833938e-01 1.54286656e-08 7.17244928e-01\n",
      " 9.10508644e-01 8.65633338e-01 9.34312632e-02 1.10229751e-01\n",
      " 4.68568859e-01 5.54777965e-01 8.62607716e-01 3.56385446e-01\n",
      " 4.67107346e-01 7.83755717e-01 2.64972152e-01 4.48663787e-01\n",
      " 4.34138550e-01 7.65995600e-01 5.91835350e-02 3.43021202e-02\n",
      " 4.25897211e-02 2.67239389e-01 2.04480787e-01 4.97537270e-01\n",
      " 4.41988139e-05 5.49482956e-05 2.05660970e-16 2.18064598e-01\n",
      " 1.07482897e-03 6.49573168e-01 2.00363578e-01 8.56617587e-01\n",
      " 6.70748069e-01]\n"
     ]
    },
    {
     "data": {
      "text/html": [
       "<div>\n",
       "<style scoped>\n",
       "    .dataframe tbody tr th:only-of-type {\n",
       "        vertical-align: middle;\n",
       "    }\n",
       "\n",
       "    .dataframe tbody tr th {\n",
       "        vertical-align: top;\n",
       "    }\n",
       "\n",
       "    .dataframe thead th {\n",
       "        text-align: right;\n",
       "    }\n",
       "</style>\n",
       "<table border=\"1\" class=\"dataframe\">\n",
       "  <thead>\n",
       "    <tr style=\"text-align: right;\">\n",
       "      <th></th>\n",
       "      <th>num__Age</th>\n",
       "      <th>num__MonthlyIncome</th>\n",
       "      <th>num__NumCompaniesWorked</th>\n",
       "      <th>num__YearsAtCompany</th>\n",
       "      <th>cat__EnvironmentSatisfaction_Bajo</th>\n",
       "      <th>cat__JobSatisfaction_Bajo</th>\n",
       "      <th>cat__JobSatisfaction_Muy alto</th>\n",
       "      <th>cat__WorkLifeBalance_Mala</th>\n",
       "      <th>cat__BusinessTravel_Non-Travel</th>\n",
       "      <th>cat__BusinessTravel_Travel_Frequently</th>\n",
       "      <th>cat__Department_Human Resources</th>\n",
       "      <th>cat__EducationField_Human Resources</th>\n",
       "      <th>cat__MaritalStatus_Divorced</th>\n",
       "      <th>cat__MaritalStatus_Married</th>\n",
       "      <th>cat__MaritalStatus_Single</th>\n",
       "    </tr>\n",
       "  </thead>\n",
       "  <tbody>\n",
       "    <tr>\n",
       "      <th>0</th>\n",
       "      <td>-0.52393</td>\n",
       "      <td>-0.467319</td>\n",
       "      <td>2.118864</td>\n",
       "      <td>-1.238141</td>\n",
       "      <td>0.0</td>\n",
       "      <td>0.0</td>\n",
       "      <td>1.0</td>\n",
       "      <td>0.0</td>\n",
       "      <td>0.0</td>\n",
       "      <td>1.0</td>\n",
       "      <td>0.0</td>\n",
       "      <td>0.0</td>\n",
       "      <td>0.0</td>\n",
       "      <td>0.0</td>\n",
       "      <td>1.0</td>\n",
       "    </tr>\n",
       "    <tr>\n",
       "      <th>1</th>\n",
       "      <td>-0.52393</td>\n",
       "      <td>-0.467319</td>\n",
       "      <td>2.118864</td>\n",
       "      <td>-1.238141</td>\n",
       "      <td>0.0</td>\n",
       "      <td>0.0</td>\n",
       "      <td>1.0</td>\n",
       "      <td>0.0</td>\n",
       "      <td>0.0</td>\n",
       "      <td>1.0</td>\n",
       "      <td>0.0</td>\n",
       "      <td>0.0</td>\n",
       "      <td>0.0</td>\n",
       "      <td>0.0</td>\n",
       "      <td>1.0</td>\n",
       "    </tr>\n",
       "    <tr>\n",
       "      <th>2</th>\n",
       "      <td>-0.52393</td>\n",
       "      <td>-0.467319</td>\n",
       "      <td>2.118864</td>\n",
       "      <td>-1.238141</td>\n",
       "      <td>0.0</td>\n",
       "      <td>0.0</td>\n",
       "      <td>1.0</td>\n",
       "      <td>0.0</td>\n",
       "      <td>0.0</td>\n",
       "      <td>1.0</td>\n",
       "      <td>0.0</td>\n",
       "      <td>0.0</td>\n",
       "      <td>0.0</td>\n",
       "      <td>0.0</td>\n",
       "      <td>1.0</td>\n",
       "    </tr>\n",
       "    <tr>\n",
       "      <th>3</th>\n",
       "      <td>1.25567</td>\n",
       "      <td>-0.922516</td>\n",
       "      <td>0.518896</td>\n",
       "      <td>-1.238141</td>\n",
       "      <td>0.0</td>\n",
       "      <td>0.0</td>\n",
       "      <td>0.0</td>\n",
       "      <td>0.0</td>\n",
       "      <td>0.0</td>\n",
       "      <td>0.0</td>\n",
       "      <td>0.0</td>\n",
       "      <td>0.0</td>\n",
       "      <td>0.0</td>\n",
       "      <td>1.0</td>\n",
       "      <td>0.0</td>\n",
       "    </tr>\n",
       "    <tr>\n",
       "      <th>4</th>\n",
       "      <td>1.25567</td>\n",
       "      <td>-0.922516</td>\n",
       "      <td>0.518896</td>\n",
       "      <td>-1.238141</td>\n",
       "      <td>0.0</td>\n",
       "      <td>0.0</td>\n",
       "      <td>0.0</td>\n",
       "      <td>0.0</td>\n",
       "      <td>0.0</td>\n",
       "      <td>0.0</td>\n",
       "      <td>0.0</td>\n",
       "      <td>0.0</td>\n",
       "      <td>0.0</td>\n",
       "      <td>1.0</td>\n",
       "      <td>0.0</td>\n",
       "    </tr>\n",
       "  </tbody>\n",
       "</table>\n",
       "</div>"
      ],
      "text/plain": [
       "   num__Age  num__MonthlyIncome  num__NumCompaniesWorked  num__YearsAtCompany  \\\n",
       "0  -0.52393           -0.467319                 2.118864            -1.238141   \n",
       "1  -0.52393           -0.467319                 2.118864            -1.238141   \n",
       "2  -0.52393           -0.467319                 2.118864            -1.238141   \n",
       "3   1.25567           -0.922516                 0.518896            -1.238141   \n",
       "4   1.25567           -0.922516                 0.518896            -1.238141   \n",
       "\n",
       "   cat__EnvironmentSatisfaction_Bajo  cat__JobSatisfaction_Bajo  \\\n",
       "0                                0.0                        0.0   \n",
       "1                                0.0                        0.0   \n",
       "2                                0.0                        0.0   \n",
       "3                                0.0                        0.0   \n",
       "4                                0.0                        0.0   \n",
       "\n",
       "   cat__JobSatisfaction_Muy alto  cat__WorkLifeBalance_Mala  \\\n",
       "0                            1.0                        0.0   \n",
       "1                            1.0                        0.0   \n",
       "2                            1.0                        0.0   \n",
       "3                            0.0                        0.0   \n",
       "4                            0.0                        0.0   \n",
       "\n",
       "   cat__BusinessTravel_Non-Travel  cat__BusinessTravel_Travel_Frequently  \\\n",
       "0                             0.0                                    1.0   \n",
       "1                             0.0                                    1.0   \n",
       "2                             0.0                                    1.0   \n",
       "3                             0.0                                    0.0   \n",
       "4                             0.0                                    0.0   \n",
       "\n",
       "   cat__Department_Human Resources  cat__EducationField_Human Resources  \\\n",
       "0                              0.0                                  0.0   \n",
       "1                              0.0                                  0.0   \n",
       "2                              0.0                                  0.0   \n",
       "3                              0.0                                  0.0   \n",
       "4                              0.0                                  0.0   \n",
       "\n",
       "   cat__MaritalStatus_Divorced  cat__MaritalStatus_Married  \\\n",
       "0                          0.0                         0.0   \n",
       "1                          0.0                         0.0   \n",
       "2                          0.0                         0.0   \n",
       "3                          0.0                         1.0   \n",
       "4                          0.0                         1.0   \n",
       "\n",
       "   cat__MaritalStatus_Single  \n",
       "0                        1.0  \n",
       "1                        1.0  \n",
       "2                        1.0  \n",
       "3                        0.0  \n",
       "4                        0.0  "
      ]
     },
     "execution_count": 62,
     "metadata": {},
     "output_type": "execute_result"
    }
   ],
   "source": [
    "X_new= select_kbest(df_dummies, y, chi2, 15)\n",
    "# Nuevo conjunto de datos\n",
    "df_chi2 = X.iloc[:,X_new]\n",
    "df_chi2.head()"
   ]
  },
  {
   "cell_type": "markdown",
   "metadata": {},
   "source": [
    "## 3.2. RFE"
   ]
  },
  {
   "cell_type": "code",
   "execution_count": 63,
   "metadata": {},
   "outputs": [],
   "source": [
    "# Función recursiva de selección de características\n",
    "def recursive_feature_selection(X, y, model, k):\n",
    "  rfe = RFE(model, n_features_to_select = k, step = 1)\n",
    "  fit = rfe.fit(X, y)\n",
    "  X_new = fit.support_\n",
    "  print(\"Num Features: %s\" % (fit.n_features_))\n",
    "  print(\"Selected Features: %s\" % (fit.support_))\n",
    "  print(\"Feature Ranking: %s\" % (fit.ranking_))\n",
    "\n",
    "  return X_new"
   ]
  },
  {
   "cell_type": "markdown",
   "metadata": {},
   "source": [
    "#### Regresión Logística"
   ]
  },
  {
   "cell_type": "code",
   "execution_count": 64,
   "metadata": {},
   "outputs": [
    {
     "name": "stdout",
     "output_type": "stream",
     "text": [
      "Num Features: 15\n",
      "Selected Features: [ True False False False False False  True False False False False False\n",
      "  True False False False  True False  True False False  True False  True\n",
      "  True False  True False False False False False  True False  True False\n",
      " False False False False False False False False False False False False\n",
      " False False  True  True False False False False False False  True False\n",
      "  True False False False False]\n",
      "Feature Ranking: [ 1 50 47  6 48 18  1 36 14 27 15 35  1 34  7 39  1 38  1 21 22  1  8  1\n",
      "  1 26  1 20 19 44 45  5  1 46  1 42 33 31  3 32 40 43 24 25 41 23  2 30\n",
      " 28 13  1  1  4 12 11 29  9 10  1 16  1 17 37 49 51]\n",
      "<class 'pandas.core.frame.DataFrame'>\n",
      "RangeIndex: 4353 entries, 0 to 4352\n",
      "Data columns (total 15 columns):\n",
      " #   Column                                 Non-Null Count  Dtype  \n",
      "---  ------                                 --------------  -----  \n",
      " 0   num__Age                               4353 non-null   float64\n",
      " 1   num__YearsAtCompany                    4353 non-null   float64\n",
      " 2   cat__EnvironmentSatisfaction_Bajo      4353 non-null   float64\n",
      " 3   cat__JobSatisfaction_Bajo              4353 non-null   float64\n",
      " 4   cat__JobSatisfaction_Muy alto          4353 non-null   float64\n",
      " 5   cat__WorkLifeBalance_Mala              4353 non-null   float64\n",
      " 6   cat__BusinessTravel_Non-Travel         4353 non-null   float64\n",
      " 7   cat__BusinessTravel_Travel_Frequently  4353 non-null   float64\n",
      " 8   cat__Department_Human Resources        4353 non-null   float64\n",
      " 9   cat__Education_Doctor                  4353 non-null   float64\n",
      " 10  cat__EducationField_Human Resources    4353 non-null   float64\n",
      " 11  cat__JobRole_Manager                   4353 non-null   float64\n",
      " 12  cat__JobRole_Manufacturing Director    4353 non-null   float64\n",
      " 13  cat__MaritalStatus_Single              4353 non-null   float64\n",
      " 14  cat__JobInvolvement_Bajo               4353 non-null   float64\n",
      "dtypes: float64(15)\n",
      "memory usage: 510.2 KB\n"
     ]
    }
   ],
   "source": [
    "model= LogisticRegression(max_iter = 1000,random_state = 42)\n",
    "X_new=recursive_feature_selection(X, y, model, 15)\n",
    "df_log = X.iloc[:,X_new]\n",
    "df_log.info()"
   ]
  },
  {
   "cell_type": "markdown",
   "metadata": {},
   "source": [
    "#### Bosque Aleatorio"
   ]
  },
  {
   "cell_type": "code",
   "execution_count": 65,
   "metadata": {},
   "outputs": [
    {
     "name": "stdout",
     "output_type": "stream",
     "text": [
      "Num Features: 15\n",
      "Selected Features: [ True  True  True  True  True  True  True  True False False False False\n",
      "  True False False False False False False False False False  True False\n",
      "  True False False  True False False False False False False False False\n",
      " False False False False False False  True False False False False False\n",
      " False False False False False False False False False False  True  True\n",
      " False False False False False]\n",
      "Feature Ranking: [ 1  1  1  1  1  1  1  1  9 28 43 17  1 29 10  6  5 23 14 20 36 13  1 45\n",
      "  1 26 25  1 19  4 34 18 51 12 41  2 38 11 47 44  3 16  1  7 30 37 50 40\n",
      " 49 22 48 42 35 15  8 46 32 24  1  1 31 21 27 33 39]\n",
      "<class 'pandas.core.frame.DataFrame'>\n",
      "RangeIndex: 4353 entries, 0 to 4352\n",
      "Data columns (total 15 columns):\n",
      " #   Column                                  Non-Null Count  Dtype  \n",
      "---  ------                                  --------------  -----  \n",
      " 0   num__Age                                4353 non-null   float64\n",
      " 1   num__DistanceFromHome                   4353 non-null   float64\n",
      " 2   num__MonthlyIncome                      4353 non-null   float64\n",
      " 3   num__NumCompaniesWorked                 4353 non-null   float64\n",
      " 4   num__PercentSalaryHike                  4353 non-null   float64\n",
      " 5   num__TrainingTimesLastYear              4353 non-null   float64\n",
      " 6   num__YearsAtCompany                     4353 non-null   float64\n",
      " 7   cat__StockOptionLevel_0                 4353 non-null   float64\n",
      " 8   cat__EnvironmentSatisfaction_Bajo       4353 non-null   float64\n",
      " 9   cat__WorkLifeBalance_Muy buena          4353 non-null   float64\n",
      " 10  cat__BusinessTravel_Travel_Frequently   4353 non-null   float64\n",
      " 11  cat__Department_Research & Development  4353 non-null   float64\n",
      " 12  cat__JobLevel_1                         4353 non-null   float64\n",
      " 13  cat__MaritalStatus_Single               4353 non-null   float64\n",
      " 14  cat__JobInvolvement_Alto                4353 non-null   float64\n",
      "dtypes: float64(15)\n",
      "memory usage: 510.2 KB\n"
     ]
    }
   ],
   "source": [
    "model = RandomForestClassifier(n_estimators=300,random_state=42,n_jobs=-1)\n",
    "X_new = recursive_feature_selection(X,y,model,15)\n",
    "df_ranfor = X.iloc[:,X_new]\n",
    "df_ranfor.info()"
   ]
  },
  {
   "cell_type": "markdown",
   "metadata": {},
   "source": [
    "## 3.3. Select From Model"
   ]
  },
  {
   "cell_type": "markdown",
   "metadata": {},
   "source": [
    "#### Ridge Classifier"
   ]
  },
  {
   "cell_type": "code",
   "execution_count": 66,
   "metadata": {},
   "outputs": [
    {
     "name": "stdout",
     "output_type": "stream",
     "text": [
      "[[-9.09673774e-02  1.87496456e-04 -3.76078433e-03  5.16770867e-02\n",
      "   3.34229096e-03 -3.46419800e-02 -5.66734707e-02  8.16998319e-03\n",
      "  -3.32443348e-02  4.93041731e-02 -2.42298214e-02 -2.41633519e-02\n",
      "   1.11332485e-01 -2.19933927e-02 -6.51757400e-02  6.48400685e-03\n",
      "   1.07162889e-01 -3.00810512e-03 -1.10638791e-01 -5.92966875e-02\n",
      "  -5.58527730e-02  2.19108069e-01 -1.03958608e-01 -1.28733558e-01\n",
      "   1.61569677e-01 -3.28361189e-02  9.98194495e-02 -3.70107426e-02\n",
      "  -6.28087069e-02  7.05196736e-03  8.15560996e-03  5.73877010e-02\n",
      "  -7.35778946e-02  9.82616256e-04  2.16464886e-01 -1.28594390e-02\n",
      "  -2.52783984e-02 -3.81076937e-02 -9.44402237e-02 -4.57791308e-02\n",
      "  -4.43711325e-03  4.43711325e-03  2.04206625e-02  2.46063806e-02\n",
      "  -2.14322347e-03  4.96517939e-03 -4.78489990e-02 -2.99376547e-02\n",
      "  -2.12811127e-02  2.33923897e-02 -6.12047206e-02 -6.60807404e-02\n",
      "   1.04789158e-01  2.57125549e-02  6.23661179e-02 -3.77559924e-02\n",
      "  -6.73153125e-02 -5.54117817e-02  1.22727094e-01 -5.92140750e-02\n",
      "   8.65427545e-02 -3.21276049e-02  4.79892534e-03  3.22976819e-03\n",
      "  -3.22976819e-03]]\n",
      "<class 'pandas.core.frame.DataFrame'>\n",
      "RangeIndex: 4353 entries, 0 to 4352\n",
      "Data columns (total 15 columns):\n",
      " #   Column                                 Non-Null Count  Dtype  \n",
      "---  ------                                 --------------  -----  \n",
      " 0   num__Age                               4353 non-null   float64\n",
      " 1   cat__EnvironmentSatisfaction_Bajo      4353 non-null   float64\n",
      " 2   cat__JobSatisfaction_Bajo              4353 non-null   float64\n",
      " 3   cat__JobSatisfaction_Muy alto          4353 non-null   float64\n",
      " 4   cat__WorkLifeBalance_Mala              4353 non-null   float64\n",
      " 5   cat__WorkLifeBalance_Muy buena         4353 non-null   float64\n",
      " 6   cat__BusinessTravel_Non-Travel         4353 non-null   float64\n",
      " 7   cat__BusinessTravel_Travel_Frequently  4353 non-null   float64\n",
      " 8   cat__Department_Human Resources        4353 non-null   float64\n",
      " 9   cat__Education_Doctor                  4353 non-null   float64\n",
      " 10  cat__EducationField_Human Resources    4353 non-null   float64\n",
      " 11  cat__EducationField_Other              4353 non-null   float64\n",
      " 12  cat__JobRole_Research Director         4353 non-null   float64\n",
      " 13  cat__MaritalStatus_Single              4353 non-null   float64\n",
      " 14  cat__JobInvolvement_Bajo               4353 non-null   float64\n",
      "dtypes: float64(15)\n",
      "memory usage: 510.2 KB\n"
     ]
    }
   ],
   "source": [
    "# Selector de variables con Ridge\n",
    "sel_ = SelectFromModel(RidgeClassifier(alpha = 0.1, random_state = 24), max_features = 15)\n",
    "sel_.fit(X, y)\n",
    "print(sel_.estimator_.coef_)\n",
    "#Obtener variables seleccionadas\n",
    "X_new = sel_.get_support()\n",
    "\n",
    "df_ridge = X.iloc[:,X_new]\n",
    "df_ridge.info()"
   ]
  },
  {
   "cell_type": "markdown",
   "metadata": {},
   "source": [
    "#### Gradient Boosting"
   ]
  },
  {
   "cell_type": "code",
   "execution_count": 67,
   "metadata": {},
   "outputs": [
    {
     "name": "stdout",
     "output_type": "stream",
     "text": [
      "[0.13686973 0.08519843 0.17044558 0.04298689 0.02992571 0.02991584\n",
      " 0.08827219 0.00587755 0.0078594  0.00541291 0.00597628 0.00353081\n",
      " 0.02598129 0.00377202 0.00849942 0.00703625 0.02024932 0.0067009\n",
      " 0.01729523 0.00379891 0.00189162 0.02183015 0.00667605 0.00390977\n",
      " 0.03131842 0.00371321 0.01650612 0.00148307 0.00411823 0.00334005\n",
      " 0.00308869 0.00583353 0.0044154  0.00183441 0.01555812 0.00620047\n",
      " 0.00325098 0.00798572 0.00060313 0.00316238 0.00203551 0.00347364\n",
      " 0.01345241 0.00356992 0.00281043 0.00466554 0.0017542  0.00174217\n",
      " 0.01193567 0.00375655 0.00464558 0.00544255 0.00361559 0.00347734\n",
      " 0.00638097 0.00471816 0.00868761 0.00440004 0.03077984 0.00353072\n",
      " 0.00842091 0.00659523 0.00489555 0.0013965  0.00149323]\n"
     ]
    },
    {
     "data": {
      "text/html": [
       "<div>\n",
       "<style scoped>\n",
       "    .dataframe tbody tr th:only-of-type {\n",
       "        vertical-align: middle;\n",
       "    }\n",
       "\n",
       "    .dataframe tbody tr th {\n",
       "        vertical-align: top;\n",
       "    }\n",
       "\n",
       "    .dataframe thead th {\n",
       "        text-align: right;\n",
       "    }\n",
       "</style>\n",
       "<table border=\"1\" class=\"dataframe\">\n",
       "  <thead>\n",
       "    <tr style=\"text-align: right;\">\n",
       "      <th></th>\n",
       "      <th>num__Age</th>\n",
       "      <th>num__DistanceFromHome</th>\n",
       "      <th>num__MonthlyIncome</th>\n",
       "      <th>num__NumCompaniesWorked</th>\n",
       "      <th>num__PercentSalaryHike</th>\n",
       "      <th>num__TrainingTimesLastYear</th>\n",
       "      <th>num__YearsAtCompany</th>\n",
       "      <th>cat__EnvironmentSatisfaction_Bajo</th>\n",
       "      <th>cat__JobSatisfaction_Bajo</th>\n",
       "      <th>cat__JobSatisfaction_Muy alto</th>\n",
       "      <th>cat__WorkLifeBalance_Mala</th>\n",
       "      <th>cat__BusinessTravel_Travel_Frequently</th>\n",
       "      <th>cat__Department_Human Resources</th>\n",
       "      <th>cat__EducationField_Human Resources</th>\n",
       "      <th>cat__MaritalStatus_Single</th>\n",
       "    </tr>\n",
       "  </thead>\n",
       "  <tbody>\n",
       "    <tr>\n",
       "      <th>0</th>\n",
       "      <td>-0.52393</td>\n",
       "      <td>-0.019402</td>\n",
       "      <td>-0.467319</td>\n",
       "      <td>2.118864</td>\n",
       "      <td>-0.601649</td>\n",
       "      <td>0.930621</td>\n",
       "      <td>-1.238141</td>\n",
       "      <td>0.0</td>\n",
       "      <td>0.0</td>\n",
       "      <td>1.0</td>\n",
       "      <td>0.0</td>\n",
       "      <td>1.0</td>\n",
       "      <td>0.0</td>\n",
       "      <td>0.0</td>\n",
       "      <td>1.0</td>\n",
       "    </tr>\n",
       "    <tr>\n",
       "      <th>1</th>\n",
       "      <td>-0.52393</td>\n",
       "      <td>-0.019402</td>\n",
       "      <td>-0.467319</td>\n",
       "      <td>2.118864</td>\n",
       "      <td>-0.601649</td>\n",
       "      <td>0.930621</td>\n",
       "      <td>-1.238141</td>\n",
       "      <td>0.0</td>\n",
       "      <td>0.0</td>\n",
       "      <td>1.0</td>\n",
       "      <td>0.0</td>\n",
       "      <td>1.0</td>\n",
       "      <td>0.0</td>\n",
       "      <td>0.0</td>\n",
       "      <td>1.0</td>\n",
       "    </tr>\n",
       "    <tr>\n",
       "      <th>2</th>\n",
       "      <td>-0.52393</td>\n",
       "      <td>-0.019402</td>\n",
       "      <td>-0.467319</td>\n",
       "      <td>2.118864</td>\n",
       "      <td>-0.601649</td>\n",
       "      <td>0.930621</td>\n",
       "      <td>-1.238141</td>\n",
       "      <td>0.0</td>\n",
       "      <td>0.0</td>\n",
       "      <td>1.0</td>\n",
       "      <td>0.0</td>\n",
       "      <td>1.0</td>\n",
       "      <td>0.0</td>\n",
       "      <td>0.0</td>\n",
       "      <td>1.0</td>\n",
       "    </tr>\n",
       "    <tr>\n",
       "      <th>3</th>\n",
       "      <td>1.25567</td>\n",
       "      <td>-1.007222</td>\n",
       "      <td>-0.922516</td>\n",
       "      <td>0.518896</td>\n",
       "      <td>0.767107</td>\n",
       "      <td>0.930621</td>\n",
       "      <td>-1.238141</td>\n",
       "      <td>0.0</td>\n",
       "      <td>0.0</td>\n",
       "      <td>0.0</td>\n",
       "      <td>0.0</td>\n",
       "      <td>0.0</td>\n",
       "      <td>0.0</td>\n",
       "      <td>0.0</td>\n",
       "      <td>0.0</td>\n",
       "    </tr>\n",
       "    <tr>\n",
       "      <th>4</th>\n",
       "      <td>1.25567</td>\n",
       "      <td>-1.007222</td>\n",
       "      <td>-0.922516</td>\n",
       "      <td>0.518896</td>\n",
       "      <td>0.767107</td>\n",
       "      <td>0.930621</td>\n",
       "      <td>-1.238141</td>\n",
       "      <td>0.0</td>\n",
       "      <td>0.0</td>\n",
       "      <td>0.0</td>\n",
       "      <td>0.0</td>\n",
       "      <td>0.0</td>\n",
       "      <td>0.0</td>\n",
       "      <td>0.0</td>\n",
       "      <td>0.0</td>\n",
       "    </tr>\n",
       "  </tbody>\n",
       "</table>\n",
       "</div>"
      ],
      "text/plain": [
       "   num__Age  num__DistanceFromHome  num__MonthlyIncome  \\\n",
       "0  -0.52393              -0.019402           -0.467319   \n",
       "1  -0.52393              -0.019402           -0.467319   \n",
       "2  -0.52393              -0.019402           -0.467319   \n",
       "3   1.25567              -1.007222           -0.922516   \n",
       "4   1.25567              -1.007222           -0.922516   \n",
       "\n",
       "   num__NumCompaniesWorked  num__PercentSalaryHike  \\\n",
       "0                 2.118864               -0.601649   \n",
       "1                 2.118864               -0.601649   \n",
       "2                 2.118864               -0.601649   \n",
       "3                 0.518896                0.767107   \n",
       "4                 0.518896                0.767107   \n",
       "\n",
       "   num__TrainingTimesLastYear  num__YearsAtCompany  \\\n",
       "0                    0.930621            -1.238141   \n",
       "1                    0.930621            -1.238141   \n",
       "2                    0.930621            -1.238141   \n",
       "3                    0.930621            -1.238141   \n",
       "4                    0.930621            -1.238141   \n",
       "\n",
       "   cat__EnvironmentSatisfaction_Bajo  cat__JobSatisfaction_Bajo  \\\n",
       "0                                0.0                        0.0   \n",
       "1                                0.0                        0.0   \n",
       "2                                0.0                        0.0   \n",
       "3                                0.0                        0.0   \n",
       "4                                0.0                        0.0   \n",
       "\n",
       "   cat__JobSatisfaction_Muy alto  cat__WorkLifeBalance_Mala  \\\n",
       "0                            1.0                        0.0   \n",
       "1                            1.0                        0.0   \n",
       "2                            1.0                        0.0   \n",
       "3                            0.0                        0.0   \n",
       "4                            0.0                        0.0   \n",
       "\n",
       "   cat__BusinessTravel_Travel_Frequently  cat__Department_Human Resources  \\\n",
       "0                                    1.0                              0.0   \n",
       "1                                    1.0                              0.0   \n",
       "2                                    1.0                              0.0   \n",
       "3                                    0.0                              0.0   \n",
       "4                                    0.0                              0.0   \n",
       "\n",
       "   cat__EducationField_Human Resources  cat__MaritalStatus_Single  \n",
       "0                                  0.0                        1.0  \n",
       "1                                  0.0                        1.0  \n",
       "2                                  0.0                        1.0  \n",
       "3                                  0.0                        0.0  \n",
       "4                                  0.0                        0.0  "
      ]
     },
     "execution_count": 67,
     "metadata": {},
     "output_type": "execute_result"
    }
   ],
   "source": [
    "# Selector de variables con Gradient Boosting\n",
    "sel_ = SelectFromModel(GradientBoostingClassifier(n_estimators = 300, random_state=24))\n",
    "sel_.fit(X, y)\n",
    "print(sel_.estimator_.feature_importances_)\n",
    "#Obtener variables seleccionadas\n",
    "X_new = sel_.get_support()\n",
    "\n",
    "df_gb = X.iloc[:,X_new]\n",
    "df_gb.head()"
   ]
  },
  {
   "cell_type": "markdown",
   "metadata": {},
   "source": [
    "## 4. Prueba de Selecciones"
   ]
  },
  {
   "cell_type": "markdown",
   "metadata": {},
   "source": [
    "### 4.1. ANOVA con Regresión Logística"
   ]
  },
  {
   "cell_type": "code",
   "execution_count": 68,
   "metadata": {},
   "outputs": [
    {
     "name": "stdout",
     "output_type": "stream",
     "text": [
      "------------------------------ TRAIN ------------------------------\n",
      "Precision: 0.2591687041564792\n",
      "Recall: 0.6883116883116883\n",
      "Especificidad: 0.6990066225165563\n",
      "F1 score: 0.37655417406749553\n",
      "Train score:  0.6975875933371626\n",
      "------------------------------ TEST ------------------------------\n",
      "Precision : 0.2478386167146974\n",
      "Recall : 0.7478260869565218\n",
      "Especificidad : 0.6547619047619048\n",
      "F1 score : 0.3722943722943723\n",
      "Test score:  0.6670493685419059\n"
     ]
    }
   ],
   "source": [
    "anova_log = funciones.regresionLogistica(df_anova, y)"
   ]
  },
  {
   "cell_type": "markdown",
   "metadata": {},
   "source": [
    "### 4.2. ANOVA con Bosque Aleatorio"
   ]
  },
  {
   "cell_type": "code",
   "execution_count": 69,
   "metadata": {},
   "outputs": [
    {
     "name": "stdout",
     "output_type": "stream",
     "text": [
      "------------------------------ TRAIN ------------------------------\n",
      "Precision: 0.3519736842105263\n",
      "Recall: 0.6948051948051948\n",
      "Especificidad: 0.8043046357615894\n",
      "F1 score: 0.46724890829694327\n",
      "Train score:  0.7897759908098794\n",
      "------------------------------ TEST ------------------------------\n",
      "Precision : 0.312\n",
      "Recall : 0.6782608695652174\n",
      "Especificidad : 0.7724867724867724\n",
      "F1 score : 0.4273972602739726\n",
      "Test score:  0.7600459242250287\n"
     ]
    }
   ],
   "source": [
    "anova_ranfor = funciones.bosqueAleatorio(df_anova, y)"
   ]
  },
  {
   "cell_type": "markdown",
   "metadata": {},
   "source": [
    "### 4.3. Chi2 con Regresión Logística"
   ]
  },
  {
   "cell_type": "code",
   "execution_count": 70,
   "metadata": {},
   "outputs": [
    {
     "name": "stdout",
     "output_type": "stream",
     "text": [
      "------------------------------ TRAIN ------------------------------\n",
      "Precision: 0.25100240577385724\n",
      "Recall: 0.6774891774891775\n",
      "Especificidad: 0.6907284768211921\n",
      "F1 score: 0.366296079578701\n",
      "Train score:  0.6889718552556002\n",
      "------------------------------ TEST ------------------------------\n",
      "Precision : 0.2455621301775148\n",
      "Recall : 0.7217391304347827\n",
      "Especificidad : 0.6626984126984127\n",
      "F1 score : 0.36644591611479027\n",
      "Test score:  0.6704936854190585\n"
     ]
    }
   ],
   "source": [
    "chi2_log = funciones.regresionLogistica(df_chi2, y)"
   ]
  },
  {
   "cell_type": "markdown",
   "metadata": {},
   "source": [
    "### 4.4. Chi2 con Bosque Aleatorio"
   ]
  },
  {
   "cell_type": "code",
   "execution_count": 71,
   "metadata": {},
   "outputs": [
    {
     "name": "stdout",
     "output_type": "stream",
     "text": [
      "------------------------------ TRAIN ------------------------------\n",
      "Precision: 0.40473225404732255\n",
      "Recall: 0.7034632034632035\n",
      "Especificidad: 0.8417218543046358\n",
      "F1 score: 0.5138339920948617\n",
      "Train score:  0.8233773693279725\n",
      "------------------------------ TEST ------------------------------\n",
      "Precision : 0.3521739130434783\n",
      "Recall : 0.7043478260869566\n",
      "Especificidad : 0.8029100529100529\n",
      "F1 score : 0.46956521739130436\n",
      "Test score:  0.7898966704936854\n"
     ]
    }
   ],
   "source": [
    "chi2_log = funciones.bosqueAleatorio(df_chi2, y)"
   ]
  },
  {
   "cell_type": "markdown",
   "metadata": {},
   "source": [
    "### 4.5. RFE Log con Regresión Logística"
   ]
  },
  {
   "cell_type": "code",
   "execution_count": 72,
   "metadata": {},
   "outputs": [
    {
     "name": "stdout",
     "output_type": "stream",
     "text": [
      "------------------------------ TRAIN ------------------------------\n",
      "Precision: 0.25901089689857504\n",
      "Recall: 0.6688311688311688\n",
      "Especificidad: 0.7072847682119205\n",
      "F1 score: 0.3734138972809668\n",
      "Train score:  0.7021826536473291\n",
      "------------------------------ TEST ------------------------------\n",
      "Precision : 0.24477611940298508\n",
      "Recall : 0.7130434782608696\n",
      "Especificidad : 0.6653439153439153\n",
      "F1 score : 0.36444444444444446\n",
      "Test score:  0.6716417910447762\n"
     ]
    }
   ],
   "source": [
    "rfelog_log = funciones.regresionLogistica(df_log, y)"
   ]
  },
  {
   "cell_type": "markdown",
   "metadata": {},
   "source": [
    "### 4.6. RFE Log con Bosque Aleatorio"
   ]
  },
  {
   "cell_type": "code",
   "execution_count": 73,
   "metadata": {},
   "outputs": [
    {
     "name": "stdout",
     "output_type": "stream",
     "text": [
      "------------------------------ TRAIN ------------------------------\n",
      "Precision: 0.33683105981112277\n",
      "Recall: 0.6948051948051948\n",
      "Especificidad: 0.7907284768211921\n",
      "F1 score: 0.45371024734982324\n",
      "Train score:  0.7780011487650775\n",
      "------------------------------ TEST ------------------------------\n",
      "Precision : 0.3082706766917293\n",
      "Recall : 0.7130434782608696\n",
      "Especificidad : 0.7566137566137566\n",
      "F1 score : 0.43044619422572183\n",
      "Test score:  0.7508610792192881\n"
     ]
    }
   ],
   "source": [
    "rfelog_ranfor = funciones.bosqueAleatorio(df_log, y)"
   ]
  },
  {
   "cell_type": "markdown",
   "metadata": {},
   "source": [
    "### 4.7. RFE ranfor con Regresión Logística"
   ]
  },
  {
   "cell_type": "code",
   "execution_count": 74,
   "metadata": {},
   "outputs": [
    {
     "name": "stdout",
     "output_type": "stream",
     "text": [
      "------------------------------ TRAIN ------------------------------\n",
      "Precision: 0.24135280553420446\n",
      "Recall: 0.6796536796536796\n",
      "Especificidad: 0.6731788079470199\n",
      "F1 score: 0.3562110039705048\n",
      "Train score:  0.6740379092475589\n",
      "------------------------------ TEST ------------------------------\n",
      "Precision : 0.23209169054441262\n",
      "Recall : 0.7043478260869566\n",
      "Especificidad : 0.6455026455026455\n",
      "F1 score : 0.34913793103448276\n",
      "Test score:  0.653272101033295\n"
     ]
    }
   ],
   "source": [
    "rferanfor_log = funciones.regresionLogistica(df_ranfor, y)"
   ]
  },
  {
   "cell_type": "markdown",
   "metadata": {},
   "source": [
    "### 4.8. RFE ranfor con Bosque Aleatorio"
   ]
  },
  {
   "cell_type": "code",
   "execution_count": 75,
   "metadata": {},
   "outputs": [
    {
     "name": "stdout",
     "output_type": "stream",
     "text": [
      "------------------------------ TRAIN ------------------------------\n",
      "Precision: 0.4252163164400494\n",
      "Recall: 0.7445887445887446\n",
      "Especificidad: 0.8460264900662252\n",
      "F1 score: 0.5413060582218725\n",
      "Train score:  0.8325674899483055\n",
      "------------------------------ TEST ------------------------------\n",
      "Precision : 0.34977578475336324\n",
      "Recall : 0.6782608695652174\n",
      "Especificidad : 0.8082010582010583\n",
      "F1 score : 0.46153846153846156\n",
      "Test score:  0.7910447761194029\n"
     ]
    }
   ],
   "source": [
    "rferanfor_ranfor = funciones.bosqueAleatorio(df_ranfor, y)"
   ]
  },
  {
   "cell_type": "markdown",
   "metadata": {},
   "source": [
    "### 4.9. SFM ridge con Regresión Logística"
   ]
  },
  {
   "cell_type": "code",
   "execution_count": 76,
   "metadata": {},
   "outputs": [
    {
     "name": "stdout",
     "output_type": "stream",
     "text": [
      "------------------------------ TRAIN ------------------------------\n",
      "Precision: 0.2528041415012942\n",
      "Recall: 0.6341991341991342\n",
      "Especificidad: 0.7132450331125828\n",
      "F1 score: 0.3615052436767427\n",
      "Train score:  0.7027570361861\n",
      "------------------------------ TEST ------------------------------\n",
      "Precision : 0.22254335260115607\n",
      "Recall : 0.6695652173913044\n",
      "Especificidad : 0.6441798941798942\n",
      "F1 score : 0.33405639913232105\n",
      "Test score:  0.6475315729047072\n"
     ]
    }
   ],
   "source": [
    "sfmridge_log = funciones.regresionLogistica(df_ridge, y)"
   ]
  },
  {
   "cell_type": "markdown",
   "metadata": {},
   "source": [
    "### 4.10. SFM ridge con Bosque Aleatorio"
   ]
  },
  {
   "cell_type": "code",
   "execution_count": 77,
   "metadata": {},
   "outputs": [
    {
     "name": "stdout",
     "output_type": "stream",
     "text": [
      "------------------------------ TRAIN ------------------------------\n",
      "Precision: 0.4252163164400494\n",
      "Recall: 0.7445887445887446\n",
      "Especificidad: 0.8460264900662252\n",
      "F1 score: 0.5413060582218725\n",
      "Train score:  0.8325674899483055\n",
      "------------------------------ TEST ------------------------------\n",
      "Precision : 0.34977578475336324\n",
      "Recall : 0.6782608695652174\n",
      "Especificidad : 0.8082010582010583\n",
      "F1 score : 0.46153846153846156\n",
      "Test score:  0.7910447761194029\n"
     ]
    }
   ],
   "source": [
    "sfmridge_ranfor = funciones.bosqueAleatorio(df_ranfor, y)"
   ]
  },
  {
   "cell_type": "markdown",
   "metadata": {},
   "source": [
    "### 4.11. SFM GBC con Regresión Logística"
   ]
  },
  {
   "cell_type": "code",
   "execution_count": 78,
   "metadata": {},
   "outputs": [
    {
     "name": "stdout",
     "output_type": "stream",
     "text": [
      "------------------------------ TRAIN ------------------------------\n",
      "Precision: 0.26578073089701\n",
      "Recall: 0.6926406926406926\n",
      "Especificidad: 0.7072847682119205\n",
      "F1 score: 0.3841536614645858\n",
      "Train score:  0.7053417576105686\n",
      "------------------------------ TEST ------------------------------\n",
      "Precision : 0.2606060606060606\n",
      "Recall : 0.7478260869565218\n",
      "Especificidad : 0.6772486772486772\n",
      "F1 score : 0.3865168539325843\n",
      "Test score:  0.6865671641791045\n"
     ]
    }
   ],
   "source": [
    "sfmgbc_log = funciones.regresionLogistica(df_gb, y)"
   ]
  },
  {
   "cell_type": "markdown",
   "metadata": {},
   "source": [
    "### 4.12. SFM GBC con Bosque Aleatorio"
   ]
  },
  {
   "cell_type": "code",
   "execution_count": 79,
   "metadata": {},
   "outputs": [
    {
     "name": "stdout",
     "output_type": "stream",
     "text": [
      "------------------------------ TRAIN ------------------------------\n",
      "Precision: 0.42805755395683454\n",
      "Recall: 0.7727272727272727\n",
      "Especificidad: 0.8420529801324503\n",
      "F1 score: 0.5509259259259259\n",
      "Train score:  0.832854681217691\n",
      "------------------------------ TEST ------------------------------\n",
      "Precision : 0.35319148936170214\n",
      "Recall : 0.7217391304347827\n",
      "Especificidad : 0.798941798941799\n",
      "F1 score : 0.4742857142857143\n",
      "Test score:  0.7887485648679678\n"
     ]
    }
   ],
   "source": [
    "sfmgbc_ranfor = funciones.bosqueAleatorio(df_gb, y)"
   ]
  },
  {
   "cell_type": "markdown",
   "metadata": {},
   "source": [
    "### 4.13. Todas con Regresión Logística"
   ]
  },
  {
   "cell_type": "code",
   "execution_count": 80,
   "metadata": {},
   "outputs": [
    {
     "name": "stdout",
     "output_type": "stream",
     "text": [
      "------------------------------ TRAIN ------------------------------\n",
      "Precision: 0.2706766917293233\n",
      "Recall: 0.7012987012987013\n",
      "Especificidad: 0.7109271523178808\n",
      "F1 score: 0.39059674502712477\n",
      "Train score:  0.7096496266513498\n",
      "------------------------------ TEST ------------------------------\n",
      "Precision : 0.2484472049689441\n",
      "Recall : 0.6956521739130435\n",
      "Especificidad : 0.6798941798941799\n",
      "F1 score : 0.36613272311212813\n",
      "Test score:  0.6819747416762342\n"
     ]
    }
   ],
   "source": [
    "todas_log = funciones.regresionLogistica(X, y)"
   ]
  },
  {
   "cell_type": "markdown",
   "metadata": {},
   "source": [
    "### 4.14. Todas con Bosque Aleatorio"
   ]
  },
  {
   "cell_type": "code",
   "execution_count": 81,
   "metadata": {},
   "outputs": [
    {
     "name": "stdout",
     "output_type": "stream",
     "text": [
      "------------------------------ TRAIN ------------------------------\n",
      "Precision: 0.4639303482587065\n",
      "Recall: 0.8073593073593074\n",
      "Especificidad: 0.8572847682119206\n",
      "F1 score: 0.5892575039494471\n",
      "Train score:  0.8506605399195865\n",
      "------------------------------ TEST ------------------------------\n",
      "Precision : 0.37264150943396224\n",
      "Recall : 0.6869565217391305\n",
      "Especificidad : 0.8240740740740741\n",
      "F1 score : 0.48318042813455647\n",
      "Test score:  0.8059701492537313\n"
     ]
    }
   ],
   "source": [
    "todas_ranfor = funciones.bosqueAleatorio(X, y)"
   ]
  },
  {
   "cell_type": "markdown",
   "metadata": {},
   "source": [
    "# 5. Exportar Selecciones"
   ]
  },
  {
   "cell_type": "markdown",
   "metadata": {},
   "source": [
    "Se elige la selección SFM GBC con Bosque Aleatorio teniendo en cuenta el recall y el sobreajuste."
   ]
  },
  {
   "cell_type": "code",
   "execution_count": 86,
   "metadata": {},
   "outputs": [
    {
     "name": "stderr",
     "output_type": "stream",
     "text": [
      "C:\\Users\\USUARIO\\AppData\\Local\\Temp\\ipykernel_10088\\2142417405.py:1: SettingWithCopyWarning: \n",
      "A value is trying to be set on a copy of a slice from a DataFrame.\n",
      "Try using .loc[row_indexer,col_indexer] = value instead\n",
      "\n",
      "See the caveats in the documentation: https://pandas.pydata.org/pandas-docs/stable/user_guide/indexing.html#returning-a-view-versus-a-copy\n",
      "  df_gb['target'] = df2['target']\n"
     ]
    }
   ],
   "source": [
    "df_gb['target'] = df2['target']\n",
    "df_gb.to_csv('data/seleccion_gb.csv', index = False)"
   ]
  }
 ],
 "metadata": {
  "kernelspec": {
   "display_name": "entorno",
   "language": "python",
   "name": "python3"
  },
  "language_info": {
   "codemirror_mode": {
    "name": "ipython",
    "version": 3
   },
   "file_extension": ".py",
   "mimetype": "text/x-python",
   "name": "python",
   "nbconvert_exporter": "python",
   "pygments_lexer": "ipython3",
   "version": "3.10.10"
  },
  "orig_nbformat": 4
 },
 "nbformat": 4,
 "nbformat_minor": 2
}
